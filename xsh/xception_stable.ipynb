{
  "nbformat": 4,
  "nbformat_minor": 0,
  "metadata": {
    "colab": {
      "provenance": [],
      "gpuType": "T4"
    },
    "kernelspec": {
      "name": "python3",
      "display_name": "Python 3"
    },
    "language_info": {
      "name": "python"
    },
    "accelerator": "GPU"
  },
  "cells": [
    {
      "cell_type": "code",
      "execution_count": 1,
      "metadata": {
        "id": "pLkSeTofBV0A"
      },
      "outputs": [],
      "source": [
        "import numpy as np\n",
        "import tensorflow as tf\n",
        "from keras.datasets import fashion_mnist\n",
        "from keras.callbacks import ModelCheckpoint, EarlyStopping, LearningRateScheduler, ReduceLROnPlateau"
      ]
    },
    {
      "cell_type": "code",
      "source": [
        "from google.colab import drive\n",
        "drive.mount('/content/drive')"
      ],
      "metadata": {
        "colab": {
          "base_uri": "https://localhost:8080/"
        },
        "id": "Z5Bp-ba1LfXG",
        "outputId": "825a23f1-6c5c-4be0-bdc8-72eca5b96efc"
      },
      "execution_count": 3,
      "outputs": [
        {
          "output_type": "stream",
          "name": "stdout",
          "text": [
            "Drive already mounted at /content/drive; to attempt to forcibly remount, call drive.mount(\"/content/drive\", force_remount=True).\n"
          ]
        }
      ]
    },
    {
      "cell_type": "code",
      "source": [
        "(x_train, y_train), (x_test, y_test) = fashion_mnist.load_data()\n",
        "assert x_train.shape == (60000, 28, 28)\n",
        "assert x_test.shape == (10000, 28, 28)\n",
        "assert y_train.shape == (60000,)\n",
        "assert y_test.shape == (10000,)"
      ],
      "metadata": {
        "colab": {
          "base_uri": "https://localhost:8080/"
        },
        "id": "LLEJbPqCCU7h",
        "outputId": "020baa7e-9bcf-43f5-fe7a-5ab172fa703d"
      },
      "execution_count": 4,
      "outputs": [
        {
          "output_type": "stream",
          "name": "stdout",
          "text": [
            "Downloading data from https://storage.googleapis.com/tensorflow/tf-keras-datasets/train-labels-idx1-ubyte.gz\n",
            "29515/29515 [==============================] - 0s 0us/step\n",
            "Downloading data from https://storage.googleapis.com/tensorflow/tf-keras-datasets/train-images-idx3-ubyte.gz\n",
            "26421880/26421880 [==============================] - 0s 0us/step\n",
            "Downloading data from https://storage.googleapis.com/tensorflow/tf-keras-datasets/t10k-labels-idx1-ubyte.gz\n",
            "5148/5148 [==============================] - 0s 0us/step\n",
            "Downloading data from https://storage.googleapis.com/tensorflow/tf-keras-datasets/t10k-images-idx3-ubyte.gz\n",
            "4422102/4422102 [==============================] - 0s 0us/step\n"
          ]
        }
      ]
    },
    {
      "cell_type": "code",
      "source": [
        "x_train = x_train.astype('float32') / 255\n",
        "x_test = x_test.astype('float32') / 255"
      ],
      "metadata": {
        "id": "qMZy1lOgQ6GU"
      },
      "execution_count": 5,
      "outputs": []
    },
    {
      "cell_type": "code",
      "source": [
        "from sklearn.model_selection import train_test_split\n",
        "X_train_clf, X_val_clf, y_train_clf, y_val_clf = train_test_split(x_train, y_train, test_size=0.2, random_state=42)"
      ],
      "metadata": {
        "id": "6RN38dX_DWoW"
      },
      "execution_count": 6,
      "outputs": []
    },
    {
      "cell_type": "code",
      "source": [
        "y_train_clf_encoded = tf.one_hot(y_train_clf, depth = 10)\n",
        "y_val_clf_encoded = tf.one_hot(y_val_clf, depth = 10)\n",
        "y_test_clf_encoded = tf.one_hot(y_test, depth = 10)"
      ],
      "metadata": {
        "id": "4F6mx64kDj3K"
      },
      "execution_count": 7,
      "outputs": []
    },
    {
      "cell_type": "code",
      "source": [
        "tf.config.list_physical_devices('GPU')"
      ],
      "metadata": {
        "colab": {
          "base_uri": "https://localhost:8080/"
        },
        "id": "i6yg2Q5XCnI4",
        "outputId": "60025ae7-e7d5-49fd-813d-1cfb18aef897"
      },
      "execution_count": 8,
      "outputs": [
        {
          "output_type": "execute_result",
          "data": {
            "text/plain": [
              "[PhysicalDevice(name='/physical_device:GPU:0', device_type='GPU')]"
            ]
          },
          "metadata": {},
          "execution_count": 8
        }
      ]
    },
    {
      "cell_type": "code",
      "source": [
        "# data_augmentation = tf.keras.Sequential(\n",
        "#     [\n",
        "#         tf.keras.layers.RandomFlip(\"vertical\"),\n",
        "#         tf.keras.layers.RandomRotation(0.1),\n",
        "#         tf.keras.layers.RandomZoom(0.1),\n",
        "#     ]\n",
        "# )"
      ],
      "metadata": {
        "id": "AfjsAFLPKA1K"
      },
      "execution_count": 6,
      "outputs": []
    },
    {
      "cell_type": "code",
      "source": [
        "inputs = tf.keras.Input(shape=(28, 28, 1))\n",
        "# x = data_augmentation(inputs)\n",
        "x = inputs\n",
        "\n",
        "x = tf.keras.layers.Conv2D(filters=32, kernel_size=5, use_bias=False)(x)\n",
        "\n",
        "for size in [16, 32, 64, 128, 256, 512, 1024, 2048]:\n",
        "    residual = x\n",
        "\n",
        "    x = tf.keras.layers.BatchNormalization()(x)\n",
        "    x = tf.keras.layers.Activation(\"tanh\")(x)\n",
        "    x = tf.keras.layers.SeparableConv2D(size, 3, padding=\"same\", use_bias=False)(x)\n",
        "\n",
        "    x = tf.keras.layers.BatchNormalization()(x)\n",
        "    x = tf.keras.layers.Activation(\"tanh\")(x)\n",
        "    x = tf.keras.layers.SeparableConv2D(size, 3, padding=\"same\", use_bias=False)(x)\n",
        "\n",
        "    x = tf.keras.layers.MaxPooling2D(3, strides=2, padding=\"same\")(x)\n",
        "\n",
        "    x = tf.keras.layers.BatchNormalization()(x)\n",
        "    x = tf.keras.layers.Activation(\"tanh\")(x)\n",
        "    x = tf.keras.layers.SeparableConv2D(size, 3, padding=\"same\", use_bias=False)(x)\n",
        "\n",
        "    x = tf.keras.layers.BatchNormalization()(x)\n",
        "    x = tf.keras.layers.Activation(\"tanh\")(x)\n",
        "    x = tf.keras.layers.SeparableConv2D(size, 3, padding=\"same\", use_bias=False)(x)\n",
        "\n",
        "\n",
        "    residual = tf.keras.layers.Conv2D(\n",
        "        size, 1, strides=2, padding=\"same\", use_bias=False)(residual)\n",
        "    x = tf.keras.layers.add([x, residual])\n",
        "\n",
        "x = tf.keras.layers.GlobalAveragePooling2D()(x)\n",
        "x = tf.keras.layers.Dropout(0.5)(x)\n",
        "outputs = tf.keras.layers.Dense(10, activation=\"softmax\")(x)\n",
        "clf1 = tf.keras.Model(inputs=inputs, outputs=outputs)"
      ],
      "metadata": {
        "id": "H9S836JNC-mk"
      },
      "execution_count": 9,
      "outputs": []
    },
    {
      "cell_type": "code",
      "source": [
        "# clf1.summary()"
      ],
      "metadata": {
        "id": "bu3NvOmUDNps"
      },
      "execution_count": 8,
      "outputs": []
    },
    {
      "cell_type": "code",
      "source": [
        "callbacks_list = [\n",
        "    EarlyStopping(\n",
        "        monitor=\"val_accuracy\",\n",
        "        patience=5,\n",
        "    ),\n",
        "    ModelCheckpoint(\n",
        "        filepath=\"/content/drive/Shareddrives/ECEN_758_Project/xception.h5\",\n",
        "        monitor=\"val_accuracy\",\n",
        "        save_best_only=True,\n",
        "    )\n",
        "]"
      ],
      "metadata": {
        "id": "5yo0NGSuDTSa"
      },
      "execution_count": 10,
      "outputs": []
    },
    {
      "cell_type": "code",
      "source": [
        "optimizer = tf.keras.optimizers.Adam(\n",
        "    learning_rate=0.001,\n",
        "    beta_1=0.9,\n",
        "    beta_2=0.999,\n",
        "    epsilon=1e-07,\n",
        "    amsgrad=False,\n",
        "    weight_decay=None\n",
        ")"
      ],
      "metadata": {
        "id": "JnwNPr-iEZRm"
      },
      "execution_count": 12,
      "outputs": []
    },
    {
      "cell_type": "code",
      "source": [
        "clf1.compile(loss=\"CategoricalCrossentropy\",\n",
        "              optimizer=optimizer,\n",
        "              metrics=[\"accuracy\", \"Precision\", \"Recall\"])\n",
        "history_clf1 = clf1.fit(\n",
        "    X_train_clf,\n",
        "    y_train_clf_encoded,\n",
        "    epochs=50,\n",
        "    callbacks=callbacks_list,\n",
        "    validation_data=(X_val_clf, y_val_clf_encoded)\n",
        ")"
      ],
      "metadata": {
        "colab": {
          "base_uri": "https://localhost:8080/"
        },
        "id": "3l_14FwnDrfI",
        "outputId": "ba94cd55-d907-41c1-b990-a6791c68c461"
      },
      "execution_count": 13,
      "outputs": [
        {
          "output_type": "stream",
          "name": "stdout",
          "text": [
            "Epoch 1/50\n",
            "1500/1500 [==============================] - ETA: 0s - loss: 0.5896 - accuracy: 0.7963 - precision: 0.8423 - recall: 0.7562"
          ]
        },
        {
          "output_type": "stream",
          "name": "stderr",
          "text": [
            "/usr/local/lib/python3.10/dist-packages/keras/src/engine/training.py:3079: UserWarning: You are saving your model as an HDF5 file via `model.save()`. This file format is considered legacy. We recommend using instead the native Keras format, e.g. `model.save('my_model.keras')`.\n",
            "  saving_api.save_model(\n"
          ]
        },
        {
          "output_type": "stream",
          "name": "stdout",
          "text": [
            "\b\b\b\b\b\b\b\b\b\b\b\b\b\b\b\b\b\b\b\b\b\b\b\b\b\b\b\b\b\b\b\b\b\b\b\b\b\b\b\b\b\b\b\b\b\b\b\b\b\b\b\b\b\b\b\b\b\b\b\b\b\b\b\b\b\b\b\b\b\b\b\b\b\b\b\b\b\b\b\b\b\b\b\b\b\b\b\b\b\b\b\b\b\b\b\b\b\b\b\b\b\b\b\b\b\b\b\b\b\b\b\b\b\b\b\b\b\b\b\b\b\b\b\r1500/1500 [==============================] - 110s 51ms/step - loss: 0.5896 - accuracy: 0.7963 - precision: 0.8423 - recall: 0.7562 - val_loss: 0.4881 - val_accuracy: 0.8414 - val_precision: 0.8608 - val_recall: 0.8237\n",
            "Epoch 2/50\n",
            "1500/1500 [==============================] - 63s 42ms/step - loss: 0.4209 - accuracy: 0.8559 - precision: 0.8829 - recall: 0.8305 - val_loss: 0.4165 - val_accuracy: 0.8515 - val_precision: 0.8850 - val_recall: 0.8202\n",
            "Epoch 3/50\n",
            "1500/1500 [==============================] - 65s 43ms/step - loss: 0.3745 - accuracy: 0.8733 - precision: 0.8955 - recall: 0.8522 - val_loss: 0.4051 - val_accuracy: 0.8648 - val_precision: 0.8851 - val_recall: 0.8469\n",
            "Epoch 4/50\n",
            "1500/1500 [==============================] - 65s 43ms/step - loss: 0.3444 - accuracy: 0.8826 - precision: 0.9020 - recall: 0.8649 - val_loss: 0.3534 - val_accuracy: 0.8815 - val_precision: 0.9065 - val_recall: 0.8610\n",
            "Epoch 5/50\n",
            "1500/1500 [==============================] - 59s 40ms/step - loss: 0.3198 - accuracy: 0.8910 - precision: 0.9089 - recall: 0.8746 - val_loss: 0.3516 - val_accuracy: 0.8776 - val_precision: 0.8946 - val_recall: 0.8608\n",
            "Epoch 6/50\n",
            "1500/1500 [==============================] - 61s 41ms/step - loss: 0.2983 - accuracy: 0.8979 - precision: 0.9132 - recall: 0.8824 - val_loss: 0.3302 - val_accuracy: 0.8888 - val_precision: 0.9104 - val_recall: 0.8695\n",
            "Epoch 7/50\n",
            "1500/1500 [==============================] - 62s 41ms/step - loss: 0.2842 - accuracy: 0.9024 - precision: 0.9182 - recall: 0.8883 - val_loss: 0.3075 - val_accuracy: 0.8924 - val_precision: 0.9117 - val_recall: 0.8761\n",
            "Epoch 8/50\n",
            "1500/1500 [==============================] - 60s 40ms/step - loss: 0.2738 - accuracy: 0.9055 - precision: 0.9203 - recall: 0.8919 - val_loss: 0.3148 - val_accuracy: 0.8929 - val_precision: 0.9060 - val_recall: 0.8800\n",
            "Epoch 9/50\n",
            "1500/1500 [==============================] - 60s 40ms/step - loss: 0.2624 - accuracy: 0.9095 - precision: 0.9227 - recall: 0.8983 - val_loss: 0.3090 - val_accuracy: 0.8937 - val_precision: 0.9071 - val_recall: 0.8838\n",
            "Epoch 10/50\n",
            "1500/1500 [==============================] - 62s 41ms/step - loss: 0.2555 - accuracy: 0.9123 - precision: 0.9256 - recall: 0.9006 - val_loss: 0.3025 - val_accuracy: 0.8969 - val_precision: 0.9165 - val_recall: 0.8796\n",
            "Epoch 11/50\n",
            "1500/1500 [==============================] - 56s 38ms/step - loss: 0.2437 - accuracy: 0.9161 - precision: 0.9285 - recall: 0.9048 - val_loss: 0.3494 - val_accuracy: 0.8870 - val_precision: 0.8998 - val_recall: 0.8775\n",
            "Epoch 12/50\n",
            "1500/1500 [==============================] - 55s 37ms/step - loss: 0.2297 - accuracy: 0.9190 - precision: 0.9309 - recall: 0.9091 - val_loss: 0.3294 - val_accuracy: 0.8918 - val_precision: 0.9053 - val_recall: 0.8828\n",
            "Epoch 13/50\n",
            "1500/1500 [==============================] - 64s 43ms/step - loss: 0.2199 - accuracy: 0.9240 - precision: 0.9343 - recall: 0.9149 - val_loss: 0.3308 - val_accuracy: 0.8988 - val_precision: 0.9096 - val_recall: 0.8891\n",
            "Epoch 14/50\n",
            "1500/1500 [==============================] - 64s 43ms/step - loss: 0.2186 - accuracy: 0.9244 - precision: 0.9344 - recall: 0.9154 - val_loss: 0.2957 - val_accuracy: 0.9006 - val_precision: 0.9115 - val_recall: 0.8921\n",
            "Epoch 15/50\n",
            "1500/1500 [==============================] - 62s 41ms/step - loss: 0.2130 - accuracy: 0.9264 - precision: 0.9361 - recall: 0.9181 - val_loss: 0.2812 - val_accuracy: 0.9060 - val_precision: 0.9169 - val_recall: 0.8963\n",
            "Epoch 16/50\n",
            "1500/1500 [==============================] - 57s 38ms/step - loss: 0.2088 - accuracy: 0.9276 - precision: 0.9367 - recall: 0.9196 - val_loss: 0.2857 - val_accuracy: 0.9058 - val_precision: 0.9157 - val_recall: 0.8985\n",
            "Epoch 17/50\n",
            "1500/1500 [==============================] - 55s 37ms/step - loss: 0.1945 - accuracy: 0.9314 - precision: 0.9409 - recall: 0.9237 - val_loss: 0.3218 - val_accuracy: 0.9060 - val_precision: 0.9165 - val_recall: 0.8985\n",
            "Epoch 18/50\n",
            "1500/1500 [==============================] - 58s 39ms/step - loss: 0.2024 - accuracy: 0.9295 - precision: 0.9378 - recall: 0.9225 - val_loss: 0.3042 - val_accuracy: 0.9028 - val_precision: 0.9139 - val_recall: 0.8946\n",
            "Epoch 19/50\n",
            "1500/1500 [==============================] - 55s 37ms/step - loss: 0.1788 - accuracy: 0.9376 - precision: 0.9454 - recall: 0.9309 - val_loss: 0.3332 - val_accuracy: 0.8908 - val_precision: 0.9050 - val_recall: 0.8813\n",
            "Epoch 20/50\n",
            "1500/1500 [==============================] - 59s 39ms/step - loss: 0.3426 - accuracy: 0.9137 - precision: 0.9231 - recall: 0.9059 - val_loss: 0.2661 - val_accuracy: 0.9105 - val_precision: 0.9222 - val_recall: 0.9022\n",
            "Epoch 21/50\n",
            "1500/1500 [==============================] - 61s 40ms/step - loss: 0.1637 - accuracy: 0.9419 - precision: 0.9492 - recall: 0.9352 - val_loss: 0.2791 - val_accuracy: 0.9131 - val_precision: 0.9202 - val_recall: 0.9061\n",
            "Epoch 22/50\n",
            "1500/1500 [==============================] - 57s 38ms/step - loss: 0.1667 - accuracy: 0.9413 - precision: 0.9482 - recall: 0.9348 - val_loss: 0.2900 - val_accuracy: 0.9078 - val_precision: 0.9169 - val_recall: 0.9029\n",
            "Epoch 23/50\n",
            "1500/1500 [==============================] - 55s 36ms/step - loss: 0.1742 - accuracy: 0.9401 - precision: 0.9473 - recall: 0.9339 - val_loss: 0.2814 - val_accuracy: 0.9110 - val_precision: 0.9217 - val_recall: 0.9036\n",
            "Epoch 24/50\n",
            "1500/1500 [==============================] - 58s 39ms/step - loss: 0.1620 - accuracy: 0.9434 - precision: 0.9498 - recall: 0.9373 - val_loss: 0.3078 - val_accuracy: 0.9069 - val_precision: 0.9165 - val_recall: 0.9012\n",
            "Epoch 25/50\n",
            "1500/1500 [==============================] - 55s 37ms/step - loss: 0.1892 - accuracy: 0.9367 - precision: 0.9435 - recall: 0.9310 - val_loss: 0.2969 - val_accuracy: 0.9109 - val_precision: 0.9188 - val_recall: 0.9053\n",
            "Epoch 26/50\n",
            "1500/1500 [==============================] - 55s 37ms/step - loss: 0.1510 - accuracy: 0.9468 - precision: 0.9528 - recall: 0.9418 - val_loss: 0.3194 - val_accuracy: 0.9049 - val_precision: 0.9127 - val_recall: 0.8997\n"
          ]
        }
      ]
    },
    {
      "cell_type": "code",
      "source": [
        "xception = tf.keras.saving.load_model('/content/drive/Shareddrives/ECEN_758_Project/xception_stable.h5')"
      ],
      "metadata": {
        "id": "vIHZIJNLz8hA"
      },
      "execution_count": 2,
      "outputs": []
    },
    {
      "cell_type": "code",
      "source": [
        "test_loss, test_acc, test_precision, test_recall = xception.evaluate(x_test, y_test_clf_encoded)\n",
        "your_score = round(test_acc*1000) / 10\n",
        "print(f\"Your Score: {your_score}\")"
      ],
      "metadata": {
        "colab": {
          "base_uri": "https://localhost:8080/"
        },
        "id": "xiID3bdz0OPU",
        "outputId": "354c282f-0bf9-4dc2-a0bc-366755ec091a"
      },
      "execution_count": 13,
      "outputs": [
        {
          "output_type": "stream",
          "name": "stdout",
          "text": [
            "313/313 [==============================] - 4s 13ms/step - loss: 0.2964 - accuracy: 0.9042 - precision: 0.9135 - recall: 0.8994\n",
            "Your Score: 90.4\n"
          ]
        }
      ]
    }
  ]
}