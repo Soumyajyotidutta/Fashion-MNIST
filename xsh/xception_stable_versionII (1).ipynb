{
  "nbformat": 4,
  "nbformat_minor": 0,
  "metadata": {
    "colab": {
      "provenance": [],
      "gpuType": "T4",
      "collapsed_sections": [
        "yMQqsMCkFlKI"
      ]
    },
    "kernelspec": {
      "name": "python3",
      "display_name": "Python 3"
    },
    "language_info": {
      "name": "python"
    },
    "accelerator": "GPU"
  },
  "cells": [
    {
      "cell_type": "code",
      "execution_count": null,
      "metadata": {
        "id": "pLkSeTofBV0A"
      },
      "outputs": [],
      "source": [
        "import pickle\n",
        "import numpy as np\n",
        "import pandas as pd\n",
        "import tensorflow as tf\n",
        "import matplotlib.pyplot as plt\n",
        "from xgboost import XGBClassifier\n",
        "from keras.datasets import fashion_mnist\n",
        "from sklearn.metrics import ConfusionMatrixDisplay, classification_report\n",
        "from keras.callbacks import ModelCheckpoint, EarlyStopping, LearningRateScheduler, ReduceLROnPlateau"
      ]
    },
    {
      "cell_type": "code",
      "source": [
        "from google.colab import drive\n",
        "drive.mount('/content/drive')\n",
        "\n",
        "basepath = '/content/drive/Shareddrives/ECEN_758_Project'\n",
        "traindata = pd.read_csv(basepath + '/blob/fashion-mnist_train.csv')\n",
        "testdata = pd.read_csv(basepath + '/blob/fashion-mnist_test.csv')"
      ],
      "metadata": {
        "colab": {
          "base_uri": "https://localhost:8080/"
        },
        "id": "Z5Bp-ba1LfXG",
        "outputId": "50156e35-4ea7-4306-dd7d-5ac4d1902d32"
      },
      "execution_count": null,
      "outputs": [
        {
          "output_type": "stream",
          "name": "stdout",
          "text": [
            "Mounted at /content/drive\n"
          ]
        }
      ]
    },
    {
      "cell_type": "code",
      "source": [
        "def getlabels(data):\n",
        "\n",
        "  labelsarray = np.unique(data['label'])\n",
        "  typesarray = ['T-shirt/top', 'Trouser', 'Pullover', 'Dress', 'Coat', 'Sandal', 'Shirt', 'Sneaker', 'Bag', 'Ankle boot']\n",
        "  labels_info = {}\n",
        "  for i in labelsarray:\n",
        "    labels_info.update({i: typesarray[i]})\n",
        "\n",
        "  labels = data['label']\n",
        "\n",
        "  return labels, labels_info"
      ],
      "metadata": {
        "id": "Hx30dj8bNjiX"
      },
      "execution_count": null,
      "outputs": []
    },
    {
      "cell_type": "code",
      "source": [
        "train_labels, labels_info = getlabels(traindata)\n",
        "test_labels, _ = getlabels(testdata)"
      ],
      "metadata": {
        "id": "8gHsoQAwNpoh"
      },
      "execution_count": null,
      "outputs": []
    },
    {
      "cell_type": "code",
      "source": [
        "(x_train, y_train), (x_test, y_test) = fashion_mnist.load_data()\n",
        "assert x_train.shape == (60000, 28, 28)\n",
        "assert x_test.shape == (10000, 28, 28)\n",
        "assert y_train.shape == (60000,)\n",
        "assert y_test.shape == (10000,)"
      ],
      "metadata": {
        "colab": {
          "base_uri": "https://localhost:8080/"
        },
        "id": "LLEJbPqCCU7h",
        "outputId": "dd4009fe-e131-4b63-d46c-47b6305c0f8b"
      },
      "execution_count": null,
      "outputs": [
        {
          "output_type": "stream",
          "name": "stdout",
          "text": [
            "Downloading data from https://storage.googleapis.com/tensorflow/tf-keras-datasets/train-labels-idx1-ubyte.gz\n",
            "29515/29515 [==============================] - 0s 0us/step\n",
            "Downloading data from https://storage.googleapis.com/tensorflow/tf-keras-datasets/train-images-idx3-ubyte.gz\n",
            "26421880/26421880 [==============================] - 0s 0us/step\n",
            "Downloading data from https://storage.googleapis.com/tensorflow/tf-keras-datasets/t10k-labels-idx1-ubyte.gz\n",
            "5148/5148 [==============================] - 0s 0us/step\n",
            "Downloading data from https://storage.googleapis.com/tensorflow/tf-keras-datasets/t10k-images-idx3-ubyte.gz\n",
            "4422102/4422102 [==============================] - 0s 0us/step\n"
          ]
        }
      ]
    },
    {
      "cell_type": "code",
      "source": [
        "x_train = x_train.astype('float32') / 255\n",
        "x_test = x_test.astype('float32') / 255"
      ],
      "metadata": {
        "id": "qMZy1lOgQ6GU"
      },
      "execution_count": null,
      "outputs": []
    },
    {
      "cell_type": "code",
      "source": [
        "from sklearn.model_selection import train_test_split\n",
        "X_train_clf, X_val_clf, y_train_clf, y_val_clf = train_test_split(x_train, y_train, test_size=0.2, random_state=42)"
      ],
      "metadata": {
        "id": "6RN38dX_DWoW"
      },
      "execution_count": null,
      "outputs": []
    },
    {
      "cell_type": "code",
      "source": [
        "y_train_clf_encoded = tf.one_hot(y_train_clf, depth = 10)\n",
        "y_val_clf_encoded = tf.one_hot(y_val_clf, depth = 10)\n",
        "y_test_clf_encoded = tf.one_hot(y_test, depth = 10)"
      ],
      "metadata": {
        "id": "4F6mx64kDj3K"
      },
      "execution_count": null,
      "outputs": []
    },
    {
      "cell_type": "code",
      "source": [
        "X_train_rf = X_train_clf.reshape(len(X_train_clf), 784)\n",
        "X_val_rf = X_val_clf.reshape(len(X_val_clf), 784)\n",
        "X_test_rf = x_test.reshape(len(x_test), 784)"
      ],
      "metadata": {
        "id": "ZkTWPjRm4yfw"
      },
      "execution_count": null,
      "outputs": []
    },
    {
      "cell_type": "code",
      "source": [
        "tf.config.list_physical_devices('GPU')"
      ],
      "metadata": {
        "colab": {
          "base_uri": "https://localhost:8080/"
        },
        "id": "i6yg2Q5XCnI4",
        "outputId": "84fc01d4-edb2-4030-eb27-1dc4db013d55"
      },
      "execution_count": null,
      "outputs": [
        {
          "output_type": "execute_result",
          "data": {
            "text/plain": [
              "[PhysicalDevice(name='/physical_device:GPU:0', device_type='GPU')]"
            ]
          },
          "metadata": {},
          "execution_count": 10
        }
      ]
    },
    {
      "cell_type": "markdown",
      "source": [
        "#### Xception"
      ],
      "metadata": {
        "id": "1aA6qnhCMJ0C"
      }
    },
    {
      "cell_type": "code",
      "source": [
        "# data_augmentation = tf.keras.Sequential(\n",
        "#     [\n",
        "#         tf.keras.layers.RandomFlip(\"vertical\"),\n",
        "#         tf.keras.layers.RandomRotation(0.1),\n",
        "#         tf.keras.layers.RandomZoom(0.1),\n",
        "#     ]\n",
        "# )"
      ],
      "metadata": {
        "id": "AfjsAFLPKA1K"
      },
      "execution_count": null,
      "outputs": []
    },
    {
      "cell_type": "code",
      "source": [
        "inputs = tf.keras.Input(shape=(28, 28, 1))\n",
        "# x = data_augmentation(inputs)\n",
        "x = inputs\n",
        "\n",
        "x = tf.keras.layers.Conv2D(filters=32, kernel_size=5, use_bias=False)(x)\n",
        "\n",
        "for size in [16, 32, 64, 128, 256, 512, 1024, 2048]:\n",
        "    residual = x\n",
        "\n",
        "    x = tf.keras.layers.BatchNormalization()(x)\n",
        "    x = tf.keras.layers.Activation(\"tanh\")(x)\n",
        "    x = tf.keras.layers.SeparableConv2D(size, 3, padding=\"same\", use_bias=False)(x)\n",
        "\n",
        "    x = tf.keras.layers.BatchNormalization()(x)\n",
        "    x = tf.keras.layers.Activation(\"tanh\")(x)\n",
        "    x = tf.keras.layers.SeparableConv2D(size, 3, padding=\"same\", use_bias=False)(x)\n",
        "\n",
        "    x = tf.keras.layers.MaxPooling2D(3, strides=2, padding=\"same\")(x)\n",
        "\n",
        "    x = tf.keras.layers.BatchNormalization()(x)\n",
        "    x = tf.keras.layers.Activation(\"tanh\")(x)\n",
        "    x = tf.keras.layers.SeparableConv2D(size, 3, padding=\"same\", use_bias=False)(x)\n",
        "\n",
        "    x = tf.keras.layers.BatchNormalization()(x)\n",
        "    x = tf.keras.layers.Activation(\"tanh\")(x)\n",
        "    x = tf.keras.layers.SeparableConv2D(size, 3, padding=\"same\", use_bias=False)(x)\n",
        "\n",
        "\n",
        "    residual = tf.keras.layers.Conv2D(\n",
        "        size, 1, strides=2, padding=\"same\", use_bias=False)(residual)\n",
        "    x = tf.keras.layers.add([x, residual])\n",
        "\n",
        "x = tf.keras.layers.GlobalAveragePooling2D()(x)\n",
        "x = tf.keras.layers.Dropout(0.5)(x)\n",
        "outputs = tf.keras.layers.Dense(10, activation=\"softmax\")(x)\n",
        "clf1 = tf.keras.Model(inputs=inputs, outputs=outputs)"
      ],
      "metadata": {
        "id": "IzPpYf-xfdis"
      },
      "execution_count": null,
      "outputs": []
    },
    {
      "cell_type": "code",
      "source": [
        "optimizer = tf.keras.optimizers.Adam(\n",
        "    learning_rate=0.001,\n",
        "    beta_1=0.9,\n",
        "    beta_2=0.999,\n",
        "    epsilon=1e-10,\n",
        "    amsgrad=False,\n",
        "    weight_decay=None\n",
        ")"
      ],
      "metadata": {
        "id": "r1QHCQ-Lkwyi"
      },
      "execution_count": null,
      "outputs": []
    },
    {
      "cell_type": "code",
      "source": [
        "callbacks_list = [\n",
        "    ReduceLROnPlateau(\n",
        "        monitor=\"val_loss\",\n",
        "        factor=0.001,\n",
        "        patience=5,\n",
        "        verbose=0,\n",
        "        mode=\"auto\",\n",
        "        min_delta=0.00001,\n",
        "        cooldown=0,\n",
        "        min_lr=0,\n",
        "    ),\n",
        "    EarlyStopping(\n",
        "        monitor=\"val_accuracy\",\n",
        "        patience=25,\n",
        "    ),\n",
        "    ModelCheckpoint(\n",
        "        filepath=\"/content/drive/Shareddrives/ECEN_758_Project/xception_stable_III.h5\",\n",
        "        monitor=\"val_accuracy\",\n",
        "        save_best_only=True,\n",
        "    )\n",
        "]"
      ],
      "metadata": {
        "id": "fZ-FLGtyfrhP"
      },
      "execution_count": null,
      "outputs": []
    },
    {
      "cell_type": "code",
      "source": [
        "clf1.compile(loss=\"CategoricalCrossentropy\",\n",
        "              optimizer=optimizer,\n",
        "              metrics=[\"accuracy\", \"Precision\", \"Recall\"])\n",
        "history_clf1 = clf1.fit(\n",
        "    X_train_clf,\n",
        "    y_train_clf_encoded,\n",
        "    epochs=250,\n",
        "    batch_size=64,\n",
        "    callbacks=callbacks_list,\n",
        "    validation_data=(X_val_clf, y_val_clf_encoded)\n",
        ")"
      ],
      "metadata": {
        "colab": {
          "base_uri": "https://localhost:8080/"
        },
        "id": "F9y1aEstkssK",
        "outputId": "bf5b4ca0-fdaf-4c56-a8e4-84c4f48890c7"
      },
      "execution_count": null,
      "outputs": [
        {
          "output_type": "stream",
          "name": "stdout",
          "text": [
            "Epoch 1/250\n",
            "750/750 [==============================] - ETA: 0s - loss: 0.5499 - accuracy: 0.8079 - precision: 0.8517 - recall: 0.7706"
          ]
        },
        {
          "output_type": "stream",
          "name": "stderr",
          "text": [
            "/usr/local/lib/python3.10/dist-packages/keras/src/engine/training.py:3079: UserWarning: You are saving your model as an HDF5 file via `model.save()`. This file format is considered legacy. We recommend using instead the native Keras format, e.g. `model.save('my_model.keras')`.\n",
            "  saving_api.save_model(\n"
          ]
        },
        {
          "output_type": "stream",
          "name": "stdout",
          "text": [
            "\b\b\b\b\b\b\b\b\b\b\b\b\b\b\b\b\b\b\b\b\b\b\b\b\b\b\b\b\b\b\b\b\b\b\b\b\b\b\b\b\b\b\b\b\b\b\b\b\b\b\b\b\b\b\b\b\b\b\b\b\b\b\b\b\b\b\b\b\b\b\b\b\b\b\b\b\b\b\b\b\b\b\b\b\b\b\b\b\b\b\b\b\b\b\b\b\b\b\b\b\b\b\b\b\b\b\b\b\b\b\b\b\b\b\b\b\b\b\b\b\b\r750/750 [==============================] - 78s 61ms/step - loss: 0.5499 - accuracy: 0.8079 - precision: 0.8517 - recall: 0.7706 - val_loss: 0.4164 - val_accuracy: 0.8522 - val_precision: 0.8801 - val_recall: 0.8292 - lr: 0.0010\n",
            "Epoch 2/250\n",
            "750/750 [==============================] - 42s 56ms/step - loss: 0.3911 - accuracy: 0.8638 - precision: 0.8876 - recall: 0.8439 - val_loss: 0.3898 - val_accuracy: 0.8637 - val_precision: 0.8817 - val_recall: 0.8506 - lr: 0.0010\n",
            "Epoch 3/250\n",
            "750/750 [==============================] - 45s 60ms/step - loss: 0.3396 - accuracy: 0.8833 - precision: 0.9024 - recall: 0.8667 - val_loss: 0.3429 - val_accuracy: 0.8833 - val_precision: 0.9045 - val_recall: 0.8622 - lr: 0.0010\n",
            "Epoch 4/250\n",
            "750/750 [==============================] - 36s 48ms/step - loss: 0.3098 - accuracy: 0.8939 - precision: 0.9101 - recall: 0.8789 - val_loss: 0.3582 - val_accuracy: 0.8816 - val_precision: 0.8965 - val_recall: 0.8694 - lr: 0.0010\n",
            "Epoch 5/250\n",
            "750/750 [==============================] - 43s 58ms/step - loss: 0.2967 - accuracy: 0.8968 - precision: 0.9135 - recall: 0.8833 - val_loss: 0.3274 - val_accuracy: 0.8876 - val_precision: 0.9052 - val_recall: 0.8740 - lr: 0.0010\n",
            "Epoch 6/250\n",
            "750/750 [==============================] - 36s 48ms/step - loss: 0.2772 - accuracy: 0.9044 - precision: 0.9186 - recall: 0.8924 - val_loss: 0.3198 - val_accuracy: 0.8869 - val_precision: 0.9015 - val_recall: 0.8742 - lr: 0.0010\n",
            "Epoch 7/250\n",
            "750/750 [==============================] - 36s 48ms/step - loss: 0.2580 - accuracy: 0.9101 - precision: 0.9228 - recall: 0.8991 - val_loss: 0.3684 - val_accuracy: 0.8817 - val_precision: 0.8964 - val_recall: 0.8715 - lr: 0.0010\n",
            "Epoch 8/250\n",
            "750/750 [==============================] - 44s 59ms/step - loss: 0.2456 - accuracy: 0.9151 - precision: 0.9267 - recall: 0.9054 - val_loss: 0.3210 - val_accuracy: 0.8922 - val_precision: 0.9057 - val_recall: 0.8825 - lr: 0.0010\n",
            "Epoch 9/250\n",
            "750/750 [==============================] - 37s 49ms/step - loss: 0.2344 - accuracy: 0.9179 - precision: 0.9290 - recall: 0.9086 - val_loss: 0.3337 - val_accuracy: 0.8831 - val_precision: 0.8987 - val_recall: 0.8727 - lr: 0.0010\n",
            "Epoch 10/250\n",
            "750/750 [==============================] - 44s 58ms/step - loss: 0.2247 - accuracy: 0.9213 - precision: 0.9322 - recall: 0.9124 - val_loss: 0.3163 - val_accuracy: 0.8947 - val_precision: 0.9096 - val_recall: 0.8832 - lr: 0.0010\n",
            "Epoch 11/250\n",
            "750/750 [==============================] - 42s 56ms/step - loss: 0.2122 - accuracy: 0.9258 - precision: 0.9356 - recall: 0.9172 - val_loss: 0.3062 - val_accuracy: 0.8987 - val_precision: 0.9120 - val_recall: 0.8901 - lr: 0.0010\n",
            "Epoch 12/250\n",
            "750/750 [==============================] - 37s 49ms/step - loss: 0.2051 - accuracy: 0.9284 - precision: 0.9378 - recall: 0.9209 - val_loss: 0.3185 - val_accuracy: 0.8948 - val_precision: 0.9069 - val_recall: 0.8866 - lr: 0.0010\n",
            "Epoch 13/250\n",
            "750/750 [==============================] - 43s 58ms/step - loss: 0.2027 - accuracy: 0.9290 - precision: 0.9376 - recall: 0.9217 - val_loss: 0.2884 - val_accuracy: 0.9062 - val_precision: 0.9167 - val_recall: 0.8992 - lr: 0.0010\n",
            "Epoch 14/250\n",
            "750/750 [==============================] - 37s 49ms/step - loss: 0.1931 - accuracy: 0.9316 - precision: 0.9404 - recall: 0.9241 - val_loss: 0.2961 - val_accuracy: 0.9013 - val_precision: 0.9124 - val_recall: 0.8925 - lr: 0.0010\n",
            "Epoch 15/250\n",
            "750/750 [==============================] - 44s 58ms/step - loss: 0.1781 - accuracy: 0.9379 - precision: 0.9446 - recall: 0.9310 - val_loss: 0.2972 - val_accuracy: 0.9093 - val_precision: 0.9156 - val_recall: 0.9036 - lr: 0.0010\n",
            "Epoch 16/250\n",
            "750/750 [==============================] - 38s 50ms/step - loss: 0.1801 - accuracy: 0.9373 - precision: 0.9442 - recall: 0.9307 - val_loss: 0.3256 - val_accuracy: 0.8988 - val_precision: 0.9089 - val_recall: 0.8907 - lr: 0.0010\n",
            "Epoch 17/250\n",
            "750/750 [==============================] - 37s 49ms/step - loss: 0.1676 - accuracy: 0.9410 - precision: 0.9487 - recall: 0.9354 - val_loss: 0.3159 - val_accuracy: 0.9023 - val_precision: 0.9106 - val_recall: 0.8942 - lr: 0.0010\n",
            "Epoch 18/250\n",
            "750/750 [==============================] - 37s 50ms/step - loss: 0.1679 - accuracy: 0.9417 - precision: 0.9479 - recall: 0.9367 - val_loss: 0.3075 - val_accuracy: 0.9028 - val_precision: 0.9117 - val_recall: 0.8978 - lr: 0.0010\n",
            "Epoch 19/250\n",
            "750/750 [==============================] - 38s 51ms/step - loss: 0.1541 - accuracy: 0.9461 - precision: 0.9512 - recall: 0.9415 - val_loss: 0.3411 - val_accuracy: 0.9026 - val_precision: 0.9100 - val_recall: 0.8974 - lr: 0.0010\n",
            "Epoch 20/250\n",
            "750/750 [==============================] - 37s 50ms/step - loss: 0.1555 - accuracy: 0.9456 - precision: 0.9513 - recall: 0.9408 - val_loss: 0.3455 - val_accuracy: 0.8958 - val_precision: 0.9024 - val_recall: 0.8911 - lr: 0.0010\n",
            "Epoch 21/250\n",
            "750/750 [==============================] - 36s 49ms/step - loss: 0.1487 - accuracy: 0.9486 - precision: 0.9535 - recall: 0.9444 - val_loss: 0.3391 - val_accuracy: 0.8958 - val_precision: 0.9054 - val_recall: 0.8878 - lr: 0.0010\n",
            "Epoch 22/250\n",
            "750/750 [==============================] - 36s 48ms/step - loss: 0.1342 - accuracy: 0.9528 - precision: 0.9575 - recall: 0.9487 - val_loss: 0.3884 - val_accuracy: 0.8874 - val_precision: 0.8947 - val_recall: 0.8833 - lr: 0.0010\n",
            "Epoch 23/250\n",
            "750/750 [==============================] - 36s 49ms/step - loss: 0.1432 - accuracy: 0.9503 - precision: 0.9545 - recall: 0.9462 - val_loss: 0.3569 - val_accuracy: 0.9040 - val_precision: 0.9106 - val_recall: 0.9003 - lr: 0.0010\n",
            "Epoch 24/250\n",
            "750/750 [==============================] - 47s 63ms/step - loss: 0.0903 - accuracy: 0.9676 - precision: 0.9708 - recall: 0.9651 - val_loss: 0.3042 - val_accuracy: 0.9143 - val_precision: 0.9207 - val_recall: 0.9104 - lr: 1.0000e-05\n",
            "Epoch 25/250\n",
            "750/750 [==============================] - 44s 59ms/step - loss: 0.0721 - accuracy: 0.9750 - precision: 0.9774 - recall: 0.9730 - val_loss: 0.3045 - val_accuracy: 0.9159 - val_precision: 0.9213 - val_recall: 0.9117 - lr: 1.0000e-05\n",
            "Epoch 26/250\n",
            "750/750 [==============================] - 38s 50ms/step - loss: 0.0631 - accuracy: 0.9782 - precision: 0.9803 - recall: 0.9764 - val_loss: 0.3086 - val_accuracy: 0.9154 - val_precision: 0.9201 - val_recall: 0.9120 - lr: 1.0000e-05\n",
            "Epoch 27/250\n",
            "750/750 [==============================] - 36s 48ms/step - loss: 0.0561 - accuracy: 0.9807 - precision: 0.9823 - recall: 0.9790 - val_loss: 0.3154 - val_accuracy: 0.9159 - val_precision: 0.9209 - val_recall: 0.9129 - lr: 1.0000e-05\n",
            "Epoch 28/250\n",
            "750/750 [==============================] - 36s 48ms/step - loss: 0.0517 - accuracy: 0.9824 - precision: 0.9839 - recall: 0.9810 - val_loss: 0.3221 - val_accuracy: 0.9156 - val_precision: 0.9207 - val_recall: 0.9137 - lr: 1.0000e-05\n",
            "Epoch 29/250\n",
            "750/750 [==============================] - 45s 60ms/step - loss: 0.0461 - accuracy: 0.9842 - precision: 0.9856 - recall: 0.9830 - val_loss: 0.3317 - val_accuracy: 0.9164 - val_precision: 0.9206 - val_recall: 0.9138 - lr: 1.0000e-05\n",
            "Epoch 30/250\n",
            "750/750 [==============================] - 47s 62ms/step - loss: 0.0429 - accuracy: 0.9857 - precision: 0.9868 - recall: 0.9847 - val_loss: 0.3400 - val_accuracy: 0.9172 - val_precision: 0.9207 - val_recall: 0.9152 - lr: 1.0000e-05\n",
            "Epoch 31/250\n",
            "750/750 [==============================] - 37s 50ms/step - loss: 0.0388 - accuracy: 0.9875 - precision: 0.9883 - recall: 0.9867 - val_loss: 0.3487 - val_accuracy: 0.9171 - val_precision: 0.9206 - val_recall: 0.9153 - lr: 1.0000e-05\n",
            "Epoch 32/250\n",
            "750/750 [==============================] - 42s 56ms/step - loss: 0.0363 - accuracy: 0.9879 - precision: 0.9886 - recall: 0.9870 - val_loss: 0.3576 - val_accuracy: 0.9178 - val_precision: 0.9211 - val_recall: 0.9162 - lr: 1.0000e-05\n",
            "Epoch 33/250\n",
            "750/750 [==============================] - 38s 51ms/step - loss: 0.0336 - accuracy: 0.9892 - precision: 0.9898 - recall: 0.9883 - val_loss: 0.3672 - val_accuracy: 0.9178 - val_precision: 0.9202 - val_recall: 0.9162 - lr: 1.0000e-05\n",
            "Epoch 34/250\n",
            "750/750 [==============================] - 44s 58ms/step - loss: 0.0309 - accuracy: 0.9903 - precision: 0.9907 - recall: 0.9898 - val_loss: 0.3673 - val_accuracy: 0.9180 - val_precision: 0.9206 - val_recall: 0.9165 - lr: 1.0000e-07\n",
            "Epoch 35/250\n",
            "750/750 [==============================] - 47s 62ms/step - loss: 0.0313 - accuracy: 0.9899 - precision: 0.9906 - recall: 0.9894 - val_loss: 0.3674 - val_accuracy: 0.9181 - val_precision: 0.9206 - val_recall: 0.9165 - lr: 1.0000e-07\n",
            "Epoch 36/250\n",
            "750/750 [==============================] - 38s 51ms/step - loss: 0.0316 - accuracy: 0.9895 - precision: 0.9902 - recall: 0.9890 - val_loss: 0.3684 - val_accuracy: 0.9180 - val_precision: 0.9205 - val_recall: 0.9164 - lr: 1.0000e-07\n",
            "Epoch 37/250\n",
            "750/750 [==============================] - 43s 57ms/step - loss: 0.0313 - accuracy: 0.9895 - precision: 0.9902 - recall: 0.9889 - val_loss: 0.3677 - val_accuracy: 0.9183 - val_precision: 0.9207 - val_recall: 0.9167 - lr: 1.0000e-07\n",
            "Epoch 38/250\n",
            "750/750 [==============================] - 37s 50ms/step - loss: 0.0316 - accuracy: 0.9898 - precision: 0.9904 - recall: 0.9891 - val_loss: 0.3681 - val_accuracy: 0.9178 - val_precision: 0.9201 - val_recall: 0.9161 - lr: 1.0000e-07\n",
            "Epoch 39/250\n",
            "750/750 [==============================] - 36s 48ms/step - loss: 0.0313 - accuracy: 0.9898 - precision: 0.9903 - recall: 0.9892 - val_loss: 0.3677 - val_accuracy: 0.9182 - val_precision: 0.9204 - val_recall: 0.9168 - lr: 1.0000e-07\n",
            "Epoch 40/250\n",
            "750/750 [==============================] - 37s 49ms/step - loss: 0.0306 - accuracy: 0.9902 - precision: 0.9909 - recall: 0.9894 - val_loss: 0.3680 - val_accuracy: 0.9179 - val_precision: 0.9206 - val_recall: 0.9164 - lr: 1.0000e-07\n",
            "Epoch 41/250\n",
            "750/750 [==============================] - 36s 48ms/step - loss: 0.0310 - accuracy: 0.9903 - precision: 0.9910 - recall: 0.9896 - val_loss: 0.3682 - val_accuracy: 0.9181 - val_precision: 0.9203 - val_recall: 0.9162 - lr: 1.0000e-07\n",
            "Epoch 42/250\n",
            "750/750 [==============================] - 37s 49ms/step - loss: 0.0316 - accuracy: 0.9896 - precision: 0.9902 - recall: 0.9890 - val_loss: 0.3681 - val_accuracy: 0.9179 - val_precision: 0.9204 - val_recall: 0.9163 - lr: 1.0000e-07\n",
            "Epoch 43/250\n",
            "750/750 [==============================] - 37s 50ms/step - loss: 0.0309 - accuracy: 0.9897 - precision: 0.9904 - recall: 0.9891 - val_loss: 0.3688 - val_accuracy: 0.9178 - val_precision: 0.9202 - val_recall: 0.9162 - lr: 1.0000e-07\n",
            "Epoch 44/250\n",
            "750/750 [==============================] - 38s 50ms/step - loss: 0.0309 - accuracy: 0.9900 - precision: 0.9905 - recall: 0.9895 - val_loss: 0.3688 - val_accuracy: 0.9183 - val_precision: 0.9203 - val_recall: 0.9163 - lr: 1.0000e-09\n",
            "Epoch 45/250\n",
            "750/750 [==============================] - 37s 50ms/step - loss: 0.0307 - accuracy: 0.9899 - precision: 0.9905 - recall: 0.9893 - val_loss: 0.3686 - val_accuracy: 0.9180 - val_precision: 0.9203 - val_recall: 0.9161 - lr: 1.0000e-09\n",
            "Epoch 46/250\n",
            "750/750 [==============================] - 37s 49ms/step - loss: 0.0307 - accuracy: 0.9904 - precision: 0.9912 - recall: 0.9897 - val_loss: 0.3682 - val_accuracy: 0.9178 - val_precision: 0.9203 - val_recall: 0.9163 - lr: 1.0000e-09\n",
            "Epoch 47/250\n",
            "750/750 [==============================] - 36s 49ms/step - loss: 0.0313 - accuracy: 0.9898 - precision: 0.9903 - recall: 0.9892 - val_loss: 0.3686 - val_accuracy: 0.9178 - val_precision: 0.9200 - val_recall: 0.9162 - lr: 1.0000e-09\n",
            "Epoch 48/250\n",
            "750/750 [==============================] - 37s 50ms/step - loss: 0.0308 - accuracy: 0.9905 - precision: 0.9911 - recall: 0.9899 - val_loss: 0.3686 - val_accuracy: 0.9179 - val_precision: 0.9207 - val_recall: 0.9162 - lr: 1.0000e-09\n",
            "Epoch 49/250\n",
            "750/750 [==============================] - 37s 49ms/step - loss: 0.0314 - accuracy: 0.9896 - precision: 0.9904 - recall: 0.9888 - val_loss: 0.3686 - val_accuracy: 0.9178 - val_precision: 0.9205 - val_recall: 0.9161 - lr: 1.0000e-09\n",
            "Epoch 50/250\n",
            "750/750 [==============================] - 37s 49ms/step - loss: 0.0309 - accuracy: 0.9900 - precision: 0.9908 - recall: 0.9894 - val_loss: 0.3688 - val_accuracy: 0.9180 - val_precision: 0.9201 - val_recall: 0.9163 - lr: 1.0000e-09\n",
            "Epoch 51/250\n",
            "750/750 [==============================] - 37s 49ms/step - loss: 0.0308 - accuracy: 0.9899 - precision: 0.9904 - recall: 0.9893 - val_loss: 0.3689 - val_accuracy: 0.9180 - val_precision: 0.9205 - val_recall: 0.9161 - lr: 1.0000e-09\n",
            "Epoch 52/250\n",
            "750/750 [==============================] - 36s 49ms/step - loss: 0.0318 - accuracy: 0.9898 - precision: 0.9902 - recall: 0.9890 - val_loss: 0.3683 - val_accuracy: 0.9180 - val_precision: 0.9206 - val_recall: 0.9164 - lr: 1.0000e-09\n",
            "Epoch 53/250\n",
            "750/750 [==============================] - 36s 48ms/step - loss: 0.0307 - accuracy: 0.9901 - precision: 0.9908 - recall: 0.9896 - val_loss: 0.3685 - val_accuracy: 0.9180 - val_precision: 0.9205 - val_recall: 0.9162 - lr: 1.0000e-09\n",
            "Epoch 54/250\n",
            "750/750 [==============================] - 42s 57ms/step - loss: 0.0307 - accuracy: 0.9902 - precision: 0.9908 - recall: 0.9896 - val_loss: 0.3680 - val_accuracy: 0.9184 - val_precision: 0.9208 - val_recall: 0.9165 - lr: 1.0000e-11\n",
            "Epoch 55/250\n",
            "750/750 [==============================] - 37s 49ms/step - loss: 0.0302 - accuracy: 0.9903 - precision: 0.9912 - recall: 0.9896 - val_loss: 0.3683 - val_accuracy: 0.9180 - val_precision: 0.9205 - val_recall: 0.9162 - lr: 1.0000e-11\n",
            "Epoch 56/250\n",
            "750/750 [==============================] - 36s 48ms/step - loss: 0.0312 - accuracy: 0.9897 - precision: 0.9903 - recall: 0.9890 - val_loss: 0.3683 - val_accuracy: 0.9183 - val_precision: 0.9211 - val_recall: 0.9164 - lr: 1.0000e-11\n",
            "Epoch 57/250\n",
            "750/750 [==============================] - 37s 50ms/step - loss: 0.0310 - accuracy: 0.9902 - precision: 0.9912 - recall: 0.9896 - val_loss: 0.3686 - val_accuracy: 0.9183 - val_precision: 0.9206 - val_recall: 0.9163 - lr: 1.0000e-11\n",
            "Epoch 58/250\n",
            "750/750 [==============================] - 37s 50ms/step - loss: 0.0308 - accuracy: 0.9902 - precision: 0.9908 - recall: 0.9895 - val_loss: 0.3686 - val_accuracy: 0.9183 - val_precision: 0.9206 - val_recall: 0.9163 - lr: 1.0000e-11\n",
            "Epoch 59/250\n",
            "750/750 [==============================] - 38s 50ms/step - loss: 0.0306 - accuracy: 0.9901 - precision: 0.9908 - recall: 0.9893 - val_loss: 0.3690 - val_accuracy: 0.9177 - val_precision: 0.9202 - val_recall: 0.9162 - lr: 1.0000e-11\n",
            "Epoch 60/250\n",
            "750/750 [==============================] - 38s 50ms/step - loss: 0.0310 - accuracy: 0.9905 - precision: 0.9911 - recall: 0.9900 - val_loss: 0.3689 - val_accuracy: 0.9178 - val_precision: 0.9202 - val_recall: 0.9161 - lr: 1.0000e-11\n",
            "Epoch 61/250\n",
            "750/750 [==============================] - 37s 49ms/step - loss: 0.0313 - accuracy: 0.9897 - precision: 0.9905 - recall: 0.9891 - val_loss: 0.3684 - val_accuracy: 0.9183 - val_precision: 0.9203 - val_recall: 0.9164 - lr: 1.0000e-11\n",
            "Epoch 62/250\n",
            "750/750 [==============================] - 37s 49ms/step - loss: 0.0305 - accuracy: 0.9904 - precision: 0.9909 - recall: 0.9898 - val_loss: 0.3681 - val_accuracy: 0.9181 - val_precision: 0.9203 - val_recall: 0.9164 - lr: 1.0000e-11\n",
            "Epoch 63/250\n",
            "750/750 [==============================] - 38s 50ms/step - loss: 0.0308 - accuracy: 0.9899 - precision: 0.9907 - recall: 0.9894 - val_loss: 0.3680 - val_accuracy: 0.9181 - val_precision: 0.9206 - val_recall: 0.9164 - lr: 1.0000e-11\n",
            "Epoch 64/250\n",
            "750/750 [==============================] - 38s 50ms/step - loss: 0.0316 - accuracy: 0.9893 - precision: 0.9899 - recall: 0.9887 - val_loss: 0.3684 - val_accuracy: 0.9180 - val_precision: 0.9204 - val_recall: 0.9163 - lr: 1.0000e-13\n",
            "Epoch 65/250\n",
            "750/750 [==============================] - 37s 49ms/step - loss: 0.0308 - accuracy: 0.9902 - precision: 0.9908 - recall: 0.9894 - val_loss: 0.3687 - val_accuracy: 0.9180 - val_precision: 0.9205 - val_recall: 0.9162 - lr: 1.0000e-13\n",
            "Epoch 66/250\n",
            "750/750 [==============================] - 36s 48ms/step - loss: 0.0310 - accuracy: 0.9900 - precision: 0.9907 - recall: 0.9894 - val_loss: 0.3685 - val_accuracy: 0.9178 - val_precision: 0.9206 - val_recall: 0.9164 - lr: 1.0000e-13\n",
            "Epoch 67/250\n",
            "750/750 [==============================] - 38s 50ms/step - loss: 0.0299 - accuracy: 0.9905 - precision: 0.9911 - recall: 0.9899 - val_loss: 0.3680 - val_accuracy: 0.9178 - val_precision: 0.9204 - val_recall: 0.9161 - lr: 1.0000e-13\n",
            "Epoch 68/250\n",
            "750/750 [==============================] - 36s 48ms/step - loss: 0.0310 - accuracy: 0.9904 - precision: 0.9910 - recall: 0.9899 - val_loss: 0.3683 - val_accuracy: 0.9178 - val_precision: 0.9201 - val_recall: 0.9159 - lr: 1.0000e-13\n",
            "Epoch 69/250\n",
            "750/750 [==============================] - 37s 49ms/step - loss: 0.0311 - accuracy: 0.9898 - precision: 0.9906 - recall: 0.9893 - val_loss: 0.3679 - val_accuracy: 0.9179 - val_precision: 0.9202 - val_recall: 0.9161 - lr: 1.0000e-13\n",
            "Epoch 70/250\n",
            "750/750 [==============================] - 37s 49ms/step - loss: 0.0312 - accuracy: 0.9901 - precision: 0.9908 - recall: 0.9894 - val_loss: 0.3687 - val_accuracy: 0.9181 - val_precision: 0.9205 - val_recall: 0.9163 - lr: 1.0000e-13\n",
            "Epoch 71/250\n",
            "750/750 [==============================] - 36s 48ms/step - loss: 0.0313 - accuracy: 0.9902 - precision: 0.9908 - recall: 0.9896 - val_loss: 0.3686 - val_accuracy: 0.9183 - val_precision: 0.9205 - val_recall: 0.9163 - lr: 1.0000e-13\n",
            "Epoch 72/250\n",
            "750/750 [==============================] - 37s 49ms/step - loss: 0.0304 - accuracy: 0.9900 - precision: 0.9907 - recall: 0.9893 - val_loss: 0.3681 - val_accuracy: 0.9181 - val_precision: 0.9205 - val_recall: 0.9165 - lr: 1.0000e-13\n",
            "Epoch 73/250\n",
            "750/750 [==============================] - 36s 48ms/step - loss: 0.0312 - accuracy: 0.9902 - precision: 0.9908 - recall: 0.9896 - val_loss: 0.3685 - val_accuracy: 0.9178 - val_precision: 0.9205 - val_recall: 0.9161 - lr: 1.0000e-13\n",
            "Epoch 74/250\n",
            "750/750 [==============================] - 36s 49ms/step - loss: 0.0316 - accuracy: 0.9900 - precision: 0.9907 - recall: 0.9893 - val_loss: 0.3685 - val_accuracy: 0.9182 - val_precision: 0.9205 - val_recall: 0.9162 - lr: 1.0000e-15\n",
            "Epoch 75/250\n",
            "750/750 [==============================] - 36s 48ms/step - loss: 0.0298 - accuracy: 0.9910 - precision: 0.9915 - recall: 0.9904 - val_loss: 0.3682 - val_accuracy: 0.9183 - val_precision: 0.9209 - val_recall: 0.9165 - lr: 1.0000e-15\n",
            "Epoch 76/250\n",
            "750/750 [==============================] - 37s 50ms/step - loss: 0.0313 - accuracy: 0.9899 - precision: 0.9903 - recall: 0.9893 - val_loss: 0.3683 - val_accuracy: 0.9182 - val_precision: 0.9206 - val_recall: 0.9161 - lr: 1.0000e-15\n",
            "Epoch 77/250\n",
            "750/750 [==============================] - 36s 48ms/step - loss: 0.0315 - accuracy: 0.9896 - precision: 0.9903 - recall: 0.9890 - val_loss: 0.3687 - val_accuracy: 0.9178 - val_precision: 0.9202 - val_recall: 0.9162 - lr: 1.0000e-15\n",
            "Epoch 78/250\n",
            "750/750 [==============================] - 37s 49ms/step - loss: 0.0319 - accuracy: 0.9895 - precision: 0.9903 - recall: 0.9888 - val_loss: 0.3684 - val_accuracy: 0.9180 - val_precision: 0.9203 - val_recall: 0.9161 - lr: 1.0000e-15\n",
            "Epoch 79/250\n",
            "750/750 [==============================] - 37s 49ms/step - loss: 0.0310 - accuracy: 0.9900 - precision: 0.9906 - recall: 0.9893 - val_loss: 0.3688 - val_accuracy: 0.9178 - val_precision: 0.9203 - val_recall: 0.9160 - lr: 1.0000e-15\n"
          ]
        }
      ]
    },
    {
      "cell_type": "code",
      "source": [
        "clf1.summary()"
      ],
      "metadata": {
        "id": "bu3NvOmUDNps",
        "colab": {
          "base_uri": "https://localhost:8080/"
        },
        "outputId": "90478ea3-6987-4da3-c7a5-046f52cf98be"
      },
      "execution_count": null,
      "outputs": [
        {
          "output_type": "stream",
          "name": "stdout",
          "text": [
            "Model: \"model\"\n",
            "__________________________________________________________________________________________________\n",
            " Layer (type)                Output Shape                 Param #   Connected to                  \n",
            "==================================================================================================\n",
            " input_1 (InputLayer)        [(None, 28, 28, 1)]          0         []                            \n",
            "                                                                                                  \n",
            " conv2d (Conv2D)             (None, 24, 24, 32)           800       ['input_1[0][0]']             \n",
            "                                                                                                  \n",
            " batch_normalization (Batch  (None, 24, 24, 32)           128       ['conv2d[0][0]']              \n",
            " Normalization)                                                                                   \n",
            "                                                                                                  \n",
            " activation (Activation)     (None, 24, 24, 32)           0         ['batch_normalization[0][0]'] \n",
            "                                                                                                  \n",
            " separable_conv2d (Separabl  (None, 24, 24, 16)           800       ['activation[0][0]']          \n",
            " eConv2D)                                                                                         \n",
            "                                                                                                  \n",
            " batch_normalization_1 (Bat  (None, 24, 24, 16)           64        ['separable_conv2d[0][0]']    \n",
            " chNormalization)                                                                                 \n",
            "                                                                                                  \n",
            " activation_1 (Activation)   (None, 24, 24, 16)           0         ['batch_normalization_1[0][0]'\n",
            "                                                                    ]                             \n",
            "                                                                                                  \n",
            " separable_conv2d_1 (Separa  (None, 24, 24, 16)           400       ['activation_1[0][0]']        \n",
            " bleConv2D)                                                                                       \n",
            "                                                                                                  \n",
            " max_pooling2d (MaxPooling2  (None, 12, 12, 16)           0         ['separable_conv2d_1[0][0]']  \n",
            " D)                                                                                               \n",
            "                                                                                                  \n",
            " batch_normalization_2 (Bat  (None, 12, 12, 16)           64        ['max_pooling2d[0][0]']       \n",
            " chNormalization)                                                                                 \n",
            "                                                                                                  \n",
            " activation_2 (Activation)   (None, 12, 12, 16)           0         ['batch_normalization_2[0][0]'\n",
            "                                                                    ]                             \n",
            "                                                                                                  \n",
            " separable_conv2d_2 (Separa  (None, 12, 12, 16)           400       ['activation_2[0][0]']        \n",
            " bleConv2D)                                                                                       \n",
            "                                                                                                  \n",
            " batch_normalization_3 (Bat  (None, 12, 12, 16)           64        ['separable_conv2d_2[0][0]']  \n",
            " chNormalization)                                                                                 \n",
            "                                                                                                  \n",
            " activation_3 (Activation)   (None, 12, 12, 16)           0         ['batch_normalization_3[0][0]'\n",
            "                                                                    ]                             \n",
            "                                                                                                  \n",
            " separable_conv2d_3 (Separa  (None, 12, 12, 16)           400       ['activation_3[0][0]']        \n",
            " bleConv2D)                                                                                       \n",
            "                                                                                                  \n",
            " conv2d_1 (Conv2D)           (None, 12, 12, 16)           512       ['conv2d[0][0]']              \n",
            "                                                                                                  \n",
            " add (Add)                   (None, 12, 12, 16)           0         ['separable_conv2d_3[0][0]',  \n",
            "                                                                     'conv2d_1[0][0]']            \n",
            "                                                                                                  \n",
            " batch_normalization_4 (Bat  (None, 12, 12, 16)           64        ['add[0][0]']                 \n",
            " chNormalization)                                                                                 \n",
            "                                                                                                  \n",
            " activation_4 (Activation)   (None, 12, 12, 16)           0         ['batch_normalization_4[0][0]'\n",
            "                                                                    ]                             \n",
            "                                                                                                  \n",
            " separable_conv2d_4 (Separa  (None, 12, 12, 32)           656       ['activation_4[0][0]']        \n",
            " bleConv2D)                                                                                       \n",
            "                                                                                                  \n",
            " batch_normalization_5 (Bat  (None, 12, 12, 32)           128       ['separable_conv2d_4[0][0]']  \n",
            " chNormalization)                                                                                 \n",
            "                                                                                                  \n",
            " activation_5 (Activation)   (None, 12, 12, 32)           0         ['batch_normalization_5[0][0]'\n",
            "                                                                    ]                             \n",
            "                                                                                                  \n",
            " separable_conv2d_5 (Separa  (None, 12, 12, 32)           1312      ['activation_5[0][0]']        \n",
            " bleConv2D)                                                                                       \n",
            "                                                                                                  \n",
            " max_pooling2d_1 (MaxPoolin  (None, 6, 6, 32)             0         ['separable_conv2d_5[0][0]']  \n",
            " g2D)                                                                                             \n",
            "                                                                                                  \n",
            " batch_normalization_6 (Bat  (None, 6, 6, 32)             128       ['max_pooling2d_1[0][0]']     \n",
            " chNormalization)                                                                                 \n",
            "                                                                                                  \n",
            " activation_6 (Activation)   (None, 6, 6, 32)             0         ['batch_normalization_6[0][0]'\n",
            "                                                                    ]                             \n",
            "                                                                                                  \n",
            " separable_conv2d_6 (Separa  (None, 6, 6, 32)             1312      ['activation_6[0][0]']        \n",
            " bleConv2D)                                                                                       \n",
            "                                                                                                  \n",
            " batch_normalization_7 (Bat  (None, 6, 6, 32)             128       ['separable_conv2d_6[0][0]']  \n",
            " chNormalization)                                                                                 \n",
            "                                                                                                  \n",
            " activation_7 (Activation)   (None, 6, 6, 32)             0         ['batch_normalization_7[0][0]'\n",
            "                                                                    ]                             \n",
            "                                                                                                  \n",
            " separable_conv2d_7 (Separa  (None, 6, 6, 32)             1312      ['activation_7[0][0]']        \n",
            " bleConv2D)                                                                                       \n",
            "                                                                                                  \n",
            " conv2d_2 (Conv2D)           (None, 6, 6, 32)             512       ['add[0][0]']                 \n",
            "                                                                                                  \n",
            " add_1 (Add)                 (None, 6, 6, 32)             0         ['separable_conv2d_7[0][0]',  \n",
            "                                                                     'conv2d_2[0][0]']            \n",
            "                                                                                                  \n",
            " batch_normalization_8 (Bat  (None, 6, 6, 32)             128       ['add_1[0][0]']               \n",
            " chNormalization)                                                                                 \n",
            "                                                                                                  \n",
            " activation_8 (Activation)   (None, 6, 6, 32)             0         ['batch_normalization_8[0][0]'\n",
            "                                                                    ]                             \n",
            "                                                                                                  \n",
            " separable_conv2d_8 (Separa  (None, 6, 6, 64)             2336      ['activation_8[0][0]']        \n",
            " bleConv2D)                                                                                       \n",
            "                                                                                                  \n",
            " batch_normalization_9 (Bat  (None, 6, 6, 64)             256       ['separable_conv2d_8[0][0]']  \n",
            " chNormalization)                                                                                 \n",
            "                                                                                                  \n",
            " activation_9 (Activation)   (None, 6, 6, 64)             0         ['batch_normalization_9[0][0]'\n",
            "                                                                    ]                             \n",
            "                                                                                                  \n",
            " separable_conv2d_9 (Separa  (None, 6, 6, 64)             4672      ['activation_9[0][0]']        \n",
            " bleConv2D)                                                                                       \n",
            "                                                                                                  \n",
            " max_pooling2d_2 (MaxPoolin  (None, 3, 3, 64)             0         ['separable_conv2d_9[0][0]']  \n",
            " g2D)                                                                                             \n",
            "                                                                                                  \n",
            " batch_normalization_10 (Ba  (None, 3, 3, 64)             256       ['max_pooling2d_2[0][0]']     \n",
            " tchNormalization)                                                                                \n",
            "                                                                                                  \n",
            " activation_10 (Activation)  (None, 3, 3, 64)             0         ['batch_normalization_10[0][0]\n",
            "                                                                    ']                            \n",
            "                                                                                                  \n",
            " separable_conv2d_10 (Separ  (None, 3, 3, 64)             4672      ['activation_10[0][0]']       \n",
            " ableConv2D)                                                                                      \n",
            "                                                                                                  \n",
            " batch_normalization_11 (Ba  (None, 3, 3, 64)             256       ['separable_conv2d_10[0][0]'] \n",
            " tchNormalization)                                                                                \n",
            "                                                                                                  \n",
            " activation_11 (Activation)  (None, 3, 3, 64)             0         ['batch_normalization_11[0][0]\n",
            "                                                                    ']                            \n",
            "                                                                                                  \n",
            " separable_conv2d_11 (Separ  (None, 3, 3, 64)             4672      ['activation_11[0][0]']       \n",
            " ableConv2D)                                                                                      \n",
            "                                                                                                  \n",
            " conv2d_3 (Conv2D)           (None, 3, 3, 64)             2048      ['add_1[0][0]']               \n",
            "                                                                                                  \n",
            " add_2 (Add)                 (None, 3, 3, 64)             0         ['separable_conv2d_11[0][0]', \n",
            "                                                                     'conv2d_3[0][0]']            \n",
            "                                                                                                  \n",
            " batch_normalization_12 (Ba  (None, 3, 3, 64)             256       ['add_2[0][0]']               \n",
            " tchNormalization)                                                                                \n",
            "                                                                                                  \n",
            " activation_12 (Activation)  (None, 3, 3, 64)             0         ['batch_normalization_12[0][0]\n",
            "                                                                    ']                            \n",
            "                                                                                                  \n",
            " separable_conv2d_12 (Separ  (None, 3, 3, 128)            8768      ['activation_12[0][0]']       \n",
            " ableConv2D)                                                                                      \n",
            "                                                                                                  \n",
            " batch_normalization_13 (Ba  (None, 3, 3, 128)            512       ['separable_conv2d_12[0][0]'] \n",
            " tchNormalization)                                                                                \n",
            "                                                                                                  \n",
            " activation_13 (Activation)  (None, 3, 3, 128)            0         ['batch_normalization_13[0][0]\n",
            "                                                                    ']                            \n",
            "                                                                                                  \n",
            " separable_conv2d_13 (Separ  (None, 3, 3, 128)            17536     ['activation_13[0][0]']       \n",
            " ableConv2D)                                                                                      \n",
            "                                                                                                  \n",
            " max_pooling2d_3 (MaxPoolin  (None, 2, 2, 128)            0         ['separable_conv2d_13[0][0]'] \n",
            " g2D)                                                                                             \n",
            "                                                                                                  \n",
            " batch_normalization_14 (Ba  (None, 2, 2, 128)            512       ['max_pooling2d_3[0][0]']     \n",
            " tchNormalization)                                                                                \n",
            "                                                                                                  \n",
            " activation_14 (Activation)  (None, 2, 2, 128)            0         ['batch_normalization_14[0][0]\n",
            "                                                                    ']                            \n",
            "                                                                                                  \n",
            " separable_conv2d_14 (Separ  (None, 2, 2, 128)            17536     ['activation_14[0][0]']       \n",
            " ableConv2D)                                                                                      \n",
            "                                                                                                  \n",
            " batch_normalization_15 (Ba  (None, 2, 2, 128)            512       ['separable_conv2d_14[0][0]'] \n",
            " tchNormalization)                                                                                \n",
            "                                                                                                  \n",
            " activation_15 (Activation)  (None, 2, 2, 128)            0         ['batch_normalization_15[0][0]\n",
            "                                                                    ']                            \n",
            "                                                                                                  \n",
            " separable_conv2d_15 (Separ  (None, 2, 2, 128)            17536     ['activation_15[0][0]']       \n",
            " ableConv2D)                                                                                      \n",
            "                                                                                                  \n",
            " conv2d_4 (Conv2D)           (None, 2, 2, 128)            8192      ['add_2[0][0]']               \n",
            "                                                                                                  \n",
            " add_3 (Add)                 (None, 2, 2, 128)            0         ['separable_conv2d_15[0][0]', \n",
            "                                                                     'conv2d_4[0][0]']            \n",
            "                                                                                                  \n",
            " batch_normalization_16 (Ba  (None, 2, 2, 128)            512       ['add_3[0][0]']               \n",
            " tchNormalization)                                                                                \n",
            "                                                                                                  \n",
            " activation_16 (Activation)  (None, 2, 2, 128)            0         ['batch_normalization_16[0][0]\n",
            "                                                                    ']                            \n",
            "                                                                                                  \n",
            " separable_conv2d_16 (Separ  (None, 2, 2, 256)            33920     ['activation_16[0][0]']       \n",
            " ableConv2D)                                                                                      \n",
            "                                                                                                  \n",
            " batch_normalization_17 (Ba  (None, 2, 2, 256)            1024      ['separable_conv2d_16[0][0]'] \n",
            " tchNormalization)                                                                                \n",
            "                                                                                                  \n",
            " activation_17 (Activation)  (None, 2, 2, 256)            0         ['batch_normalization_17[0][0]\n",
            "                                                                    ']                            \n",
            "                                                                                                  \n",
            " separable_conv2d_17 (Separ  (None, 2, 2, 256)            67840     ['activation_17[0][0]']       \n",
            " ableConv2D)                                                                                      \n",
            "                                                                                                  \n",
            " max_pooling2d_4 (MaxPoolin  (None, 1, 1, 256)            0         ['separable_conv2d_17[0][0]'] \n",
            " g2D)                                                                                             \n",
            "                                                                                                  \n",
            " batch_normalization_18 (Ba  (None, 1, 1, 256)            1024      ['max_pooling2d_4[0][0]']     \n",
            " tchNormalization)                                                                                \n",
            "                                                                                                  \n",
            " activation_18 (Activation)  (None, 1, 1, 256)            0         ['batch_normalization_18[0][0]\n",
            "                                                                    ']                            \n",
            "                                                                                                  \n",
            " separable_conv2d_18 (Separ  (None, 1, 1, 256)            67840     ['activation_18[0][0]']       \n",
            " ableConv2D)                                                                                      \n",
            "                                                                                                  \n",
            " batch_normalization_19 (Ba  (None, 1, 1, 256)            1024      ['separable_conv2d_18[0][0]'] \n",
            " tchNormalization)                                                                                \n",
            "                                                                                                  \n",
            " activation_19 (Activation)  (None, 1, 1, 256)            0         ['batch_normalization_19[0][0]\n",
            "                                                                    ']                            \n",
            "                                                                                                  \n",
            " separable_conv2d_19 (Separ  (None, 1, 1, 256)            67840     ['activation_19[0][0]']       \n",
            " ableConv2D)                                                                                      \n",
            "                                                                                                  \n",
            " conv2d_5 (Conv2D)           (None, 1, 1, 256)            32768     ['add_3[0][0]']               \n",
            "                                                                                                  \n",
            " add_4 (Add)                 (None, 1, 1, 256)            0         ['separable_conv2d_19[0][0]', \n",
            "                                                                     'conv2d_5[0][0]']            \n",
            "                                                                                                  \n",
            " batch_normalization_20 (Ba  (None, 1, 1, 256)            1024      ['add_4[0][0]']               \n",
            " tchNormalization)                                                                                \n",
            "                                                                                                  \n",
            " activation_20 (Activation)  (None, 1, 1, 256)            0         ['batch_normalization_20[0][0]\n",
            "                                                                    ']                            \n",
            "                                                                                                  \n",
            " separable_conv2d_20 (Separ  (None, 1, 1, 512)            133376    ['activation_20[0][0]']       \n",
            " ableConv2D)                                                                                      \n",
            "                                                                                                  \n",
            " batch_normalization_21 (Ba  (None, 1, 1, 512)            2048      ['separable_conv2d_20[0][0]'] \n",
            " tchNormalization)                                                                                \n",
            "                                                                                                  \n",
            " activation_21 (Activation)  (None, 1, 1, 512)            0         ['batch_normalization_21[0][0]\n",
            "                                                                    ']                            \n",
            "                                                                                                  \n",
            " separable_conv2d_21 (Separ  (None, 1, 1, 512)            266752    ['activation_21[0][0]']       \n",
            " ableConv2D)                                                                                      \n",
            "                                                                                                  \n",
            " max_pooling2d_5 (MaxPoolin  (None, 1, 1, 512)            0         ['separable_conv2d_21[0][0]'] \n",
            " g2D)                                                                                             \n",
            "                                                                                                  \n",
            " batch_normalization_22 (Ba  (None, 1, 1, 512)            2048      ['max_pooling2d_5[0][0]']     \n",
            " tchNormalization)                                                                                \n",
            "                                                                                                  \n",
            " activation_22 (Activation)  (None, 1, 1, 512)            0         ['batch_normalization_22[0][0]\n",
            "                                                                    ']                            \n",
            "                                                                                                  \n",
            " separable_conv2d_22 (Separ  (None, 1, 1, 512)            266752    ['activation_22[0][0]']       \n",
            " ableConv2D)                                                                                      \n",
            "                                                                                                  \n",
            " batch_normalization_23 (Ba  (None, 1, 1, 512)            2048      ['separable_conv2d_22[0][0]'] \n",
            " tchNormalization)                                                                                \n",
            "                                                                                                  \n",
            " activation_23 (Activation)  (None, 1, 1, 512)            0         ['batch_normalization_23[0][0]\n",
            "                                                                    ']                            \n",
            "                                                                                                  \n",
            " separable_conv2d_23 (Separ  (None, 1, 1, 512)            266752    ['activation_23[0][0]']       \n",
            " ableConv2D)                                                                                      \n",
            "                                                                                                  \n",
            " conv2d_6 (Conv2D)           (None, 1, 1, 512)            131072    ['add_4[0][0]']               \n",
            "                                                                                                  \n",
            " add_5 (Add)                 (None, 1, 1, 512)            0         ['separable_conv2d_23[0][0]', \n",
            "                                                                     'conv2d_6[0][0]']            \n",
            "                                                                                                  \n",
            " batch_normalization_24 (Ba  (None, 1, 1, 512)            2048      ['add_5[0][0]']               \n",
            " tchNormalization)                                                                                \n",
            "                                                                                                  \n",
            " activation_24 (Activation)  (None, 1, 1, 512)            0         ['batch_normalization_24[0][0]\n",
            "                                                                    ']                            \n",
            "                                                                                                  \n",
            " separable_conv2d_24 (Separ  (None, 1, 1, 1024)           528896    ['activation_24[0][0]']       \n",
            " ableConv2D)                                                                                      \n",
            "                                                                                                  \n",
            " batch_normalization_25 (Ba  (None, 1, 1, 1024)           4096      ['separable_conv2d_24[0][0]'] \n",
            " tchNormalization)                                                                                \n",
            "                                                                                                  \n",
            " activation_25 (Activation)  (None, 1, 1, 1024)           0         ['batch_normalization_25[0][0]\n",
            "                                                                    ']                            \n",
            "                                                                                                  \n",
            " separable_conv2d_25 (Separ  (None, 1, 1, 1024)           1057792   ['activation_25[0][0]']       \n",
            " ableConv2D)                                                                                      \n",
            "                                                                                                  \n",
            " max_pooling2d_6 (MaxPoolin  (None, 1, 1, 1024)           0         ['separable_conv2d_25[0][0]'] \n",
            " g2D)                                                                                             \n",
            "                                                                                                  \n",
            " batch_normalization_26 (Ba  (None, 1, 1, 1024)           4096      ['max_pooling2d_6[0][0]']     \n",
            " tchNormalization)                                                                                \n",
            "                                                                                                  \n",
            " activation_26 (Activation)  (None, 1, 1, 1024)           0         ['batch_normalization_26[0][0]\n",
            "                                                                    ']                            \n",
            "                                                                                                  \n",
            " separable_conv2d_26 (Separ  (None, 1, 1, 1024)           1057792   ['activation_26[0][0]']       \n",
            " ableConv2D)                                                                                      \n",
            "                                                                                                  \n",
            " batch_normalization_27 (Ba  (None, 1, 1, 1024)           4096      ['separable_conv2d_26[0][0]'] \n",
            " tchNormalization)                                                                                \n",
            "                                                                                                  \n",
            " activation_27 (Activation)  (None, 1, 1, 1024)           0         ['batch_normalization_27[0][0]\n",
            "                                                                    ']                            \n",
            "                                                                                                  \n",
            " separable_conv2d_27 (Separ  (None, 1, 1, 1024)           1057792   ['activation_27[0][0]']       \n",
            " ableConv2D)                                                                                      \n",
            "                                                                                                  \n",
            " conv2d_7 (Conv2D)           (None, 1, 1, 1024)           524288    ['add_5[0][0]']               \n",
            "                                                                                                  \n",
            " add_6 (Add)                 (None, 1, 1, 1024)           0         ['separable_conv2d_27[0][0]', \n",
            "                                                                     'conv2d_7[0][0]']            \n",
            "                                                                                                  \n",
            " batch_normalization_28 (Ba  (None, 1, 1, 1024)           4096      ['add_6[0][0]']               \n",
            " tchNormalization)                                                                                \n",
            "                                                                                                  \n",
            " activation_28 (Activation)  (None, 1, 1, 1024)           0         ['batch_normalization_28[0][0]\n",
            "                                                                    ']                            \n",
            "                                                                                                  \n",
            " separable_conv2d_28 (Separ  (None, 1, 1, 2048)           2106368   ['activation_28[0][0]']       \n",
            " ableConv2D)                                                                                      \n",
            "                                                                                                  \n",
            " batch_normalization_29 (Ba  (None, 1, 1, 2048)           8192      ['separable_conv2d_28[0][0]'] \n",
            " tchNormalization)                                                                                \n",
            "                                                                                                  \n",
            " activation_29 (Activation)  (None, 1, 1, 2048)           0         ['batch_normalization_29[0][0]\n",
            "                                                                    ']                            \n",
            "                                                                                                  \n",
            " separable_conv2d_29 (Separ  (None, 1, 1, 2048)           4212736   ['activation_29[0][0]']       \n",
            " ableConv2D)                                                                                      \n",
            "                                                                                                  \n",
            " max_pooling2d_7 (MaxPoolin  (None, 1, 1, 2048)           0         ['separable_conv2d_29[0][0]'] \n",
            " g2D)                                                                                             \n",
            "                                                                                                  \n",
            " batch_normalization_30 (Ba  (None, 1, 1, 2048)           8192      ['max_pooling2d_7[0][0]']     \n",
            " tchNormalization)                                                                                \n",
            "                                                                                                  \n",
            " activation_30 (Activation)  (None, 1, 1, 2048)           0         ['batch_normalization_30[0][0]\n",
            "                                                                    ']                            \n",
            "                                                                                                  \n",
            " separable_conv2d_30 (Separ  (None, 1, 1, 2048)           4212736   ['activation_30[0][0]']       \n",
            " ableConv2D)                                                                                      \n",
            "                                                                                                  \n",
            " batch_normalization_31 (Ba  (None, 1, 1, 2048)           8192      ['separable_conv2d_30[0][0]'] \n",
            " tchNormalization)                                                                                \n",
            "                                                                                                  \n",
            " activation_31 (Activation)  (None, 1, 1, 2048)           0         ['batch_normalization_31[0][0]\n",
            "                                                                    ']                            \n",
            "                                                                                                  \n",
            " separable_conv2d_31 (Separ  (None, 1, 1, 2048)           4212736   ['activation_31[0][0]']       \n",
            " ableConv2D)                                                                                      \n",
            "                                                                                                  \n",
            " conv2d_8 (Conv2D)           (None, 1, 1, 2048)           2097152   ['add_6[0][0]']               \n",
            "                                                                                                  \n",
            " add_7 (Add)                 (None, 1, 1, 2048)           0         ['separable_conv2d_31[0][0]', \n",
            "                                                                     'conv2d_8[0][0]']            \n",
            "                                                                                                  \n",
            " global_average_pooling2d (  (None, 2048)                 0         ['add_7[0][0]']               \n",
            " GlobalAveragePooling2D)                                                                          \n",
            "                                                                                                  \n",
            " dropout (Dropout)           (None, 2048)                 0         ['global_average_pooling2d[0][\n",
            "                                                                    0]']                          \n",
            "                                                                                                  \n",
            " dense (Dense)               (None, 10)                   20490     ['dropout[0][0]']             \n",
            "                                                                                                  \n",
            "==================================================================================================\n",
            "Total params: 22577290 (86.13 MB)\n",
            "Trainable params: 22548682 (86.02 MB)\n",
            "Non-trainable params: 28608 (111.75 KB)\n",
            "__________________________________________________________________________________________________\n"
          ]
        }
      ]
    },
    {
      "cell_type": "code",
      "source": [
        "history_clf_dict = history_clf1.history\n",
        "loss_values = history_clf_dict[\"loss\"]\n",
        "val_loss_values = history_clf_dict[\"val_loss\"]\n",
        "epochs = range(1, len(loss_values) + 1)\n",
        "plt.figure(figsize=(20,5))\n",
        "plt.plot(epochs, loss_values, \"bo\", label=\"Training loss\")\n",
        "plt.plot(epochs, val_loss_values, \"b\", label=\"Validation loss\")\n",
        "plt.title(\"Training and validation loss\")\n",
        "plt.xlabel(\"Epochs\")\n",
        "plt.ylabel(\"Loss\")\n",
        "plt.legend()\n",
        "plt.show()"
      ],
      "metadata": {
        "colab": {
          "base_uri": "https://localhost:8080/",
          "height": 399
        },
        "id": "LHhZuStX_zo2",
        "outputId": "a3e5bbee-bd6c-4bf7-c8fd-2f23fa7c2332"
      },
      "execution_count": null,
      "outputs": [
        {
          "output_type": "display_data",
          "data": {
            "text/plain": [
              "<Figure size 2000x500 with 1 Axes>"
            ],
            "image/png": "[encoded data removed]"
          },
          "metadata": {}
        }
      ]
    },
    {
      "cell_type": "code",
      "source": [
        "acc = history_clf_dict[\"accuracy\"]\n",
        "val_acc = history_clf_dict[\"val_accuracy\"]\n",
        "plt.figure(figsize=(20,5))\n",
        "plt.plot(epochs, acc, \"bo\", label=\"Training acc\")\n",
        "plt.plot(epochs, val_acc, \"b\", label=\"Validation acc\")\n",
        "plt.title(\"Training and validation accuracy\")\n",
        "plt.xlabel(\"Epochs\")\n",
        "plt.ylabel(\"Accuracy\")\n",
        "plt.legend()\n",
        "plt.show()"
      ],
      "metadata": {
        "colab": {
          "base_uri": "https://localhost:8080/",
          "height": 395
        },
        "id": "V3EfU4TyAASs",
        "outputId": "bce4d93c-dda5-4390-c9dd-5b24ab134d5b"
      },
      "execution_count": null,
      "outputs": [
        {
          "output_type": "display_data",
          "data": {
            "text/plain": [
              "<Figure size 2000x500 with 1 Axes>"
            ],
            "image/png": "[encoded data removed]"
          },
          "metadata": {}
        }
      ]
    },
    {
      "cell_type": "code",
      "source": [
        "xception = tf.keras.saving.load_model('/content/drive/Shareddrives/ECEN_758_Project/xception_stable_III.h5')"
      ],
      "metadata": {
        "id": "vIHZIJNLz8hA"
      },
      "execution_count": null,
      "outputs": []
    },
    {
      "cell_type": "code",
      "source": [
        "test_loss, test_acc, test_precision, test_recall = xception.evaluate(x_test, y_test_clf_encoded)\n",
        "\n",
        "accuracy_score = round(test_acc*1000) / 10\n",
        "precision_score = round(test_precision*1000) / 10\n",
        "recall_score = round(test_recall*1000) / 10\n",
        "\n",
        "print(f\"accuracy score: {accuracy_score}\")\n",
        "print(f\"precison score: {precision_score}\")\n",
        "print(f\"recall score: {recall_score}\")"
      ],
      "metadata": {
        "colab": {
          "base_uri": "https://localhost:8080/"
        },
        "id": "xiID3bdz0OPU",
        "outputId": "aaa22013-cab9-4778-d9a5-f7ecc6c0eb0b"
      },
      "execution_count": null,
      "outputs": [
        {
          "output_type": "stream",
          "name": "stdout",
          "text": [
            "313/313 [==============================] - 44s 137ms/step - loss: 0.3915 - accuracy: 0.9153 - precision: 0.9192 - recall: 0.9141\n",
            "accuracy score: 91.5\n",
            "precison score: 91.9\n",
            "recall score: 91.4\n"
          ]
        }
      ]
    },
    {
      "cell_type": "code",
      "source": [
        "xception_test_proba = xception.predict(x_test)\n",
        "xception_test_labels = []\n",
        "for i in range(len(xception_test_proba)):\n",
        "  xception_test_label = np.argmax(xception_test_proba[i])\n",
        "  xception_test_labels.append(xception_test_label)\n",
        "# fig, ax = plt.subplots(figsize=(10, 5))\n",
        "# ConfusionMatrixDisplay.from_predictions(testdata['label'], y_predTest, ax=ax)\n",
        "# ax.xaxis.set_ticklabels(labels_info.values(), rotation = 90)\n",
        "# ax.yaxis.set_ticklabels(labels_info.values())\n",
        "# _ = ax.set_title(\n",
        "#     f\"Confusion Matrix for Random Forest Classifier Test Set\"\n",
        "# )\n",
        "\n",
        "# print(classification_report(y_test, xception_test_labels))"
      ],
      "metadata": {
        "colab": {
          "base_uri": "https://localhost:8080/"
        },
        "id": "OuGOcbLcDpkF",
        "outputId": "8c29cd3f-28ae-4f0a-a372-c40eb0b76ea3"
      },
      "execution_count": null,
      "outputs": [
        {
          "output_type": "stream",
          "name": "stdout",
          "text": [
            "313/313 [==============================] - 38s 119ms/step\n"
          ]
        }
      ]
    },
    {
      "cell_type": "code",
      "source": [
        "print(classification_report(y_test, xception_test_labels))"
      ],
      "metadata": {
        "colab": {
          "base_uri": "https://localhost:8080/"
        },
        "id": "7Ifu5gRSElgR",
        "outputId": "1f757ee9-d61f-4f99-da77-2c8dd533431d"
      },
      "execution_count": null,
      "outputs": [
        {
          "output_type": "stream",
          "name": "stdout",
          "text": [
            "              precision    recall  f1-score   support\n",
            "\n",
            "           0       0.86      0.85      0.85      1000\n",
            "           1       0.99      0.98      0.99      1000\n",
            "           2       0.89      0.87      0.88      1000\n",
            "           3       0.90      0.92      0.91      1000\n",
            "           4       0.86      0.89      0.87      1000\n",
            "           5       0.98      0.98      0.98      1000\n",
            "           6       0.76      0.75      0.76      1000\n",
            "           7       0.96      0.97      0.96      1000\n",
            "           8       0.97      0.98      0.98      1000\n",
            "           9       0.97      0.96      0.97      1000\n",
            "\n",
            "    accuracy                           0.92     10000\n",
            "   macro avg       0.92      0.92      0.92     10000\n",
            "weighted avg       0.92      0.92      0.92     10000\n",
            "\n"
          ]
        }
      ]
    },
    {
      "cell_type": "code",
      "source": [
        "'''06'''\n",
        "with open (basepath + '/randomForestClassifier06.pkl', 'rb') as file1:\n",
        "  randomforest06 = pickle.load(file1)\n",
        "\n",
        "'''26'''\n",
        "with open (basepath + '/randomForestClassifier26.pkl', 'rb') as file2:\n",
        "  randomforest26 = pickle.load(file2)\n",
        "\n",
        "'''46'''\n",
        "with open (basepath + '/xgboost46.pkl', 'rb') as file3:\n",
        "  xgboost46 = pickle.load(file3)\n",
        "\n",
        "'''24'''\n",
        "with open (basepath + '/randomForestClassifier24.pkl', 'rb') as file4:\n",
        "  randomforest24 = pickle.load(file4)"
      ],
      "metadata": {
        "id": "ywtp0ExGOGME"
      },
      "execution_count": null,
      "outputs": []
    },
    {
      "cell_type": "code",
      "source": [
        "xception_test_labels_topII = {}\n",
        "for i in range(len(xception_test_proba)):\n",
        "  xception_test_label_topII = np.argpartition(xception_test_proba[i], -2)[-2:]\n",
        "  # print(xception_test_label_topII)\n",
        "  xception_test_labels_topII.update({i: xception_test_label_topII})\n",
        "  #break\n",
        "\n",
        "allLabels = list(xception_test_labels_topII.values())\n",
        "keys_topII = list(xception_test_labels_topII.keys())\n",
        "allLabels = np.array(allLabels)\n",
        "keys_topII = np.array(keys_topII)\n",
        "\n",
        "indices06 = []\n",
        "indices26 = []\n",
        "indices46 = []\n",
        "indices24 = []\n",
        "\n",
        "for i in range(len(allLabels)):\n",
        "\n",
        "  if np.array_equal(allLabels[i], [0, 6]) == True or np.array_equal(allLabels[i], [6, 0]) == True:\n",
        "    indices06.append(i)\n",
        "  elif np.array_equal(allLabels[i], [2, 6]) == True or np.array_equal(allLabels[i], [6, 2]) == True:\n",
        "    indices26.append(i)\n",
        "  elif np.array_equal(allLabels[i], [4, 6]) == True or np.array_equal(allLabels[i], [6, 4]) == True:\n",
        "    indices46.append(i)\n",
        "  else:\n",
        "    indices24.append(i)\n",
        "\n",
        "samples06 = []\n",
        "samples26 = []\n",
        "samples46 = []\n",
        "samples24 = []\n",
        "\n",
        "for j in indices06:\n",
        "  samples06.append(X_test_rf[j])\n",
        "\n",
        "for k in indices26:\n",
        "  samples26.append(X_test_rf[k])\n",
        "\n",
        "for l in indices46:\n",
        "  samples46.append(X_test_rf[l])\n",
        "\n",
        "for m in indices24:\n",
        "  samples24.append(X_test_rf[m])"
      ],
      "metadata": {
        "id": "C916Wgg2YPSH"
      },
      "execution_count": null,
      "outputs": []
    },
    {
      "cell_type": "code",
      "source": [
        "labels06 = []\n",
        "labels26 = []\n",
        "labels46 = []\n",
        "labels24 = []\n",
        "for j in indices06:\n",
        "  labels06.append(y_test_clf_encoded[j])\n",
        "\n",
        "for k in indices26:\n",
        "  labels26.append(y_test_clf_encoded[k])\n",
        "\n",
        "for l in indices46:\n",
        "  labels46.append(y_test_clf_encoded[l])\n",
        "\n",
        "for m in indices24:\n",
        "  labels24.append(y_test_clf_encoded[m])"
      ],
      "metadata": {
        "id": "RLKzvy6lnqQ7"
      },
      "execution_count": null,
      "outputs": []
    },
    {
      "cell_type": "code",
      "source": [
        "pred_rf_06 = randomforest06.predict(samples06)\n",
        "print(classification_report(labels06, pred_rf_06))"
      ],
      "metadata": {
        "colab": {
          "base_uri": "https://localhost:8080/"
        },
        "outputId": "847384cc-b855-4a5c-fdb4-7e95fcb5ce55",
        "id": "KQUv86O_TqcC"
      },
      "execution_count": null,
      "outputs": [
        {
          "output_type": "stream",
          "name": "stdout",
          "text": [
            "              precision    recall  f1-score   support\n",
            "\n",
            "           0       0.74      0.89      0.81       458\n",
            "           1       0.00      0.00      0.00         1\n",
            "           2       0.00      0.00      0.00        17\n",
            "           3       0.00      0.00      0.00        17\n",
            "           4       0.00      0.00      0.00         5\n",
            "           5       0.00      0.00      0.00         0\n",
            "           6       0.76      0.65      0.70       368\n",
            "           7       0.00      0.00      0.00         0\n",
            "           8       0.00      0.00      0.00         1\n",
            "           9       0.00      0.00      0.00         1\n",
            "\n",
            "   micro avg       0.75      0.75      0.75       868\n",
            "   macro avg       0.15      0.15      0.15       868\n",
            "weighted avg       0.71      0.75      0.73       868\n",
            " samples avg       0.75      0.75      0.75       868\n",
            "\n"
          ]
        },
        {
          "output_type": "stream",
          "name": "stderr",
          "text": [
            "/usr/local/lib/python3.10/dist-packages/sklearn/metrics/_classification.py:1344: UndefinedMetricWarning: Precision and F-score are ill-defined and being set to 0.0 in labels with no predicted samples. Use `zero_division` parameter to control this behavior.\n",
            "  _warn_prf(average, modifier, msg_start, len(result))\n",
            "/usr/local/lib/python3.10/dist-packages/sklearn/metrics/_classification.py:1344: UndefinedMetricWarning: Recall and F-score are ill-defined and being set to 0.0 in labels with no true samples. Use `zero_division` parameter to control this behavior.\n",
            "  _warn_prf(average, modifier, msg_start, len(result))\n"
          ]
        }
      ]
    },
    {
      "cell_type": "code",
      "source": [
        "pred_rf_26 = randomforest26.predict(samples26)\n",
        "print(classification_report(labels26, pred_rf_26))"
      ],
      "metadata": {
        "colab": {
          "base_uri": "https://localhost:8080/"
        },
        "outputId": "23ada667-8373-461a-9123-7fb78896a5ff",
        "id": "_IJA3247TqcC"
      },
      "execution_count": null,
      "outputs": [
        {
          "output_type": "stream",
          "name": "stdout",
          "text": [
            "              precision    recall  f1-score   support\n",
            "\n",
            "           0       0.00      0.00      0.00        16\n",
            "           1       0.00      0.00      0.00         0\n",
            "           2       0.82      0.94      0.88       403\n",
            "           3       0.00      0.00      0.00         3\n",
            "           4       0.00      0.00      0.00        19\n",
            "           5       0.00      0.00      0.00         0\n",
            "           6       0.64      0.54      0.58       138\n",
            "           7       0.00      0.00      0.00         0\n",
            "           8       0.00      0.00      0.00         1\n",
            "           9       0.00      0.00      0.00         0\n",
            "\n",
            "   micro avg       0.78      0.78      0.78       580\n",
            "   macro avg       0.15      0.15      0.15       580\n",
            "weighted avg       0.72      0.78      0.75       580\n",
            " samples avg       0.78      0.78      0.78       580\n",
            "\n"
          ]
        },
        {
          "output_type": "stream",
          "name": "stderr",
          "text": [
            "/usr/local/lib/python3.10/dist-packages/sklearn/metrics/_classification.py:1344: UndefinedMetricWarning: Precision and F-score are ill-defined and being set to 0.0 in labels with no predicted samples. Use `zero_division` parameter to control this behavior.\n",
            "  _warn_prf(average, modifier, msg_start, len(result))\n",
            "/usr/local/lib/python3.10/dist-packages/sklearn/metrics/_classification.py:1344: UndefinedMetricWarning: Recall and F-score are ill-defined and being set to 0.0 in labels with no true samples. Use `zero_division` parameter to control this behavior.\n",
            "  _warn_prf(average, modifier, msg_start, len(result))\n"
          ]
        }
      ]
    },
    {
      "cell_type": "code",
      "source": [
        "pred_xgb_46 = xgboost46.predict(samples46)\n",
        "print(classification_report(labels46, pred_xgb_46))"
      ],
      "metadata": {
        "colab": {
          "base_uri": "https://localhost:8080/"
        },
        "outputId": "372963c9-ae01-4b88-fdd6-ccc6e22b6276",
        "id": "g8uboLk-opId"
      },
      "execution_count": null,
      "outputs": [
        {
          "output_type": "stream",
          "name": "stdout",
          "text": [
            "              precision    recall  f1-score   support\n",
            "\n",
            "           0       0.00      0.00      0.00         6\n",
            "           1       0.00      0.00      0.00         1\n",
            "           2       0.00      0.00      0.00        14\n",
            "           3       0.00      0.00      0.00         5\n",
            "           4       0.79      0.83      0.81       327\n",
            "           5       0.00      0.00      0.00         0\n",
            "           6       0.84      0.84      0.84       384\n",
            "           7       0.00      0.00      0.00         0\n",
            "           8       0.00      0.00      0.00         1\n",
            "           9       0.00      0.00      0.00         0\n",
            "\n",
            "   micro avg       0.82      0.80      0.81       738\n",
            "   macro avg       0.16      0.17      0.16       738\n",
            "weighted avg       0.79      0.80      0.79       738\n",
            " samples avg       0.77      0.80      0.78       738\n",
            "\n"
          ]
        },
        {
          "output_type": "stream",
          "name": "stderr",
          "text": [
            "/usr/local/lib/python3.10/dist-packages/sklearn/metrics/_classification.py:1344: UndefinedMetricWarning: Precision and F-score are ill-defined and being set to 0.0 in labels with no predicted samples. Use `zero_division` parameter to control this behavior.\n",
            "  _warn_prf(average, modifier, msg_start, len(result))\n",
            "/usr/local/lib/python3.10/dist-packages/sklearn/metrics/_classification.py:1344: UndefinedMetricWarning: Recall and F-score are ill-defined and being set to 0.0 in labels with no true samples. Use `zero_division` parameter to control this behavior.\n",
            "  _warn_prf(average, modifier, msg_start, len(result))\n",
            "/usr/local/lib/python3.10/dist-packages/sklearn/metrics/_classification.py:1344: UndefinedMetricWarning: Precision and F-score are ill-defined and being set to 0.0 in samples with no predicted labels. Use `zero_division` parameter to control this behavior.\n",
            "  _warn_prf(average, modifier, msg_start, len(result))\n"
          ]
        }
      ]
    },
    {
      "cell_type": "code",
      "source": [
        "pred_rf_24 = randomforest24.predict(samples24)\n",
        "print(classification_report(labels24, pred_rf_24))"
      ],
      "metadata": {
        "colab": {
          "base_uri": "https://localhost:8080/"
        },
        "outputId": "1ba50472-0395-43dd-e4d3-d703ed74d89f",
        "id": "zBqb7QNRopIe"
      },
      "execution_count": null,
      "outputs": [
        {
          "output_type": "stream",
          "name": "stdout",
          "text": [
            "              precision    recall  f1-score   support\n",
            "\n",
            "           0       0.00      0.00      0.00       520\n",
            "           1       0.00      0.00      0.00       998\n",
            "           2       0.37      0.90      0.53       566\n",
            "           3       0.00      0.00      0.00       975\n",
            "           4       0.00      0.00      0.00       649\n",
            "           5       0.00      0.00      0.00      1000\n",
            "           6       0.01      0.76      0.03       110\n",
            "           7       0.00      0.00      0.00      1000\n",
            "           8       0.00      0.00      0.00       997\n",
            "           9       0.00      0.00      0.00       999\n",
            "\n",
            "   micro avg       0.08      0.08      0.08      7814\n",
            "   macro avg       0.04      0.17      0.06      7814\n",
            "weighted avg       0.03      0.08      0.04      7814\n",
            " samples avg       0.08      0.08      0.08      7814\n",
            "\n"
          ]
        },
        {
          "output_type": "stream",
          "name": "stderr",
          "text": [
            "/usr/local/lib/python3.10/dist-packages/sklearn/metrics/_classification.py:1344: UndefinedMetricWarning: Precision and F-score are ill-defined and being set to 0.0 in labels with no predicted samples. Use `zero_division` parameter to control this behavior.\n",
            "  _warn_prf(average, modifier, msg_start, len(result))\n",
            "/usr/local/lib/python3.10/dist-packages/sklearn/metrics/_classification.py:1344: UndefinedMetricWarning: Precision and F-score are ill-defined and being set to 0.0 in samples with no predicted labels. Use `zero_division` parameter to control this behavior.\n",
            "  _warn_prf(average, modifier, msg_start, len(result))\n"
          ]
        }
      ]
    },
    {
      "cell_type": "markdown",
      "source": [
        "#### Achieved the same metrics without pipeline | So, not required anymore"
      ],
      "metadata": {
        "id": "yMQqsMCkFlKI"
      }
    },
    {
      "cell_type": "code",
      "source": [
        "xgboost = XGBClassifier(n_estimators=35, max_depth=15, learning_rate=1, device=\"cuda\")"
      ],
      "metadata": {
        "id": "V8wmr99v1dbD"
      },
      "execution_count": null,
      "outputs": []
    },
    {
      "cell_type": "code",
      "source": [
        "xgboost.fit(X_train_rf, y_train_clf)"
      ],
      "metadata": {
        "colab": {
          "base_uri": "https://localhost:8080/",
          "height": 320
        },
        "id": "oTyf1rKa1xG5",
        "outputId": "3c0d4a28-d6ce-4307-9d25-ebf6f3c87776"
      },
      "execution_count": null,
      "outputs": [
        {
          "output_type": "stream",
          "name": "stderr",
          "text": [
            "/usr/local/lib/python3.10/dist-packages/xgboost/core.py:160: UserWarning: [01:53:30] WARNING: /workspace/src/learner.cc:742: \n",
            "Parameters: { \"criterion\" } are not used.\n",
            "\n",
            "  warnings.warn(smsg, UserWarning)\n"
          ]
        },
        {
          "output_type": "execute_result",
          "data": {
            "text/plain": [
              "XGBClassifier(base_score=None, booster=None, callbacks=None,\n",
              "              colsample_bylevel=None, colsample_bynode=None,\n",
              "              colsample_bytree=None, criterion='gini', device=None,\n",
              "              early_stopping_rounds=None, enable_categorical=False,\n",
              "              eval_metric=None, feature_types=None, gamma=None,\n",
              "              grow_policy=None, importance_type=None,\n",
              "              interaction_constraints=None, learning_rate=None, max_bin=None,\n",
              "              max_cat_threshold=None, max_cat_to_onehot=None,\n",
              "              max_delta_step=None, max_depth=35, max_leaves=None,\n",
              "              min_child_weight=None, missing=nan, monotone_constraints=None,\n",
              "              multi_strategy=None, n_estimators=100, n_jobs=None,\n",
              "              num_parallel_tree=None, ...)"
            ],
            "text/html": [
              "<style>#sk-container-id-1 {color: black;background-color: white;}#sk-container-id-1 pre{padding: 0;}#sk-container-id-1 div.sk-toggleable {background-color: white;}#sk-container-id-1 label.sk-toggleable__label {cursor: pointer;display: block;width: 100%;margin-bottom: 0;padding: 0.3em;box-sizing: border-box;text-align: center;}#sk-container-id-1 label.sk-toggleable__label-arrow:before {content: \"▸\";float: left;margin-right: 0.25em;color: #696969;}#sk-container-id-1 label.sk-toggleable__label-arrow:hover:before {color: black;}#sk-container-id-1 div.sk-estimator:hover label.sk-toggleable__label-arrow:before {color: black;}#sk-container-id-1 div.sk-toggleable__content {max-height: 0;max-width: 0;overflow: hidden;text-align: left;background-color: #f0f8ff;}#sk-container-id-1 div.sk-toggleable__content pre {margin: 0.2em;color: black;border-radius: 0.25em;background-color: #f0f8ff;}#sk-container-id-1 input.sk-toggleable__control:checked~div.sk-toggleable__content {max-height: 200px;max-width: 100%;overflow: auto;}#sk-container-id-1 input.sk-toggleable__control:checked~label.sk-toggleable__label-arrow:before {content: \"▾\";}#sk-container-id-1 div.sk-estimator input.sk-toggleable__control:checked~label.sk-toggleable__label {background-color: #d4ebff;}#sk-container-id-1 div.sk-label input.sk-toggleable__control:checked~label.sk-toggleable__label {background-color: #d4ebff;}#sk-container-id-1 input.sk-hidden--visually {border: 0;clip: rect(1px 1px 1px 1px);clip: rect(1px, 1px, 1px, 1px);height: 1px;margin: -1px;overflow: hidden;padding: 0;position: absolute;width: 1px;}#sk-container-id-1 div.sk-estimator {font-family: monospace;background-color: #f0f8ff;border: 1px dotted black;border-radius: 0.25em;box-sizing: border-box;margin-bottom: 0.5em;}#sk-container-id-1 div.sk-estimator:hover {background-color: #d4ebff;}#sk-container-id-1 div.sk-parallel-item::after {content: \"\";width: 100%;border-bottom: 1px solid gray;flex-grow: 1;}#sk-container-id-1 div.sk-label:hover label.sk-toggleable__label {background-color: #d4ebff;}#sk-container-id-1 div.sk-serial::before {content: \"\";position: absolute;border-left: 1px solid gray;box-sizing: border-box;top: 0;bottom: 0;left: 50%;z-index: 0;}#sk-container-id-1 div.sk-serial {display: flex;flex-direction: column;align-items: center;background-color: white;padding-right: 0.2em;padding-left: 0.2em;position: relative;}#sk-container-id-1 div.sk-item {position: relative;z-index: 1;}#sk-container-id-1 div.sk-parallel {display: flex;align-items: stretch;justify-content: center;background-color: white;position: relative;}#sk-container-id-1 div.sk-item::before, #sk-container-id-1 div.sk-parallel-item::before {content: \"\";position: absolute;border-left: 1px solid gray;box-sizing: border-box;top: 0;bottom: 0;left: 50%;z-index: -1;}#sk-container-id-1 div.sk-parallel-item {display: flex;flex-direction: column;z-index: 1;position: relative;background-color: white;}#sk-container-id-1 div.sk-parallel-item:first-child::after {align-self: flex-end;width: 50%;}#sk-container-id-1 div.sk-parallel-item:last-child::after {align-self: flex-start;width: 50%;}#sk-container-id-1 div.sk-parallel-item:only-child::after {width: 0;}#sk-container-id-1 div.sk-dashed-wrapped {border: 1px dashed gray;margin: 0 0.4em 0.5em 0.4em;box-sizing: border-box;padding-bottom: 0.4em;background-color: white;}#sk-container-id-1 div.sk-label label {font-family: monospace;font-weight: bold;display: inline-block;line-height: 1.2em;}#sk-container-id-1 div.sk-label-container {text-align: center;}#sk-container-id-1 div.sk-container {/* jupyter's `normalize.less` sets `[hidden] { display: none; }` but bootstrap.min.css set `[hidden] { display: none !important; }` so we also need the `!important` here to be able to override the default hidden behavior on the sphinx rendered scikit-learn.org. See: https://github.com/scikit-learn/scikit-learn/issues/21755 */display: inline-block !important;position: relative;}#sk-container-id-1 div.sk-text-repr-fallback {display: none;}</style><div id=\"sk-container-id-1\" class=\"sk-top-container\"><div class=\"sk-text-repr-fallback\"><pre>XGBClassifier(base_score=None, booster=None, callbacks=None,\n",
              "              colsample_bylevel=None, colsample_bynode=None,\n",
              "              colsample_bytree=None, criterion=&#x27;gini&#x27;, device=None,\n",
              "              early_stopping_rounds=None, enable_categorical=False,\n",
              "              eval_metric=None, feature_types=None, gamma=None,\n",
              "              grow_policy=None, importance_type=None,\n",
              "              interaction_constraints=None, learning_rate=None, max_bin=None,\n",
              "              max_cat_threshold=None, max_cat_to_onehot=None,\n",
              "              max_delta_step=None, max_depth=35, max_leaves=None,\n",
              "              min_child_weight=None, missing=nan, monotone_constraints=None,\n",
              "              multi_strategy=None, n_estimators=100, n_jobs=None,\n",
              "              num_parallel_tree=None, ...)</pre><b>In a Jupyter environment, please rerun this cell to show the HTML representation or trust the notebook. <br />On GitHub, the HTML representation is unable to render, please try loading this page with nbviewer.org.</b></div><div class=\"sk-container\" hidden><div class=\"sk-item\"><div class=\"sk-estimator sk-toggleable\"><input class=\"sk-toggleable__control sk-hidden--visually\" id=\"sk-estimator-id-1\" type=\"checkbox\" checked><label for=\"sk-estimator-id-1\" class=\"sk-toggleable__label sk-toggleable__label-arrow\">XGBClassifier</label><div class=\"sk-toggleable__content\"><pre>XGBClassifier(base_score=None, booster=None, callbacks=None,\n",
              "              colsample_bylevel=None, colsample_bynode=None,\n",
              "              colsample_bytree=None, criterion=&#x27;gini&#x27;, device=None,\n",
              "              early_stopping_rounds=None, enable_categorical=False,\n",
              "              eval_metric=None, feature_types=None, gamma=None,\n",
              "              grow_policy=None, importance_type=None,\n",
              "              interaction_constraints=None, learning_rate=None, max_bin=None,\n",
              "              max_cat_threshold=None, max_cat_to_onehot=None,\n",
              "              max_delta_step=None, max_depth=35, max_leaves=None,\n",
              "              min_child_weight=None, missing=nan, monotone_constraints=None,\n",
              "              multi_strategy=None, n_estimators=100, n_jobs=None,\n",
              "              num_parallel_tree=None, ...)</pre></div></div></div></div></div>"
            ]
          },
          "metadata": {},
          "execution_count": 7
        }
      ]
    },
    {
      "cell_type": "code",
      "source": [
        "filename = 'xgboost.pkl'\n",
        "pickle.dump(xgboost,  open(filename, 'wb'))"
      ],
      "metadata": {
        "id": "4TQVYgT2_yLY"
      },
      "execution_count": null,
      "outputs": []
    },
    {
      "cell_type": "code",
      "source": [
        "xgboostStable = pickle.load(open('/content/drive/Shareddrives/ECEN_758_Project/xgboost.pkl', 'rb'))"
      ],
      "metadata": {
        "id": "S8107q2AbndJ"
      },
      "execution_count": null,
      "outputs": []
    },
    {
      "cell_type": "code",
      "source": [
        "y_val_rf = xgboostStable.predict(X_val_rf)\n",
        "xgboost_val_proba = xgboostStable.predict_proba(X_test_rf)\n",
        "\n",
        "# fig, ax = plt.subplots(figsize=(10, 5))\n",
        "# ConfusionMatrixDisplay.from_predictions(testdata['label'], y_val_rf, ax=ax)\n",
        "# ax.xaxis.set_ticklabels(labels_info.values(), rotation = 90)\n",
        "# ax.yaxis.set_ticklabels(labels_info.values())\n",
        "# _ = ax.set_title(\n",
        "#     f\"Confusion Matrix for Random Forest Classifier Test Set\"\n",
        "# )\n",
        "\n",
        "print(classification_report(y_val_clf, y_val_rf))"
      ],
      "metadata": {
        "colab": {
          "base_uri": "https://localhost:8080/"
        },
        "id": "g-3b8lD2_7Ie",
        "outputId": "98b0773a-8e2f-4328-daf1-44f0f0c892fa"
      },
      "execution_count": null,
      "outputs": [
        {
          "output_type": "stream",
          "name": "stdout",
          "text": [
            "              precision    recall  f1-score   support\n",
            "\n",
            "           0       0.83      0.88      0.85      1202\n",
            "           1       0.99      0.98      0.99      1219\n",
            "           2       0.82      0.85      0.84      1205\n",
            "           3       0.88      0.93      0.90      1184\n",
            "           4       0.82      0.85      0.84      1202\n",
            "           5       0.98      0.97      0.97      1211\n",
            "           6       0.77      0.65      0.70      1218\n",
            "           7       0.95      0.96      0.96      1159\n",
            "           8       0.97      0.97      0.97      1197\n",
            "           9       0.96      0.97      0.96      1203\n",
            "\n",
            "    accuracy                           0.90     12000\n",
            "   macro avg       0.90      0.90      0.90     12000\n",
            "weighted avg       0.90      0.90      0.90     12000\n",
            "\n"
          ]
        }
      ]
    },
    {
      "cell_type": "code",
      "source": [
        "y_test_rf = xgboostStable.predict(X_test_rf)\n",
        "xgboost_test_proba = xgboostStable.predict_proba(X_test_rf)\n",
        "\n",
        "# fig, ax = plt.subplots(figsize=(10, 5))\n",
        "# ConfusionMatrixDisplay.from_predictions(testdata['label'], y_predTest, ax=ax)\n",
        "# ax.xaxis.set_ticklabels(labels_info.values(), rotation = 90)\n",
        "# ax.yaxis.set_ticklabels(labels_info.values())\n",
        "# _ = ax.set_title(\n",
        "#     f\"Confusion Matrix for Random Forest Classifier Test Set\"\n",
        "# )\n",
        "\n",
        "print(classification_report(y_test, y_test_rf))"
      ],
      "metadata": {
        "colab": {
          "base_uri": "https://localhost:8080/"
        },
        "id": "MpEFW8CxAxqy",
        "outputId": "5aa1acc2-f324-4815-eebf-857a5ee98e94"
      },
      "execution_count": null,
      "outputs": [
        {
          "output_type": "stream",
          "name": "stdout",
          "text": [
            "              precision    recall  f1-score   support\n",
            "\n",
            "           0       0.83      0.87      0.85      1000\n",
            "           1       1.00      0.97      0.98      1000\n",
            "           2       0.79      0.84      0.81      1000\n",
            "           3       0.89      0.92      0.90      1000\n",
            "           4       0.80      0.82      0.81      1000\n",
            "           5       0.98      0.97      0.98      1000\n",
            "           6       0.74      0.63      0.68      1000\n",
            "           7       0.95      0.97      0.96      1000\n",
            "           8       0.97      0.97      0.97      1000\n",
            "           9       0.96      0.96      0.96      1000\n",
            "\n",
            "    accuracy                           0.89     10000\n",
            "   macro avg       0.89      0.89      0.89     10000\n",
            "weighted avg       0.89      0.89      0.89     10000\n",
            "\n"
          ]
        }
      ]
    },
    {
      "cell_type": "code",
      "source": [
        "def getconflicts(classifier1_labels, classifier2_labels):\n",
        "\n",
        "  label_conflicts = np.where(np.not_equal(classifier1_labels, classifier2_labels))\n",
        "  conflicts = []\n",
        "  for i in label_conflicts[0]:\n",
        "    conflicts.append(i)\n",
        "\n",
        "  return conflicts, label_conflicts\n",
        "\n",
        "\n",
        "def maxprobasFromCLF(classifer1probas, classifier2probas):\n",
        "\n",
        "  maxprobas_classifier1 = []\n",
        "  for i in range(len(classifer1probas)):\n",
        "    maxprobas_classifier1.append(np.max(classifer1probas[i]))\n",
        "\n",
        "  maxprobas_classifier2 = []\n",
        "  for j in range(len(classifier2probas)):\n",
        "    maxprobas_classifier2.append(np.max(classifier2probas[j]))\n",
        "\n",
        "  return maxprobas_classifier1, maxprobas_classifier2\n",
        "\n",
        "\n",
        "def getconflictlabels(conflictsArray, classifier1_labels, classifier2_labels):\n",
        "\n",
        "  classifier1_coflict_labels = []\n",
        "  for i in conflicts:\n",
        "    classifier1_coflict_labels.append(classifier1_labels[i])\n",
        "\n",
        "  classifier2_coflict_labels = []\n",
        "  for i in conflicts:\n",
        "    classifier2_coflict_labels.append(classifier2_labels[i])\n",
        "\n",
        "  return classifier1_coflict_labels, classifier2_coflict_labels\n",
        "\n",
        "\n",
        "def getconflictprobas(conflictsArray, classifier1_probas, classifier2_probas):\n",
        "\n",
        "  classifier1_coflict_probas = []\n",
        "  for i in conflicts:\n",
        "    classifier1_coflict_probas.append(classifier1_probas[i])\n",
        "\n",
        "  classifier2_coflict_probas = []\n",
        "  for i in conflicts:\n",
        "    classifier2_coflict_probas.append(classifier2_probas[i])\n",
        "\n",
        "  return classifier1_coflict_probas, classifier2_coflict_probas\n",
        "\n",
        "\n",
        "def finalLabelsGeneric(conflictsArray, classifier1_conflictProbas, classifier2_conflictProbas, classifier1_labels, classifier2_labels):\n",
        "\n",
        "  xg = []\n",
        "  xc = []\n",
        "  xg_conflictprobas = []\n",
        "  xc_conflictprobas = []\n",
        "\n",
        "  for i in range(len(classifier1_conflictProbas)):\n",
        "    if classifier1_conflictProbas[i] > classifier2_conflictProbas[i]:\n",
        "      xg.append(conflictsArray[i])\n",
        "      xg_conflictprobas.append(classifier1_conflictProbas[i])\n",
        "    else:\n",
        "      xc.append(conflictsArray[i])\n",
        "      xc_conflictprobas.append(classifier2_conflictProbas[i])\n",
        "\n",
        "  final_labels = classifier2_labels\n",
        "\n",
        "  for i in xg:\n",
        "    xg_label = classifier1_labels[i]\n",
        "    final_labels[i] = xg_label\n",
        "\n",
        "  return final_labels, xg_conflictprobas, xc_conflictprobas"
      ],
      "metadata": {
        "id": "g4E-oXEVl5_u"
      },
      "execution_count": null,
      "outputs": []
    },
    {
      "cell_type": "code",
      "source": [
        "conflicts, _ = getconflicts(y_test_rf, xception_test_labels)\n",
        "xgboost_probas, xception_probas = maxprobasFromCLF(xgboost_test_proba, xception_test_proba)\n",
        "xgboost_coflict_labels, xception_coflict_labels = getconflictlabels(conflicts, y_test_rf, xception_test_labels)\n",
        "xgboost_coflict_probas, xception_coflict_probas = getconflictprobas(conflicts, xgboost_probas, xception_probas)"
      ],
      "metadata": {
        "id": "cAiMiXwdmu4I"
      },
      "execution_count": null,
      "outputs": []
    },
    {
      "cell_type": "code",
      "source": [
        "finalLabels_generic, xg_conflictprobas, xc_conflictprobas = finalLabelsGeneric(conflicts, xgboost_coflict_probas, xception_coflict_probas, y_test_rf, xception_test_labels)"
      ],
      "metadata": {
        "id": "OSMWqH6qFpxH"
      },
      "execution_count": null,
      "outputs": []
    },
    {
      "cell_type": "code",
      "source": [
        "print(classification_report(y_test, finalLabels_generic))"
      ],
      "metadata": {
        "colab": {
          "base_uri": "https://localhost:8080/"
        },
        "id": "wfEJ2Lkmjr-f",
        "outputId": "a08d1f52-b81d-47ea-8c6d-d6fce0f09417"
      },
      "execution_count": null,
      "outputs": [
        {
          "output_type": "stream",
          "name": "stdout",
          "text": [
            "              precision    recall  f1-score   support\n",
            "\n",
            "           0       0.86      0.88      0.87      1000\n",
            "           1       1.00      0.98      0.99      1000\n",
            "           2       0.86      0.87      0.86      1000\n",
            "           3       0.91      0.93      0.92      1000\n",
            "           4       0.83      0.87      0.85      1000\n",
            "           5       0.98      0.99      0.99      1000\n",
            "           6       0.79      0.71      0.75      1000\n",
            "           7       0.96      0.97      0.97      1000\n",
            "           8       0.97      0.98      0.97      1000\n",
            "           9       0.97      0.97      0.97      1000\n",
            "\n",
            "    accuracy                           0.91     10000\n",
            "   macro avg       0.91      0.91      0.91     10000\n",
            "weighted avg       0.91      0.91      0.91     10000\n",
            "\n"
          ]
        }
      ]
    },
    {
      "cell_type": "code",
      "source": [
        "xg_conflictprobas"
      ],
      "metadata": {
        "id": "eg5dGfi83hSW"
      },
      "execution_count": null,
      "outputs": []
    },
    {
      "cell_type": "code",
      "source": [
        "confusingLabels = []\n",
        "confusingSample = {}\n",
        "for i in range(len(xception_test_labels)):\n",
        "\n",
        "  if xception_test_labels[i] == 2 or xception_test_labels[i] == 6:\n",
        "    confusingSample.update({i: x_test[i]})"
      ],
      "metadata": {
        "id": "J6JP9JAIcHMF"
      },
      "execution_count": null,
      "outputs": []
    },
    {
      "cell_type": "code",
      "source": [
        "keys = list(confusingSample.keys())\n",
        "print(np.unique(keys))\n",
        "print(len(keys))"
      ],
      "metadata": {
        "id": "1RBDZXuaoExl",
        "colab": {
          "base_uri": "https://localhost:8080/"
        },
        "outputId": "ccea3ceb-f91f-4e7f-8fb0-0f389b315f47"
      },
      "execution_count": null,
      "outputs": [
        {
          "output_type": "stream",
          "name": "stdout",
          "text": [
            "[   1    4    7 ... 9970 9971 9985]\n",
            "1911\n"
          ]
        }
      ]
    },
    {
      "cell_type": "code",
      "source": [
        "keys[0:10]"
      ],
      "metadata": {
        "colab": {
          "base_uri": "https://localhost:8080/"
        },
        "id": "fMvdDl0Qoaif",
        "outputId": "707e5f54-fa0c-4243-c8cf-fe9f72783222"
      },
      "execution_count": null,
      "outputs": [
        {
          "output_type": "execute_result",
          "data": {
            "text/plain": [
              "[1, 4, 7, 16, 17, 20, 25, 26, 44, 46]"
            ]
          },
          "metadata": {},
          "execution_count": 33
        }
      ]
    },
    {
      "cell_type": "code",
      "source": [
        "exp_samples = list(confusingSample.values())"
      ],
      "metadata": {
        "id": "9Wt0MpK8mpb9"
      },
      "execution_count": null,
      "outputs": []
    },
    {
      "cell_type": "code",
      "source": [
        "exp_samples = np.array(exp_samples)"
      ],
      "metadata": {
        "id": "cnyVWgmgqaFd"
      },
      "execution_count": null,
      "outputs": []
    },
    {
      "cell_type": "code",
      "source": [
        "exp_samples.shape"
      ],
      "metadata": {
        "colab": {
          "base_uri": "https://localhost:8080/"
        },
        "id": "elKyPmTVqsxE",
        "outputId": "505cf59c-d345-4fd0-d3cb-564248e00230"
      },
      "execution_count": null,
      "outputs": [
        {
          "output_type": "execute_result",
          "data": {
            "text/plain": [
              "(1911, 28, 28)"
            ]
          },
          "metadata": {},
          "execution_count": 36
        }
      ]
    },
    {
      "cell_type": "code",
      "source": [
        "xception_specialized26_test_proba = xception_specialized26.predict(exp_samples)\n",
        "xception_specialized26_test_labels = []\n",
        "for i in range(len(xception_specialized26_test_proba)):\n",
        "  xception_specialized26_test_label = np.argmax(xception_specialized26_test_proba[i])\n",
        "  xception_specialized26_test_labels.append(xception_specialized26_test_label)"
      ],
      "metadata": {
        "colab": {
          "base_uri": "https://localhost:8080/"
        },
        "id": "Sq6Fq5JznTjx",
        "outputId": "94d320d2-6e6a-440c-ad0a-1c1a1b6c0cff"
      },
      "execution_count": null,
      "outputs": [
        {
          "output_type": "stream",
          "name": "stdout",
          "text": [
            "60/60 [==============================] - 0s 7ms/step\n"
          ]
        }
      ]
    },
    {
      "cell_type": "code",
      "source": [
        "xception_specialized26_test_labels[0:10]"
      ],
      "metadata": {
        "colab": {
          "base_uri": "https://localhost:8080/"
        },
        "id": "ZIJJdDSZuyUO",
        "outputId": "a476c7c9-c56d-4826-b212-e91d1a3e038f"
      },
      "execution_count": null,
      "outputs": [
        {
          "output_type": "execute_result",
          "data": {
            "text/plain": [
              "[2, 6, 6, 2, 2, 2, 2, 6, 6, 6]"
            ]
          },
          "metadata": {},
          "execution_count": 40
        }
      ]
    },
    {
      "cell_type": "code",
      "source": [
        "count = 0\n",
        "labels_finalI = xception_test_labels\n",
        "for k in keys:\n",
        "  if xception_specialized26_test_labels[count] == 6:\n",
        "    labels_finalI[k] = xception_specialized26_test_labels[count]\n",
        "  count += 1"
      ],
      "metadata": {
        "id": "iLxRhqxgq84v"
      },
      "execution_count": null,
      "outputs": []
    },
    {
      "cell_type": "code",
      "source": [
        "print(classification_report(y_test, labels_finalI))"
      ],
      "metadata": {
        "colab": {
          "base_uri": "https://localhost:8080/"
        },
        "id": "jBhQ02ztq8b5",
        "outputId": "e55d1385-2088-4da2-b3b3-beb80848daa8"
      },
      "execution_count": null,
      "outputs": [
        {
          "output_type": "stream",
          "name": "stdout",
          "text": [
            "              precision    recall  f1-score   support\n",
            "\n",
            "           0       0.86      0.88      0.87      1000\n",
            "           1       1.00      0.98      0.99      1000\n",
            "           2       0.89      0.84      0.86      1000\n",
            "           3       0.91      0.93      0.92      1000\n",
            "           4       0.83      0.87      0.85      1000\n",
            "           5       0.98      0.99      0.99      1000\n",
            "           6       0.76      0.74      0.75      1000\n",
            "           7       0.96      0.97      0.97      1000\n",
            "           8       0.97      0.98      0.97      1000\n",
            "           9       0.97      0.97      0.97      1000\n",
            "\n",
            "    accuracy                           0.91     10000\n",
            "   macro avg       0.91      0.91      0.91     10000\n",
            "weighted avg       0.91      0.91      0.91     10000\n",
            "\n"
          ]
        }
      ]
    }
  ]
}