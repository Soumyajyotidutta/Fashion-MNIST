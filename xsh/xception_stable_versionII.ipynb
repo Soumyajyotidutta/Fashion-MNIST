{
  "nbformat": 4,
  "nbformat_minor": 0,
  "metadata": {
    "colab": {
      "provenance": [],
      "gpuType": "T4"
    },
    "kernelspec": {
      "name": "python3",
      "display_name": "Python 3"
    },
    "language_info": {
      "name": "python"
    },
    "accelerator": "GPU"
  },
  "cells": [
    {
      "cell_type": "code",
      "execution_count": 2,
      "metadata": {
        "id": "pLkSeTofBV0A"
      },
      "outputs": [],
      "source": [
        "import pickle\n",
        "import numpy as np\n",
        "import pandas as pd\n",
        "import tensorflow as tf\n",
        "import matplotlib.pyplot as plt\n",
        "from xgboost import XGBClassifier\n",
        "from keras.datasets import fashion_mnist\n",
        "from sklearn.metrics import ConfusionMatrixDisplay, classification_report\n",
        "from keras.callbacks import ModelCheckpoint, EarlyStopping, LearningRateScheduler, ReduceLROnPlateau"
      ]
    },
    {
      "cell_type": "code",
      "source": [
        "from google.colab import drive\n",
        "drive.mount('/content/drive')\n",
        "\n",
        "basepath = '/content/drive/Shareddrives/ECEN_758_Project'\n",
        "traindata = pd.read_csv(basepath + '/blob/fashion-mnist_train.csv')\n",
        "testdata = pd.read_csv(basepath + '/blob/fashion-mnist_test.csv')"
      ],
      "metadata": {
        "colab": {
          "base_uri": "https://localhost:8080/"
        },
        "id": "Z5Bp-ba1LfXG",
        "outputId": "0b31616e-88be-4f0a-9e6d-7d1f0cd272a7"
      },
      "execution_count": 3,
      "outputs": [
        {
          "output_type": "stream",
          "name": "stdout",
          "text": [
            "Drive already mounted at /content/drive; to attempt to forcibly remount, call drive.mount(\"/content/drive\", force_remount=True).\n"
          ]
        }
      ]
    },
    {
      "cell_type": "code",
      "source": [
        "def getlabels(data):\n",
        "\n",
        "  labelsarray = np.unique(data['label'])\n",
        "  typesarray = ['T-shirt/top', 'Trouser', 'Pullover', 'Dress', 'Coat', 'Sandal', 'Shirt', 'Sneaker', 'Bag', 'Ankle boot']\n",
        "  labels_info = {}\n",
        "  for i in labelsarray:\n",
        "    labels_info.update({i: typesarray[i]})\n",
        "\n",
        "  labels = data['label']\n",
        "\n",
        "  return labels, labels_info"
      ],
      "metadata": {
        "id": "Hx30dj8bNjiX"
      },
      "execution_count": 4,
      "outputs": []
    },
    {
      "cell_type": "code",
      "source": [
        "train_labels, labels_info = getlabels(traindata)\n",
        "test_labels, _ = getlabels(testdata)"
      ],
      "metadata": {
        "id": "8gHsoQAwNpoh"
      },
      "execution_count": 5,
      "outputs": []
    },
    {
      "cell_type": "code",
      "source": [
        "(x_train, y_train), (x_test, y_test) = fashion_mnist.load_data()\n",
        "assert x_train.shape == (60000, 28, 28)\n",
        "assert x_test.shape == (10000, 28, 28)\n",
        "assert y_train.shape == (60000,)\n",
        "assert y_test.shape == (10000,)"
      ],
      "metadata": {
        "id": "LLEJbPqCCU7h"
      },
      "execution_count": 6,
      "outputs": []
    },
    {
      "cell_type": "code",
      "source": [
        "x_train = x_train.astype('float32') / 255\n",
        "x_test = x_test.astype('float32') / 255"
      ],
      "metadata": {
        "id": "qMZy1lOgQ6GU"
      },
      "execution_count": 7,
      "outputs": []
    },
    {
      "cell_type": "code",
      "source": [
        "from sklearn.model_selection import train_test_split\n",
        "X_train_clf, X_val_clf, y_train_clf, y_val_clf = train_test_split(x_train, y_train, test_size=0.2, random_state=42)"
      ],
      "metadata": {
        "id": "6RN38dX_DWoW"
      },
      "execution_count": 8,
      "outputs": []
    },
    {
      "cell_type": "code",
      "source": [
        "y_train_clf_encoded = tf.one_hot(y_train_clf, depth = 10)\n",
        "y_val_clf_encoded = tf.one_hot(y_val_clf, depth = 10)\n",
        "y_test_clf_encoded = tf.one_hot(y_test, depth = 10)"
      ],
      "metadata": {
        "id": "4F6mx64kDj3K"
      },
      "execution_count": 9,
      "outputs": []
    },
    {
      "cell_type": "code",
      "source": [
        "X_train_rf = X_train_clf.reshape(len(X_train_clf), 784)\n",
        "X_val_rf = X_val_clf.reshape(len(X_val_clf), 784)\n",
        "X_test_rf = x_test.reshape(len(x_test), 784)"
      ],
      "metadata": {
        "id": "ZkTWPjRm4yfw"
      },
      "execution_count": 10,
      "outputs": []
    },
    {
      "cell_type": "code",
      "source": [
        "tf.config.list_physical_devices('GPU')"
      ],
      "metadata": {
        "colab": {
          "base_uri": "https://localhost:8080/"
        },
        "id": "i6yg2Q5XCnI4",
        "outputId": "142cea26-44eb-4b38-f360-81e2eafdb013"
      },
      "execution_count": 11,
      "outputs": [
        {
          "output_type": "execute_result",
          "data": {
            "text/plain": [
              "[PhysicalDevice(name='/physical_device:GPU:0', device_type='GPU')]"
            ]
          },
          "metadata": {},
          "execution_count": 11
        }
      ]
    },
    {
      "cell_type": "code",
      "source": [
        "# data_augmentation = tf.keras.Sequential(\n",
        "#     [\n",
        "#         tf.keras.layers.RandomFlip(\"vertical\"),\n",
        "#         tf.keras.layers.RandomRotation(0.1),\n",
        "#         tf.keras.layers.RandomZoom(0.1),\n",
        "#     ]\n",
        "# )"
      ],
      "metadata": {
        "id": "AfjsAFLPKA1K"
      },
      "execution_count": 11,
      "outputs": []
    },
    {
      "cell_type": "code",
      "source": [
        "inputs = tf.keras.Input(shape=(28, 28, 1))\n",
        "# x = data_augmentation(inputs)\n",
        "x = inputs\n",
        "\n",
        "x = tf.keras.layers.Conv2D(filters=32, kernel_size=5, use_bias=False)(x)\n",
        "\n",
        "for size in [16, 32, 64, 128, 256, 512, 1024, 2048]:\n",
        "    residual = x\n",
        "\n",
        "    x = tf.keras.layers.BatchNormalization()(x)\n",
        "    x = tf.keras.layers.Activation(\"tanh\")(x)\n",
        "    x = tf.keras.layers.SeparableConv2D(size, 3, padding=\"same\", use_bias=False)(x)\n",
        "\n",
        "    x = tf.keras.layers.BatchNormalization()(x)\n",
        "    x = tf.keras.layers.Activation(\"tanh\")(x)\n",
        "    x = tf.keras.layers.SeparableConv2D(size, 3, padding=\"same\", use_bias=False)(x)\n",
        "\n",
        "    x = tf.keras.layers.MaxPooling2D(3, strides=2, padding=\"same\")(x)\n",
        "\n",
        "    x = tf.keras.layers.BatchNormalization()(x)\n",
        "    x = tf.keras.layers.Activation(\"tanh\")(x)\n",
        "    x = tf.keras.layers.SeparableConv2D(size, 3, padding=\"same\", use_bias=False)(x)\n",
        "\n",
        "    x = tf.keras.layers.BatchNormalization()(x)\n",
        "    x = tf.keras.layers.Activation(\"tanh\")(x)\n",
        "    x = tf.keras.layers.SeparableConv2D(size, 3, padding=\"same\", use_bias=False)(x)\n",
        "\n",
        "\n",
        "    residual = tf.keras.layers.Conv2D(\n",
        "        size, 1, strides=2, padding=\"same\", use_bias=False)(residual)\n",
        "    x = tf.keras.layers.add([x, residual])\n",
        "\n",
        "x = tf.keras.layers.GlobalAveragePooling2D()(x)\n",
        "x = tf.keras.layers.Dropout(0.5)(x)\n",
        "outputs = tf.keras.layers.Dense(10, activation=\"softmax\")(x)\n",
        "clf1 = tf.keras.Model(inputs=inputs, outputs=outputs)"
      ],
      "metadata": {
        "id": "IzPpYf-xfdis"
      },
      "execution_count": 12,
      "outputs": []
    },
    {
      "cell_type": "code",
      "source": [
        "optimizer = tf.keras.optimizers.Adam(\n",
        "    learning_rate=0.001,\n",
        "    beta_1=0.9,\n",
        "    beta_2=0.999,\n",
        "    epsilon=1e-10,\n",
        "    amsgrad=False,\n",
        "    weight_decay=None\n",
        ")"
      ],
      "metadata": {
        "id": "r1QHCQ-Lkwyi"
      },
      "execution_count": 13,
      "outputs": []
    },
    {
      "cell_type": "code",
      "source": [
        "callbacks_list = [\n",
        "    EarlyStopping(\n",
        "        monitor=\"val_accuracy\",\n",
        "        patience=20,\n",
        "    ),\n",
        "    ModelCheckpoint(\n",
        "        filepath=\"/content/drive/Shareddrives/ECEN_758_Project/xception_stable_II.h5\",\n",
        "        monitor=\"val_accuracy\",\n",
        "        save_best_only=True,\n",
        "    )\n",
        "]"
      ],
      "metadata": {
        "id": "fZ-FLGtyfrhP"
      },
      "execution_count": 14,
      "outputs": []
    },
    {
      "cell_type": "code",
      "source": [
        "clf1.compile(loss=\"CategoricalCrossentropy\",\n",
        "              optimizer=optimizer,\n",
        "              metrics=[\"accuracy\", \"Precision\", \"Recall\"])\n",
        "history_clf1 = clf1.fit(\n",
        "    X_train_clf,\n",
        "    y_train_clf_encoded,\n",
        "    epochs=100,\n",
        "    batch_size=64,\n",
        "    callbacks=callbacks_list,\n",
        "    validation_data=(X_val_clf, y_val_clf_encoded)\n",
        ")"
      ],
      "metadata": {
        "colab": {
          "base_uri": "https://localhost:8080/"
        },
        "id": "F9y1aEstkssK",
        "outputId": "ce46785b-1f68-4977-fdf2-f4618445a7a5"
      },
      "execution_count": 15,
      "outputs": [
        {
          "output_type": "stream",
          "name": "stdout",
          "text": [
            "Epoch 1/100\n",
            "750/750 [==============================] - ETA: 0s - loss: 0.5524 - accuracy: 0.8061 - precision: 0.8505 - recall: 0.7674"
          ]
        },
        {
          "output_type": "stream",
          "name": "stderr",
          "text": [
            "/usr/local/lib/python3.10/dist-packages/keras/src/engine/training.py:3079: UserWarning: You are saving your model as an HDF5 file via `model.save()`. This file format is considered legacy. We recommend using instead the native Keras format, e.g. `model.save('my_model.keras')`.\n",
            "  saving_api.save_model(\n"
          ]
        },
        {
          "output_type": "stream",
          "name": "stdout",
          "text": [
            "\b\b\b\b\b\b\b\b\b\b\b\b\b\b\b\b\b\b\b\b\b\b\b\b\b\b\b\b\b\b\b\b\b\b\b\b\b\b\b\b\b\b\b\b\b\b\b\b\b\b\b\b\b\b\b\b\b\b\b\b\b\b\b\b\b\b\b\b\b\b\b\b\b\b\b\b\b\b\b\b\b\b\b\b\b\b\b\b\b\b\b\b\b\b\b\b\b\b\b\b\b\b\b\b\b\b\b\b\b\b\b\b\b\b\b\b\b\b\b\b\b\r750/750 [==============================] - 71s 57ms/step - loss: 0.5524 - accuracy: 0.8061 - precision: 0.8505 - recall: 0.7674 - val_loss: 0.4087 - val_accuracy: 0.8574 - val_precision: 0.8868 - val_recall: 0.8320\n",
            "Epoch 2/100\n",
            "750/750 [==============================] - 43s 57ms/step - loss: 0.3962 - accuracy: 0.8633 - precision: 0.8875 - recall: 0.8411 - val_loss: 0.4118 - val_accuracy: 0.8587 - val_precision: 0.8822 - val_recall: 0.8397\n",
            "Epoch 3/100\n",
            "750/750 [==============================] - 41s 55ms/step - loss: 0.3479 - accuracy: 0.8803 - precision: 0.9013 - recall: 0.8617 - val_loss: 0.4249 - val_accuracy: 0.8621 - val_precision: 0.8817 - val_recall: 0.8410\n",
            "Epoch 4/100\n",
            "750/750 [==============================] - 44s 59ms/step - loss: 0.3153 - accuracy: 0.8915 - precision: 0.9092 - recall: 0.8761 - val_loss: 0.3400 - val_accuracy: 0.8791 - val_precision: 0.8975 - val_recall: 0.8662\n",
            "Epoch 5/100\n",
            "750/750 [==============================] - 40s 53ms/step - loss: 0.2938 - accuracy: 0.8991 - precision: 0.9149 - recall: 0.8838 - val_loss: 0.3146 - val_accuracy: 0.8937 - val_precision: 0.9074 - val_recall: 0.8807\n",
            "Epoch 6/100\n",
            "750/750 [==============================] - 36s 48ms/step - loss: 0.2767 - accuracy: 0.9039 - precision: 0.9184 - recall: 0.8907 - val_loss: 0.3741 - val_accuracy: 0.8775 - val_precision: 0.8950 - val_recall: 0.8627\n",
            "Epoch 7/100\n",
            "750/750 [==============================] - 39s 52ms/step - loss: 0.2661 - accuracy: 0.9075 - precision: 0.9212 - recall: 0.8953 - val_loss: 0.3214 - val_accuracy: 0.8970 - val_precision: 0.9089 - val_recall: 0.8869\n",
            "Epoch 8/100\n",
            "750/750 [==============================] - 36s 48ms/step - loss: 0.2529 - accuracy: 0.9112 - precision: 0.9237 - recall: 0.8995 - val_loss: 0.3230 - val_accuracy: 0.8935 - val_precision: 0.9058 - val_recall: 0.8831\n",
            "Epoch 9/100\n",
            "750/750 [==============================] - 35s 47ms/step - loss: 0.2375 - accuracy: 0.9181 - precision: 0.9298 - recall: 0.9077 - val_loss: 0.3453 - val_accuracy: 0.8864 - val_precision: 0.8995 - val_recall: 0.8750\n",
            "Epoch 10/100\n",
            "750/750 [==============================] - 40s 53ms/step - loss: 0.2265 - accuracy: 0.9195 - precision: 0.9308 - recall: 0.9103 - val_loss: 0.2897 - val_accuracy: 0.8988 - val_precision: 0.9157 - val_recall: 0.8868\n",
            "Epoch 11/100\n",
            "750/750 [==============================] - 35s 47ms/step - loss: 0.2220 - accuracy: 0.9227 - precision: 0.9330 - recall: 0.9139 - val_loss: 0.3292 - val_accuracy: 0.8970 - val_precision: 0.9074 - val_recall: 0.8881\n",
            "Epoch 12/100\n",
            "750/750 [==============================] - 36s 47ms/step - loss: 0.2121 - accuracy: 0.9256 - precision: 0.9348 - recall: 0.9175 - val_loss: 0.3157 - val_accuracy: 0.8981 - val_precision: 0.9102 - val_recall: 0.8911\n",
            "Epoch 13/100\n",
            "750/750 [==============================] - 41s 54ms/step - loss: 0.1968 - accuracy: 0.9312 - precision: 0.9395 - recall: 0.9237 - val_loss: 0.3027 - val_accuracy: 0.9001 - val_precision: 0.9097 - val_recall: 0.8922\n",
            "Epoch 14/100\n",
            "750/750 [==============================] - 36s 48ms/step - loss: 0.3570 - accuracy: 0.9128 - precision: 0.9216 - recall: 0.9057 - val_loss: 0.3554 - val_accuracy: 0.8793 - val_precision: 0.8960 - val_recall: 0.8653\n",
            "Epoch 15/100\n",
            "750/750 [==============================] - 39s 52ms/step - loss: 0.2362 - accuracy: 0.9165 - precision: 0.9281 - recall: 0.9059 - val_loss: 0.2861 - val_accuracy: 0.9016 - val_precision: 0.9119 - val_recall: 0.8914\n",
            "Epoch 16/100\n",
            "750/750 [==============================] - 54s 72ms/step - loss: 0.1740 - accuracy: 0.9369 - precision: 0.9444 - recall: 0.9302 - val_loss: 0.3074 - val_accuracy: 0.9032 - val_precision: 0.9130 - val_recall: 0.8969\n",
            "Epoch 17/100\n",
            "750/750 [==============================] - 36s 48ms/step - loss: 0.1640 - accuracy: 0.9414 - precision: 0.9478 - recall: 0.9354 - val_loss: 0.3132 - val_accuracy: 0.8999 - val_precision: 0.9087 - val_recall: 0.8933\n",
            "Epoch 18/100\n",
            "750/750 [==============================] - 40s 54ms/step - loss: 0.1627 - accuracy: 0.9414 - precision: 0.9477 - recall: 0.9361 - val_loss: 0.2983 - val_accuracy: 0.9065 - val_precision: 0.9160 - val_recall: 0.8991\n",
            "Epoch 19/100\n",
            "750/750 [==============================] - 35s 46ms/step - loss: 0.1551 - accuracy: 0.9451 - precision: 0.9512 - recall: 0.9400 - val_loss: 0.3203 - val_accuracy: 0.9025 - val_precision: 0.9108 - val_recall: 0.8981\n",
            "Epoch 20/100\n",
            "750/750 [==============================] - 35s 47ms/step - loss: 0.1565 - accuracy: 0.9444 - precision: 0.9499 - recall: 0.9390 - val_loss: 0.3441 - val_accuracy: 0.8931 - val_precision: 0.9032 - val_recall: 0.8858\n",
            "Epoch 21/100\n",
            "750/750 [==============================] - 36s 47ms/step - loss: 0.1588 - accuracy: 0.9451 - precision: 0.9505 - recall: 0.9401 - val_loss: 0.3408 - val_accuracy: 0.8984 - val_precision: 0.9066 - val_recall: 0.8917\n",
            "Epoch 22/100\n",
            "750/750 [==============================] - 35s 47ms/step - loss: 0.1502 - accuracy: 0.9481 - precision: 0.9534 - recall: 0.9433 - val_loss: 0.3561 - val_accuracy: 0.8976 - val_precision: 0.9059 - val_recall: 0.8931\n",
            "Epoch 23/100\n",
            "750/750 [==============================] - 35s 47ms/step - loss: 0.1532 - accuracy: 0.9473 - precision: 0.9528 - recall: 0.9420 - val_loss: 0.3278 - val_accuracy: 0.9064 - val_precision: 0.9142 - val_recall: 0.9017\n",
            "Epoch 24/100\n",
            "750/750 [==============================] - 36s 48ms/step - loss: 0.1343 - accuracy: 0.9521 - precision: 0.9565 - recall: 0.9484 - val_loss: 0.3257 - val_accuracy: 0.9049 - val_precision: 0.9111 - val_recall: 0.8998\n",
            "Epoch 25/100\n",
            "750/750 [==============================] - 35s 46ms/step - loss: 0.1465 - accuracy: 0.9498 - precision: 0.9539 - recall: 0.9450 - val_loss: 0.3407 - val_accuracy: 0.9032 - val_precision: 0.9106 - val_recall: 0.8989\n",
            "Epoch 26/100\n",
            "750/750 [==============================] - 43s 58ms/step - loss: 0.1282 - accuracy: 0.9563 - precision: 0.9599 - recall: 0.9527 - val_loss: 0.3306 - val_accuracy: 0.9079 - val_precision: 0.9131 - val_recall: 0.9041\n",
            "Epoch 27/100\n",
            "750/750 [==============================] - 35s 47ms/step - loss: 0.1273 - accuracy: 0.9564 - precision: 0.9604 - recall: 0.9529 - val_loss: 0.3357 - val_accuracy: 0.9068 - val_precision: 0.9119 - val_recall: 0.9015\n",
            "Epoch 28/100\n",
            "750/750 [==============================] - 34s 46ms/step - loss: 0.1244 - accuracy: 0.9565 - precision: 0.9607 - recall: 0.9533 - val_loss: 0.3797 - val_accuracy: 0.9056 - val_precision: 0.9106 - val_recall: 0.9020\n",
            "Epoch 29/100\n",
            "750/750 [==============================] - 40s 54ms/step - loss: 0.1235 - accuracy: 0.9572 - precision: 0.9607 - recall: 0.9537 - val_loss: 0.3337 - val_accuracy: 0.9088 - val_precision: 0.9149 - val_recall: 0.9053\n",
            "Epoch 30/100\n",
            "750/750 [==============================] - 35s 47ms/step - loss: 0.1276 - accuracy: 0.9586 - precision: 0.9617 - recall: 0.9558 - val_loss: 0.5260 - val_accuracy: 0.8835 - val_precision: 0.8888 - val_recall: 0.8794\n",
            "Epoch 31/100\n",
            "750/750 [==============================] - 41s 55ms/step - loss: 0.1327 - accuracy: 0.9555 - precision: 0.9591 - recall: 0.9522 - val_loss: 0.3335 - val_accuracy: 0.9128 - val_precision: 0.9176 - val_recall: 0.9093\n",
            "Epoch 32/100\n",
            "750/750 [==============================] - 36s 48ms/step - loss: 0.0900 - accuracy: 0.9692 - precision: 0.9715 - recall: 0.9669 - val_loss: 0.3556 - val_accuracy: 0.9058 - val_precision: 0.9101 - val_recall: 0.9023\n",
            "Epoch 33/100\n",
            "750/750 [==============================] - 35s 46ms/step - loss: 0.0991 - accuracy: 0.9659 - precision: 0.9681 - recall: 0.9640 - val_loss: 0.4173 - val_accuracy: 0.8988 - val_precision: 0.9043 - val_recall: 0.8948\n",
            "Epoch 34/100\n",
            "750/750 [==============================] - 35s 47ms/step - loss: 0.1190 - accuracy: 0.9603 - precision: 0.9633 - recall: 0.9576 - val_loss: 0.3734 - val_accuracy: 0.8991 - val_precision: 0.9054 - val_recall: 0.8955\n",
            "Epoch 35/100\n",
            "750/750 [==============================] - 34s 45ms/step - loss: 0.0974 - accuracy: 0.9671 - precision: 0.9696 - recall: 0.9648 - val_loss: 0.3883 - val_accuracy: 0.9060 - val_precision: 0.9102 - val_recall: 0.9025\n",
            "Epoch 36/100\n",
            "750/750 [==============================] - 35s 47ms/step - loss: 0.0905 - accuracy: 0.9688 - precision: 0.9710 - recall: 0.9668 - val_loss: 0.3951 - val_accuracy: 0.9045 - val_precision: 0.9084 - val_recall: 0.9012\n",
            "Epoch 37/100\n",
            "750/750 [==============================] - 35s 47ms/step - loss: 0.6104 - accuracy: 0.9273 - precision: 0.9304 - recall: 0.9245 - val_loss: 0.3442 - val_accuracy: 0.8961 - val_precision: 0.9057 - val_recall: 0.8884\n",
            "Epoch 38/100\n",
            "750/750 [==============================] - 35s 47ms/step - loss: 0.1957 - accuracy: 0.9323 - precision: 0.9406 - recall: 0.9255 - val_loss: 0.2897 - val_accuracy: 0.9097 - val_precision: 0.9181 - val_recall: 0.9035\n",
            "Epoch 39/100\n",
            "750/750 [==============================] - 35s 47ms/step - loss: 0.1134 - accuracy: 0.9584 - precision: 0.9632 - recall: 0.9551 - val_loss: 0.3193 - val_accuracy: 0.9103 - val_precision: 0.9156 - val_recall: 0.9067\n",
            "Epoch 40/100\n",
            "750/750 [==============================] - 36s 48ms/step - loss: 0.0792 - accuracy: 0.9717 - precision: 0.9738 - recall: 0.9700 - val_loss: 0.3652 - val_accuracy: 0.9093 - val_precision: 0.9141 - val_recall: 0.9070\n",
            "Epoch 41/100\n",
            "750/750 [==============================] - 35s 47ms/step - loss: 0.0706 - accuracy: 0.9750 - precision: 0.9769 - recall: 0.9736 - val_loss: 0.3808 - val_accuracy: 0.9087 - val_precision: 0.9126 - val_recall: 0.9061\n",
            "Epoch 42/100\n",
            "750/750 [==============================] - 36s 48ms/step - loss: 0.0769 - accuracy: 0.9733 - precision: 0.9751 - recall: 0.9720 - val_loss: 0.3775 - val_accuracy: 0.9071 - val_precision: 0.9116 - val_recall: 0.9035\n",
            "Epoch 43/100\n",
            "750/750 [==============================] - 36s 48ms/step - loss: 0.0829 - accuracy: 0.9706 - precision: 0.9727 - recall: 0.9692 - val_loss: 0.3909 - val_accuracy: 0.9022 - val_precision: 0.9084 - val_recall: 0.8991\n",
            "Epoch 44/100\n",
            "750/750 [==============================] - 36s 47ms/step - loss: 0.0818 - accuracy: 0.9707 - precision: 0.9731 - recall: 0.9689 - val_loss: 0.3909 - val_accuracy: 0.9079 - val_precision: 0.9113 - val_recall: 0.9047\n",
            "Epoch 45/100\n",
            "750/750 [==============================] - 36s 48ms/step - loss: 0.1011 - accuracy: 0.9655 - precision: 0.9681 - recall: 0.9634 - val_loss: 0.3509 - val_accuracy: 0.9081 - val_precision: 0.9133 - val_recall: 0.9051\n",
            "Epoch 46/100\n",
            "750/750 [==============================] - 34s 46ms/step - loss: 0.0732 - accuracy: 0.9744 - precision: 0.9761 - recall: 0.9730 - val_loss: 0.3961 - val_accuracy: 0.9021 - val_precision: 0.9078 - val_recall: 0.8990\n",
            "Epoch 47/100\n",
            "750/750 [==============================] - 34s 46ms/step - loss: 0.0908 - accuracy: 0.9691 - precision: 0.9712 - recall: 0.9670 - val_loss: 0.4195 - val_accuracy: 0.9046 - val_precision: 0.9084 - val_recall: 0.9030\n",
            "Epoch 48/100\n",
            "750/750 [==============================] - 35s 47ms/step - loss: 0.1027 - accuracy: 0.9659 - precision: 0.9679 - recall: 0.9642 - val_loss: 0.4033 - val_accuracy: 0.9054 - val_precision: 0.9085 - val_recall: 0.9036\n",
            "Epoch 49/100\n",
            "750/750 [==============================] - 35s 47ms/step - loss: 0.0672 - accuracy: 0.9768 - precision: 0.9783 - recall: 0.9755 - val_loss: 0.4484 - val_accuracy: 0.8997 - val_precision: 0.9039 - val_recall: 0.8977\n",
            "Epoch 50/100\n",
            "750/750 [==============================] - 36s 48ms/step - loss: 0.0852 - accuracy: 0.9709 - precision: 0.9730 - recall: 0.9695 - val_loss: 0.4105 - val_accuracy: 0.9075 - val_precision: 0.9109 - val_recall: 0.9049\n",
            "Epoch 51/100\n",
            "750/750 [==============================] - 36s 47ms/step - loss: 0.0928 - accuracy: 0.9688 - precision: 0.9706 - recall: 0.9674 - val_loss: 0.4039 - val_accuracy: 0.9076 - val_precision: 0.9121 - val_recall: 0.9052\n"
          ]
        }
      ]
    },
    {
      "cell_type": "code",
      "source": [
        "clf1.summary()"
      ],
      "metadata": {
        "colab": {
          "base_uri": "https://localhost:8080/"
        },
        "id": "bu3NvOmUDNps",
        "outputId": "ee10da90-e4b8-48e5-c600-d3cb83c5fd3e"
      },
      "execution_count": 44,
      "outputs": [
        {
          "output_type": "stream",
          "name": "stdout",
          "text": [
            "Model: \"model\"\n",
            "__________________________________________________________________________________________________\n",
            " Layer (type)                Output Shape                 Param #   Connected to                  \n",
            "==================================================================================================\n",
            " input_1 (InputLayer)        [(None, 28, 28, 1)]          0         []                            \n",
            "                                                                                                  \n",
            " conv2d (Conv2D)             (None, 24, 24, 32)           800       ['input_1[0][0]']             \n",
            "                                                                                                  \n",
            " batch_normalization (Batch  (None, 24, 24, 32)           128       ['conv2d[0][0]']              \n",
            " Normalization)                                                                                   \n",
            "                                                                                                  \n",
            " activation (Activation)     (None, 24, 24, 32)           0         ['batch_normalization[0][0]'] \n",
            "                                                                                                  \n",
            " separable_conv2d (Separabl  (None, 24, 24, 16)           800       ['activation[0][0]']          \n",
            " eConv2D)                                                                                         \n",
            "                                                                                                  \n",
            " batch_normalization_1 (Bat  (None, 24, 24, 16)           64        ['separable_conv2d[0][0]']    \n",
            " chNormalization)                                                                                 \n",
            "                                                                                                  \n",
            " activation_1 (Activation)   (None, 24, 24, 16)           0         ['batch_normalization_1[0][0]'\n",
            "                                                                    ]                             \n",
            "                                                                                                  \n",
            " separable_conv2d_1 (Separa  (None, 24, 24, 16)           400       ['activation_1[0][0]']        \n",
            " bleConv2D)                                                                                       \n",
            "                                                                                                  \n",
            " max_pooling2d (MaxPooling2  (None, 12, 12, 16)           0         ['separable_conv2d_1[0][0]']  \n",
            " D)                                                                                               \n",
            "                                                                                                  \n",
            " batch_normalization_2 (Bat  (None, 12, 12, 16)           64        ['max_pooling2d[0][0]']       \n",
            " chNormalization)                                                                                 \n",
            "                                                                                                  \n",
            " activation_2 (Activation)   (None, 12, 12, 16)           0         ['batch_normalization_2[0][0]'\n",
            "                                                                    ]                             \n",
            "                                                                                                  \n",
            " separable_conv2d_2 (Separa  (None, 12, 12, 16)           400       ['activation_2[0][0]']        \n",
            " bleConv2D)                                                                                       \n",
            "                                                                                                  \n",
            " batch_normalization_3 (Bat  (None, 12, 12, 16)           64        ['separable_conv2d_2[0][0]']  \n",
            " chNormalization)                                                                                 \n",
            "                                                                                                  \n",
            " activation_3 (Activation)   (None, 12, 12, 16)           0         ['batch_normalization_3[0][0]'\n",
            "                                                                    ]                             \n",
            "                                                                                                  \n",
            " separable_conv2d_3 (Separa  (None, 12, 12, 16)           400       ['activation_3[0][0]']        \n",
            " bleConv2D)                                                                                       \n",
            "                                                                                                  \n",
            " conv2d_1 (Conv2D)           (None, 12, 12, 16)           512       ['conv2d[0][0]']              \n",
            "                                                                                                  \n",
            " add (Add)                   (None, 12, 12, 16)           0         ['separable_conv2d_3[0][0]',  \n",
            "                                                                     'conv2d_1[0][0]']            \n",
            "                                                                                                  \n",
            " batch_normalization_4 (Bat  (None, 12, 12, 16)           64        ['add[0][0]']                 \n",
            " chNormalization)                                                                                 \n",
            "                                                                                                  \n",
            " activation_4 (Activation)   (None, 12, 12, 16)           0         ['batch_normalization_4[0][0]'\n",
            "                                                                    ]                             \n",
            "                                                                                                  \n",
            " separable_conv2d_4 (Separa  (None, 12, 12, 32)           656       ['activation_4[0][0]']        \n",
            " bleConv2D)                                                                                       \n",
            "                                                                                                  \n",
            " batch_normalization_5 (Bat  (None, 12, 12, 32)           128       ['separable_conv2d_4[0][0]']  \n",
            " chNormalization)                                                                                 \n",
            "                                                                                                  \n",
            " activation_5 (Activation)   (None, 12, 12, 32)           0         ['batch_normalization_5[0][0]'\n",
            "                                                                    ]                             \n",
            "                                                                                                  \n",
            " separable_conv2d_5 (Separa  (None, 12, 12, 32)           1312      ['activation_5[0][0]']        \n",
            " bleConv2D)                                                                                       \n",
            "                                                                                                  \n",
            " max_pooling2d_1 (MaxPoolin  (None, 6, 6, 32)             0         ['separable_conv2d_5[0][0]']  \n",
            " g2D)                                                                                             \n",
            "                                                                                                  \n",
            " batch_normalization_6 (Bat  (None, 6, 6, 32)             128       ['max_pooling2d_1[0][0]']     \n",
            " chNormalization)                                                                                 \n",
            "                                                                                                  \n",
            " activation_6 (Activation)   (None, 6, 6, 32)             0         ['batch_normalization_6[0][0]'\n",
            "                                                                    ]                             \n",
            "                                                                                                  \n",
            " separable_conv2d_6 (Separa  (None, 6, 6, 32)             1312      ['activation_6[0][0]']        \n",
            " bleConv2D)                                                                                       \n",
            "                                                                                                  \n",
            " batch_normalization_7 (Bat  (None, 6, 6, 32)             128       ['separable_conv2d_6[0][0]']  \n",
            " chNormalization)                                                                                 \n",
            "                                                                                                  \n",
            " activation_7 (Activation)   (None, 6, 6, 32)             0         ['batch_normalization_7[0][0]'\n",
            "                                                                    ]                             \n",
            "                                                                                                  \n",
            " separable_conv2d_7 (Separa  (None, 6, 6, 32)             1312      ['activation_7[0][0]']        \n",
            " bleConv2D)                                                                                       \n",
            "                                                                                                  \n",
            " conv2d_2 (Conv2D)           (None, 6, 6, 32)             512       ['add[0][0]']                 \n",
            "                                                                                                  \n",
            " add_1 (Add)                 (None, 6, 6, 32)             0         ['separable_conv2d_7[0][0]',  \n",
            "                                                                     'conv2d_2[0][0]']            \n",
            "                                                                                                  \n",
            " batch_normalization_8 (Bat  (None, 6, 6, 32)             128       ['add_1[0][0]']               \n",
            " chNormalization)                                                                                 \n",
            "                                                                                                  \n",
            " activation_8 (Activation)   (None, 6, 6, 32)             0         ['batch_normalization_8[0][0]'\n",
            "                                                                    ]                             \n",
            "                                                                                                  \n",
            " separable_conv2d_8 (Separa  (None, 6, 6, 64)             2336      ['activation_8[0][0]']        \n",
            " bleConv2D)                                                                                       \n",
            "                                                                                                  \n",
            " batch_normalization_9 (Bat  (None, 6, 6, 64)             256       ['separable_conv2d_8[0][0]']  \n",
            " chNormalization)                                                                                 \n",
            "                                                                                                  \n",
            " activation_9 (Activation)   (None, 6, 6, 64)             0         ['batch_normalization_9[0][0]'\n",
            "                                                                    ]                             \n",
            "                                                                                                  \n",
            " separable_conv2d_9 (Separa  (None, 6, 6, 64)             4672      ['activation_9[0][0]']        \n",
            " bleConv2D)                                                                                       \n",
            "                                                                                                  \n",
            " max_pooling2d_2 (MaxPoolin  (None, 3, 3, 64)             0         ['separable_conv2d_9[0][0]']  \n",
            " g2D)                                                                                             \n",
            "                                                                                                  \n",
            " batch_normalization_10 (Ba  (None, 3, 3, 64)             256       ['max_pooling2d_2[0][0]']     \n",
            " tchNormalization)                                                                                \n",
            "                                                                                                  \n",
            " activation_10 (Activation)  (None, 3, 3, 64)             0         ['batch_normalization_10[0][0]\n",
            "                                                                    ']                            \n",
            "                                                                                                  \n",
            " separable_conv2d_10 (Separ  (None, 3, 3, 64)             4672      ['activation_10[0][0]']       \n",
            " ableConv2D)                                                                                      \n",
            "                                                                                                  \n",
            " batch_normalization_11 (Ba  (None, 3, 3, 64)             256       ['separable_conv2d_10[0][0]'] \n",
            " tchNormalization)                                                                                \n",
            "                                                                                                  \n",
            " activation_11 (Activation)  (None, 3, 3, 64)             0         ['batch_normalization_11[0][0]\n",
            "                                                                    ']                            \n",
            "                                                                                                  \n",
            " separable_conv2d_11 (Separ  (None, 3, 3, 64)             4672      ['activation_11[0][0]']       \n",
            " ableConv2D)                                                                                      \n",
            "                                                                                                  \n",
            " conv2d_3 (Conv2D)           (None, 3, 3, 64)             2048      ['add_1[0][0]']               \n",
            "                                                                                                  \n",
            " add_2 (Add)                 (None, 3, 3, 64)             0         ['separable_conv2d_11[0][0]', \n",
            "                                                                     'conv2d_3[0][0]']            \n",
            "                                                                                                  \n",
            " batch_normalization_12 (Ba  (None, 3, 3, 64)             256       ['add_2[0][0]']               \n",
            " tchNormalization)                                                                                \n",
            "                                                                                                  \n",
            " activation_12 (Activation)  (None, 3, 3, 64)             0         ['batch_normalization_12[0][0]\n",
            "                                                                    ']                            \n",
            "                                                                                                  \n",
            " separable_conv2d_12 (Separ  (None, 3, 3, 128)            8768      ['activation_12[0][0]']       \n",
            " ableConv2D)                                                                                      \n",
            "                                                                                                  \n",
            " batch_normalization_13 (Ba  (None, 3, 3, 128)            512       ['separable_conv2d_12[0][0]'] \n",
            " tchNormalization)                                                                                \n",
            "                                                                                                  \n",
            " activation_13 (Activation)  (None, 3, 3, 128)            0         ['batch_normalization_13[0][0]\n",
            "                                                                    ']                            \n",
            "                                                                                                  \n",
            " separable_conv2d_13 (Separ  (None, 3, 3, 128)            17536     ['activation_13[0][0]']       \n",
            " ableConv2D)                                                                                      \n",
            "                                                                                                  \n",
            " max_pooling2d_3 (MaxPoolin  (None, 2, 2, 128)            0         ['separable_conv2d_13[0][0]'] \n",
            " g2D)                                                                                             \n",
            "                                                                                                  \n",
            " batch_normalization_14 (Ba  (None, 2, 2, 128)            512       ['max_pooling2d_3[0][0]']     \n",
            " tchNormalization)                                                                                \n",
            "                                                                                                  \n",
            " activation_14 (Activation)  (None, 2, 2, 128)            0         ['batch_normalization_14[0][0]\n",
            "                                                                    ']                            \n",
            "                                                                                                  \n",
            " separable_conv2d_14 (Separ  (None, 2, 2, 128)            17536     ['activation_14[0][0]']       \n",
            " ableConv2D)                                                                                      \n",
            "                                                                                                  \n",
            " batch_normalization_15 (Ba  (None, 2, 2, 128)            512       ['separable_conv2d_14[0][0]'] \n",
            " tchNormalization)                                                                                \n",
            "                                                                                                  \n",
            " activation_15 (Activation)  (None, 2, 2, 128)            0         ['batch_normalization_15[0][0]\n",
            "                                                                    ']                            \n",
            "                                                                                                  \n",
            " separable_conv2d_15 (Separ  (None, 2, 2, 128)            17536     ['activation_15[0][0]']       \n",
            " ableConv2D)                                                                                      \n",
            "                                                                                                  \n",
            " conv2d_4 (Conv2D)           (None, 2, 2, 128)            8192      ['add_2[0][0]']               \n",
            "                                                                                                  \n",
            " add_3 (Add)                 (None, 2, 2, 128)            0         ['separable_conv2d_15[0][0]', \n",
            "                                                                     'conv2d_4[0][0]']            \n",
            "                                                                                                  \n",
            " batch_normalization_16 (Ba  (None, 2, 2, 128)            512       ['add_3[0][0]']               \n",
            " tchNormalization)                                                                                \n",
            "                                                                                                  \n",
            " activation_16 (Activation)  (None, 2, 2, 128)            0         ['batch_normalization_16[0][0]\n",
            "                                                                    ']                            \n",
            "                                                                                                  \n",
            " separable_conv2d_16 (Separ  (None, 2, 2, 256)            33920     ['activation_16[0][0]']       \n",
            " ableConv2D)                                                                                      \n",
            "                                                                                                  \n",
            " batch_normalization_17 (Ba  (None, 2, 2, 256)            1024      ['separable_conv2d_16[0][0]'] \n",
            " tchNormalization)                                                                                \n",
            "                                                                                                  \n",
            " activation_17 (Activation)  (None, 2, 2, 256)            0         ['batch_normalization_17[0][0]\n",
            "                                                                    ']                            \n",
            "                                                                                                  \n",
            " separable_conv2d_17 (Separ  (None, 2, 2, 256)            67840     ['activation_17[0][0]']       \n",
            " ableConv2D)                                                                                      \n",
            "                                                                                                  \n",
            " max_pooling2d_4 (MaxPoolin  (None, 1, 1, 256)            0         ['separable_conv2d_17[0][0]'] \n",
            " g2D)                                                                                             \n",
            "                                                                                                  \n",
            " batch_normalization_18 (Ba  (None, 1, 1, 256)            1024      ['max_pooling2d_4[0][0]']     \n",
            " tchNormalization)                                                                                \n",
            "                                                                                                  \n",
            " activation_18 (Activation)  (None, 1, 1, 256)            0         ['batch_normalization_18[0][0]\n",
            "                                                                    ']                            \n",
            "                                                                                                  \n",
            " separable_conv2d_18 (Separ  (None, 1, 1, 256)            67840     ['activation_18[0][0]']       \n",
            " ableConv2D)                                                                                      \n",
            "                                                                                                  \n",
            " batch_normalization_19 (Ba  (None, 1, 1, 256)            1024      ['separable_conv2d_18[0][0]'] \n",
            " tchNormalization)                                                                                \n",
            "                                                                                                  \n",
            " activation_19 (Activation)  (None, 1, 1, 256)            0         ['batch_normalization_19[0][0]\n",
            "                                                                    ']                            \n",
            "                                                                                                  \n",
            " separable_conv2d_19 (Separ  (None, 1, 1, 256)            67840     ['activation_19[0][0]']       \n",
            " ableConv2D)                                                                                      \n",
            "                                                                                                  \n",
            " conv2d_5 (Conv2D)           (None, 1, 1, 256)            32768     ['add_3[0][0]']               \n",
            "                                                                                                  \n",
            " add_4 (Add)                 (None, 1, 1, 256)            0         ['separable_conv2d_19[0][0]', \n",
            "                                                                     'conv2d_5[0][0]']            \n",
            "                                                                                                  \n",
            " batch_normalization_20 (Ba  (None, 1, 1, 256)            1024      ['add_4[0][0]']               \n",
            " tchNormalization)                                                                                \n",
            "                                                                                                  \n",
            " activation_20 (Activation)  (None, 1, 1, 256)            0         ['batch_normalization_20[0][0]\n",
            "                                                                    ']                            \n",
            "                                                                                                  \n",
            " separable_conv2d_20 (Separ  (None, 1, 1, 512)            133376    ['activation_20[0][0]']       \n",
            " ableConv2D)                                                                                      \n",
            "                                                                                                  \n",
            " batch_normalization_21 (Ba  (None, 1, 1, 512)            2048      ['separable_conv2d_20[0][0]'] \n",
            " tchNormalization)                                                                                \n",
            "                                                                                                  \n",
            " activation_21 (Activation)  (None, 1, 1, 512)            0         ['batch_normalization_21[0][0]\n",
            "                                                                    ']                            \n",
            "                                                                                                  \n",
            " separable_conv2d_21 (Separ  (None, 1, 1, 512)            266752    ['activation_21[0][0]']       \n",
            " ableConv2D)                                                                                      \n",
            "                                                                                                  \n",
            " max_pooling2d_5 (MaxPoolin  (None, 1, 1, 512)            0         ['separable_conv2d_21[0][0]'] \n",
            " g2D)                                                                                             \n",
            "                                                                                                  \n",
            " batch_normalization_22 (Ba  (None, 1, 1, 512)            2048      ['max_pooling2d_5[0][0]']     \n",
            " tchNormalization)                                                                                \n",
            "                                                                                                  \n",
            " activation_22 (Activation)  (None, 1, 1, 512)            0         ['batch_normalization_22[0][0]\n",
            "                                                                    ']                            \n",
            "                                                                                                  \n",
            " separable_conv2d_22 (Separ  (None, 1, 1, 512)            266752    ['activation_22[0][0]']       \n",
            " ableConv2D)                                                                                      \n",
            "                                                                                                  \n",
            " batch_normalization_23 (Ba  (None, 1, 1, 512)            2048      ['separable_conv2d_22[0][0]'] \n",
            " tchNormalization)                                                                                \n",
            "                                                                                                  \n",
            " activation_23 (Activation)  (None, 1, 1, 512)            0         ['batch_normalization_23[0][0]\n",
            "                                                                    ']                            \n",
            "                                                                                                  \n",
            " separable_conv2d_23 (Separ  (None, 1, 1, 512)            266752    ['activation_23[0][0]']       \n",
            " ableConv2D)                                                                                      \n",
            "                                                                                                  \n",
            " conv2d_6 (Conv2D)           (None, 1, 1, 512)            131072    ['add_4[0][0]']               \n",
            "                                                                                                  \n",
            " add_5 (Add)                 (None, 1, 1, 512)            0         ['separable_conv2d_23[0][0]', \n",
            "                                                                     'conv2d_6[0][0]']            \n",
            "                                                                                                  \n",
            " batch_normalization_24 (Ba  (None, 1, 1, 512)            2048      ['add_5[0][0]']               \n",
            " tchNormalization)                                                                                \n",
            "                                                                                                  \n",
            " activation_24 (Activation)  (None, 1, 1, 512)            0         ['batch_normalization_24[0][0]\n",
            "                                                                    ']                            \n",
            "                                                                                                  \n",
            " separable_conv2d_24 (Separ  (None, 1, 1, 1024)           528896    ['activation_24[0][0]']       \n",
            " ableConv2D)                                                                                      \n",
            "                                                                                                  \n",
            " batch_normalization_25 (Ba  (None, 1, 1, 1024)           4096      ['separable_conv2d_24[0][0]'] \n",
            " tchNormalization)                                                                                \n",
            "                                                                                                  \n",
            " activation_25 (Activation)  (None, 1, 1, 1024)           0         ['batch_normalization_25[0][0]\n",
            "                                                                    ']                            \n",
            "                                                                                                  \n",
            " separable_conv2d_25 (Separ  (None, 1, 1, 1024)           1057792   ['activation_25[0][0]']       \n",
            " ableConv2D)                                                                                      \n",
            "                                                                                                  \n",
            " max_pooling2d_6 (MaxPoolin  (None, 1, 1, 1024)           0         ['separable_conv2d_25[0][0]'] \n",
            " g2D)                                                                                             \n",
            "                                                                                                  \n",
            " batch_normalization_26 (Ba  (None, 1, 1, 1024)           4096      ['max_pooling2d_6[0][0]']     \n",
            " tchNormalization)                                                                                \n",
            "                                                                                                  \n",
            " activation_26 (Activation)  (None, 1, 1, 1024)           0         ['batch_normalization_26[0][0]\n",
            "                                                                    ']                            \n",
            "                                                                                                  \n",
            " separable_conv2d_26 (Separ  (None, 1, 1, 1024)           1057792   ['activation_26[0][0]']       \n",
            " ableConv2D)                                                                                      \n",
            "                                                                                                  \n",
            " batch_normalization_27 (Ba  (None, 1, 1, 1024)           4096      ['separable_conv2d_26[0][0]'] \n",
            " tchNormalization)                                                                                \n",
            "                                                                                                  \n",
            " activation_27 (Activation)  (None, 1, 1, 1024)           0         ['batch_normalization_27[0][0]\n",
            "                                                                    ']                            \n",
            "                                                                                                  \n",
            " separable_conv2d_27 (Separ  (None, 1, 1, 1024)           1057792   ['activation_27[0][0]']       \n",
            " ableConv2D)                                                                                      \n",
            "                                                                                                  \n",
            " conv2d_7 (Conv2D)           (None, 1, 1, 1024)           524288    ['add_5[0][0]']               \n",
            "                                                                                                  \n",
            " add_6 (Add)                 (None, 1, 1, 1024)           0         ['separable_conv2d_27[0][0]', \n",
            "                                                                     'conv2d_7[0][0]']            \n",
            "                                                                                                  \n",
            " batch_normalization_28 (Ba  (None, 1, 1, 1024)           4096      ['add_6[0][0]']               \n",
            " tchNormalization)                                                                                \n",
            "                                                                                                  \n",
            " activation_28 (Activation)  (None, 1, 1, 1024)           0         ['batch_normalization_28[0][0]\n",
            "                                                                    ']                            \n",
            "                                                                                                  \n",
            " separable_conv2d_28 (Separ  (None, 1, 1, 2048)           2106368   ['activation_28[0][0]']       \n",
            " ableConv2D)                                                                                      \n",
            "                                                                                                  \n",
            " batch_normalization_29 (Ba  (None, 1, 1, 2048)           8192      ['separable_conv2d_28[0][0]'] \n",
            " tchNormalization)                                                                                \n",
            "                                                                                                  \n",
            " activation_29 (Activation)  (None, 1, 1, 2048)           0         ['batch_normalization_29[0][0]\n",
            "                                                                    ']                            \n",
            "                                                                                                  \n",
            " separable_conv2d_29 (Separ  (None, 1, 1, 2048)           4212736   ['activation_29[0][0]']       \n",
            " ableConv2D)                                                                                      \n",
            "                                                                                                  \n",
            " max_pooling2d_7 (MaxPoolin  (None, 1, 1, 2048)           0         ['separable_conv2d_29[0][0]'] \n",
            " g2D)                                                                                             \n",
            "                                                                                                  \n",
            " batch_normalization_30 (Ba  (None, 1, 1, 2048)           8192      ['max_pooling2d_7[0][0]']     \n",
            " tchNormalization)                                                                                \n",
            "                                                                                                  \n",
            " activation_30 (Activation)  (None, 1, 1, 2048)           0         ['batch_normalization_30[0][0]\n",
            "                                                                    ']                            \n",
            "                                                                                                  \n",
            " separable_conv2d_30 (Separ  (None, 1, 1, 2048)           4212736   ['activation_30[0][0]']       \n",
            " ableConv2D)                                                                                      \n",
            "                                                                                                  \n",
            " batch_normalization_31 (Ba  (None, 1, 1, 2048)           8192      ['separable_conv2d_30[0][0]'] \n",
            " tchNormalization)                                                                                \n",
            "                                                                                                  \n",
            " activation_31 (Activation)  (None, 1, 1, 2048)           0         ['batch_normalization_31[0][0]\n",
            "                                                                    ']                            \n",
            "                                                                                                  \n",
            " separable_conv2d_31 (Separ  (None, 1, 1, 2048)           4212736   ['activation_31[0][0]']       \n",
            " ableConv2D)                                                                                      \n",
            "                                                                                                  \n",
            " conv2d_8 (Conv2D)           (None, 1, 1, 2048)           2097152   ['add_6[0][0]']               \n",
            "                                                                                                  \n",
            " add_7 (Add)                 (None, 1, 1, 2048)           0         ['separable_conv2d_31[0][0]', \n",
            "                                                                     'conv2d_8[0][0]']            \n",
            "                                                                                                  \n",
            " global_average_pooling2d (  (None, 2048)                 0         ['add_7[0][0]']               \n",
            " GlobalAveragePooling2D)                                                                          \n",
            "                                                                                                  \n",
            " dropout (Dropout)           (None, 2048)                 0         ['global_average_pooling2d[0][\n",
            "                                                                    0]']                          \n",
            "                                                                                                  \n",
            " dense (Dense)               (None, 10)                   20490     ['dropout[0][0]']             \n",
            "                                                                                                  \n",
            "==================================================================================================\n",
            "Total params: 22577290 (86.13 MB)\n",
            "Trainable params: 22548682 (86.02 MB)\n",
            "Non-trainable params: 28608 (111.75 KB)\n",
            "__________________________________________________________________________________________________\n"
          ]
        }
      ]
    },
    {
      "cell_type": "code",
      "source": [
        "history_clf_dict = history_clf1.history\n",
        "loss_values = history_clf_dict[\"loss\"]\n",
        "val_loss_values = history_clf_dict[\"val_loss\"]\n",
        "epochs = range(1, len(loss_values) + 1)\n",
        "plt.figure(figsize=(5,2))\n",
        "plt.plot(epochs, loss_values, \"bo\", label=\"Training loss\")\n",
        "plt.plot(epochs, val_loss_values, \"b\", label=\"Validation loss\")\n",
        "plt.title(\"Training and validation loss\")\n",
        "plt.xlabel(\"Epochs\")\n",
        "plt.ylabel(\"Loss\")\n",
        "plt.legend()\n",
        "plt.show()"
      ],
      "metadata": {
        "colab": {
          "base_uri": "https://localhost:8080/",
          "height": 256
        },
        "id": "LHhZuStX_zo2",
        "outputId": "de8fb479-c33b-4162-f187-aa7740d34433"
      },
      "execution_count": 16,
      "outputs": [
        {
          "output_type": "display_data",
          "data": {
            "text/plain": [
              "<Figure size 500x200 with 1 Axes>"
            ],
            "image/png": "[encoded data removed]"
          },
          "metadata": {}
        }
      ]
    },
    {
      "cell_type": "code",
      "source": [
        "acc = history_clf_dict[\"accuracy\"]\n",
        "val_acc = history_clf_dict[\"val_accuracy\"]\n",
        "plt.figure(figsize=(5,2))\n",
        "plt.plot(epochs, acc, \"bo\", label=\"Training acc\")\n",
        "plt.plot(epochs, val_acc, \"b\", label=\"Validation acc\")\n",
        "plt.title(\"Training and validation accuracy\")\n",
        "plt.xlabel(\"Epochs\")\n",
        "plt.ylabel(\"Accuracy\")\n",
        "plt.legend()\n",
        "plt.show()"
      ],
      "metadata": {
        "colab": {
          "base_uri": "https://localhost:8080/",
          "height": 256
        },
        "id": "V3EfU4TyAASs",
        "outputId": "62155d72-5230-4186-ab7e-8a89a146ced3"
      },
      "execution_count": 17,
      "outputs": [
        {
          "output_type": "display_data",
          "data": {
            "text/plain": [
              "<Figure size 500x200 with 1 Axes>"
            ],
            "image/png": "[encoded data removed]"
          },
          "metadata": {}
        }
      ]
    },
    {
      "cell_type": "code",
      "source": [
        "xception = tf.keras.saving.load_model('/content/drive/Shareddrives/ECEN_758_Project/xception_stable_II.h5')"
      ],
      "metadata": {
        "id": "vIHZIJNLz8hA"
      },
      "execution_count": 18,
      "outputs": []
    },
    {
      "cell_type": "code",
      "source": [
        "test_loss, test_acc, test_precision, test_recall = xception.evaluate(x_test, y_test_clf_encoded)\n",
        "\n",
        "accuracy_score = round(test_acc*1000) / 10\n",
        "precision_score = round(test_precision*1000) / 10\n",
        "recall_score = round(test_recall*1000) / 10\n",
        "\n",
        "print(f\"accuracy score: {accuracy_score}\")\n",
        "print(f\"precison score: {precision_score}\")\n",
        "print(f\"recall score: {recall_score}\")"
      ],
      "metadata": {
        "colab": {
          "base_uri": "https://localhost:8080/"
        },
        "id": "xiID3bdz0OPU",
        "outputId": "98487fb0-230b-4f4e-bbf6-1c83769fac02"
      },
      "execution_count": 19,
      "outputs": [
        {
          "output_type": "stream",
          "name": "stdout",
          "text": [
            "313/313 [==============================] - 4s 10ms/step - loss: 0.3502 - accuracy: 0.9092 - precision: 0.9148 - recall: 0.9061\n",
            "accuracy score: 90.9\n",
            "precison score: 91.5\n",
            "recall score: 90.6\n"
          ]
        }
      ]
    },
    {
      "cell_type": "code",
      "source": [
        "xception_test_proba = xception.predict(x_test)\n",
        "xception_test_labels = []\n",
        "for i in range(len(xception_test_proba)):\n",
        "  xception_test_label = np.argmax(xception_test_proba[i])\n",
        "  xception_test_labels.append(xception_test_label)\n",
        "# fig, ax = plt.subplots(figsize=(10, 5))\n",
        "# ConfusionMatrixDisplay.from_predictions(testdata['label'], y_predTest, ax=ax)\n",
        "# ax.xaxis.set_ticklabels(labels_info.values(), rotation = 90)\n",
        "# ax.yaxis.set_ticklabels(labels_info.values())\n",
        "# _ = ax.set_title(\n",
        "#     f\"Confusion Matrix for Random Forest Classifier Test Set\"\n",
        "# )\n",
        "\n",
        "# print(classification_report(y_test, xception_test_labels))"
      ],
      "metadata": {
        "colab": {
          "base_uri": "https://localhost:8080/"
        },
        "id": "OuGOcbLcDpkF",
        "outputId": "1ae3e98c-b6cc-4965-e725-1a2f295ef52d"
      },
      "execution_count": 20,
      "outputs": [
        {
          "output_type": "stream",
          "name": "stdout",
          "text": [
            "313/313 [==============================] - 3s 7ms/step\n"
          ]
        }
      ]
    },
    {
      "cell_type": "code",
      "source": [
        "print(classification_report(y_test, xception_test_labels))"
      ],
      "metadata": {
        "colab": {
          "base_uri": "https://localhost:8080/"
        },
        "id": "7Ifu5gRSElgR",
        "outputId": "d242c982-d521-4d4a-dbd5-38b042ff4622"
      },
      "execution_count": 21,
      "outputs": [
        {
          "output_type": "stream",
          "name": "stdout",
          "text": [
            "              precision    recall  f1-score   support\n",
            "\n",
            "           0       0.86      0.86      0.86      1000\n",
            "           1       0.99      0.98      0.99      1000\n",
            "           2       0.86      0.87      0.86      1000\n",
            "           3       0.92      0.91      0.91      1000\n",
            "           4       0.82      0.88      0.85      1000\n",
            "           5       0.98      0.98      0.98      1000\n",
            "           6       0.78      0.72      0.75      1000\n",
            "           7       0.95      0.96      0.96      1000\n",
            "           8       0.97      0.97      0.97      1000\n",
            "           9       0.96      0.96      0.96      1000\n",
            "\n",
            "    accuracy                           0.91     10000\n",
            "   macro avg       0.91      0.91      0.91     10000\n",
            "weighted avg       0.91      0.91      0.91     10000\n",
            "\n"
          ]
        }
      ]
    },
    {
      "cell_type": "code",
      "source": [
        "xception_specialized06 = tf.keras.saving.load_model('/content/drive/Shareddrives/ECEN_758_Project/xception_06.h5')"
      ],
      "metadata": {
        "id": "IoBDwHPLApnR"
      },
      "execution_count": null,
      "outputs": []
    },
    {
      "cell_type": "code",
      "source": [
        "xception_specialized26 = tf.keras.saving.load_model('/content/drive/Shareddrives/ECEN_758_Project/xception_26.h5')"
      ],
      "metadata": {
        "id": "owsAZhueejrF"
      },
      "execution_count": 37,
      "outputs": []
    },
    {
      "cell_type": "code",
      "source": [
        "xception_specialized46 = tf.keras.saving.load_model('/content/drive/Shareddrives/ECEN_758_Project/xception_46.h5')"
      ],
      "metadata": {
        "id": "3eBaokt6Aiw8"
      },
      "execution_count": null,
      "outputs": []
    },
    {
      "cell_type": "markdown",
      "source": [
        "#### Achieved the same metrics without pipeline | So, not required anymore"
      ],
      "metadata": {
        "id": "yMQqsMCkFlKI"
      }
    },
    {
      "cell_type": "code",
      "source": [
        "xgboost = XGBClassifier(n_estimators=35, max_depth=15, learning_rate=1, device=\"cuda\")"
      ],
      "metadata": {
        "id": "V8wmr99v1dbD"
      },
      "execution_count": null,
      "outputs": []
    },
    {
      "cell_type": "code",
      "source": [
        "xgboost.fit(X_train_rf, y_train_clf)"
      ],
      "metadata": {
        "colab": {
          "base_uri": "https://localhost:8080/",
          "height": 320
        },
        "id": "oTyf1rKa1xG5",
        "outputId": "3c0d4a28-d6ce-4307-9d25-ebf6f3c87776"
      },
      "execution_count": null,
      "outputs": [
        {
          "output_type": "stream",
          "name": "stderr",
          "text": [
            "/usr/local/lib/python3.10/dist-packages/xgboost/core.py:160: UserWarning: [01:53:30] WARNING: /workspace/src/learner.cc:742: \n",
            "Parameters: { \"criterion\" } are not used.\n",
            "\n",
            "  warnings.warn(smsg, UserWarning)\n"
          ]
        },
        {
          "output_type": "execute_result",
          "data": {
            "text/plain": [
              "XGBClassifier(base_score=None, booster=None, callbacks=None,\n",
              "              colsample_bylevel=None, colsample_bynode=None,\n",
              "              colsample_bytree=None, criterion='gini', device=None,\n",
              "              early_stopping_rounds=None, enable_categorical=False,\n",
              "              eval_metric=None, feature_types=None, gamma=None,\n",
              "              grow_policy=None, importance_type=None,\n",
              "              interaction_constraints=None, learning_rate=None, max_bin=None,\n",
              "              max_cat_threshold=None, max_cat_to_onehot=None,\n",
              "              max_delta_step=None, max_depth=35, max_leaves=None,\n",
              "              min_child_weight=None, missing=nan, monotone_constraints=None,\n",
              "              multi_strategy=None, n_estimators=100, n_jobs=None,\n",
              "              num_parallel_tree=None, ...)"
            ],
            "text/html": [
              "<style>#sk-container-id-1 {color: black;background-color: white;}#sk-container-id-1 pre{padding: 0;}#sk-container-id-1 div.sk-toggleable {background-color: white;}#sk-container-id-1 label.sk-toggleable__label {cursor: pointer;display: block;width: 100%;margin-bottom: 0;padding: 0.3em;box-sizing: border-box;text-align: center;}#sk-container-id-1 label.sk-toggleable__label-arrow:before {content: \"▸\";float: left;margin-right: 0.25em;color: #696969;}#sk-container-id-1 label.sk-toggleable__label-arrow:hover:before {color: black;}#sk-container-id-1 div.sk-estimator:hover label.sk-toggleable__label-arrow:before {color: black;}#sk-container-id-1 div.sk-toggleable__content {max-height: 0;max-width: 0;overflow: hidden;text-align: left;background-color: #f0f8ff;}#sk-container-id-1 div.sk-toggleable__content pre {margin: 0.2em;color: black;border-radius: 0.25em;background-color: #f0f8ff;}#sk-container-id-1 input.sk-toggleable__control:checked~div.sk-toggleable__content {max-height: 200px;max-width: 100%;overflow: auto;}#sk-container-id-1 input.sk-toggleable__control:checked~label.sk-toggleable__label-arrow:before {content: \"▾\";}#sk-container-id-1 div.sk-estimator input.sk-toggleable__control:checked~label.sk-toggleable__label {background-color: #d4ebff;}#sk-container-id-1 div.sk-label input.sk-toggleable__control:checked~label.sk-toggleable__label {background-color: #d4ebff;}#sk-container-id-1 input.sk-hidden--visually {border: 0;clip: rect(1px 1px 1px 1px);clip: rect(1px, 1px, 1px, 1px);height: 1px;margin: -1px;overflow: hidden;padding: 0;position: absolute;width: 1px;}#sk-container-id-1 div.sk-estimator {font-family: monospace;background-color: #f0f8ff;border: 1px dotted black;border-radius: 0.25em;box-sizing: border-box;margin-bottom: 0.5em;}#sk-container-id-1 div.sk-estimator:hover {background-color: #d4ebff;}#sk-container-id-1 div.sk-parallel-item::after {content: \"\";width: 100%;border-bottom: 1px solid gray;flex-grow: 1;}#sk-container-id-1 div.sk-label:hover label.sk-toggleable__label {background-color: #d4ebff;}#sk-container-id-1 div.sk-serial::before {content: \"\";position: absolute;border-left: 1px solid gray;box-sizing: border-box;top: 0;bottom: 0;left: 50%;z-index: 0;}#sk-container-id-1 div.sk-serial {display: flex;flex-direction: column;align-items: center;background-color: white;padding-right: 0.2em;padding-left: 0.2em;position: relative;}#sk-container-id-1 div.sk-item {position: relative;z-index: 1;}#sk-container-id-1 div.sk-parallel {display: flex;align-items: stretch;justify-content: center;background-color: white;position: relative;}#sk-container-id-1 div.sk-item::before, #sk-container-id-1 div.sk-parallel-item::before {content: \"\";position: absolute;border-left: 1px solid gray;box-sizing: border-box;top: 0;bottom: 0;left: 50%;z-index: -1;}#sk-container-id-1 div.sk-parallel-item {display: flex;flex-direction: column;z-index: 1;position: relative;background-color: white;}#sk-container-id-1 div.sk-parallel-item:first-child::after {align-self: flex-end;width: 50%;}#sk-container-id-1 div.sk-parallel-item:last-child::after {align-self: flex-start;width: 50%;}#sk-container-id-1 div.sk-parallel-item:only-child::after {width: 0;}#sk-container-id-1 div.sk-dashed-wrapped {border: 1px dashed gray;margin: 0 0.4em 0.5em 0.4em;box-sizing: border-box;padding-bottom: 0.4em;background-color: white;}#sk-container-id-1 div.sk-label label {font-family: monospace;font-weight: bold;display: inline-block;line-height: 1.2em;}#sk-container-id-1 div.sk-label-container {text-align: center;}#sk-container-id-1 div.sk-container {/* jupyter's `normalize.less` sets `[hidden] { display: none; }` but bootstrap.min.css set `[hidden] { display: none !important; }` so we also need the `!important` here to be able to override the default hidden behavior on the sphinx rendered scikit-learn.org. See: https://github.com/scikit-learn/scikit-learn/issues/21755 */display: inline-block !important;position: relative;}#sk-container-id-1 div.sk-text-repr-fallback {display: none;}</style><div id=\"sk-container-id-1\" class=\"sk-top-container\"><div class=\"sk-text-repr-fallback\"><pre>XGBClassifier(base_score=None, booster=None, callbacks=None,\n",
              "              colsample_bylevel=None, colsample_bynode=None,\n",
              "              colsample_bytree=None, criterion=&#x27;gini&#x27;, device=None,\n",
              "              early_stopping_rounds=None, enable_categorical=False,\n",
              "              eval_metric=None, feature_types=None, gamma=None,\n",
              "              grow_policy=None, importance_type=None,\n",
              "              interaction_constraints=None, learning_rate=None, max_bin=None,\n",
              "              max_cat_threshold=None, max_cat_to_onehot=None,\n",
              "              max_delta_step=None, max_depth=35, max_leaves=None,\n",
              "              min_child_weight=None, missing=nan, monotone_constraints=None,\n",
              "              multi_strategy=None, n_estimators=100, n_jobs=None,\n",
              "              num_parallel_tree=None, ...)</pre><b>In a Jupyter environment, please rerun this cell to show the HTML representation or trust the notebook. <br />On GitHub, the HTML representation is unable to render, please try loading this page with nbviewer.org.</b></div><div class=\"sk-container\" hidden><div class=\"sk-item\"><div class=\"sk-estimator sk-toggleable\"><input class=\"sk-toggleable__control sk-hidden--visually\" id=\"sk-estimator-id-1\" type=\"checkbox\" checked><label for=\"sk-estimator-id-1\" class=\"sk-toggleable__label sk-toggleable__label-arrow\">XGBClassifier</label><div class=\"sk-toggleable__content\"><pre>XGBClassifier(base_score=None, booster=None, callbacks=None,\n",
              "              colsample_bylevel=None, colsample_bynode=None,\n",
              "              colsample_bytree=None, criterion=&#x27;gini&#x27;, device=None,\n",
              "              early_stopping_rounds=None, enable_categorical=False,\n",
              "              eval_metric=None, feature_types=None, gamma=None,\n",
              "              grow_policy=None, importance_type=None,\n",
              "              interaction_constraints=None, learning_rate=None, max_bin=None,\n",
              "              max_cat_threshold=None, max_cat_to_onehot=None,\n",
              "              max_delta_step=None, max_depth=35, max_leaves=None,\n",
              "              min_child_weight=None, missing=nan, monotone_constraints=None,\n",
              "              multi_strategy=None, n_estimators=100, n_jobs=None,\n",
              "              num_parallel_tree=None, ...)</pre></div></div></div></div></div>"
            ]
          },
          "metadata": {},
          "execution_count": 7
        }
      ]
    },
    {
      "cell_type": "code",
      "source": [
        "filename = 'xgboost.pkl'\n",
        "pickle.dump(xgboost,  open(filename, 'wb'))"
      ],
      "metadata": {
        "id": "4TQVYgT2_yLY"
      },
      "execution_count": null,
      "outputs": []
    },
    {
      "cell_type": "code",
      "source": [
        "xgboostStable = pickle.load(open('/content/drive/Shareddrives/ECEN_758_Project/xgboost.pkl', 'rb'))"
      ],
      "metadata": {
        "id": "S8107q2AbndJ"
      },
      "execution_count": 22,
      "outputs": []
    },
    {
      "cell_type": "code",
      "source": [
        "y_val_rf = xgboostStable.predict(X_val_rf)\n",
        "xgboost_val_proba = xgboostStable.predict_proba(X_test_rf)\n",
        "\n",
        "# fig, ax = plt.subplots(figsize=(10, 5))\n",
        "# ConfusionMatrixDisplay.from_predictions(testdata['label'], y_val_rf, ax=ax)\n",
        "# ax.xaxis.set_ticklabels(labels_info.values(), rotation = 90)\n",
        "# ax.yaxis.set_ticklabels(labels_info.values())\n",
        "# _ = ax.set_title(\n",
        "#     f\"Confusion Matrix for Random Forest Classifier Test Set\"\n",
        "# )\n",
        "\n",
        "print(classification_report(y_val_clf, y_val_rf))"
      ],
      "metadata": {
        "colab": {
          "base_uri": "https://localhost:8080/"
        },
        "id": "g-3b8lD2_7Ie",
        "outputId": "98b0773a-8e2f-4328-daf1-44f0f0c892fa"
      },
      "execution_count": 23,
      "outputs": [
        {
          "output_type": "stream",
          "name": "stdout",
          "text": [
            "              precision    recall  f1-score   support\n",
            "\n",
            "           0       0.83      0.88      0.85      1202\n",
            "           1       0.99      0.98      0.99      1219\n",
            "           2       0.82      0.85      0.84      1205\n",
            "           3       0.88      0.93      0.90      1184\n",
            "           4       0.82      0.85      0.84      1202\n",
            "           5       0.98      0.97      0.97      1211\n",
            "           6       0.77      0.65      0.70      1218\n",
            "           7       0.95      0.96      0.96      1159\n",
            "           8       0.97      0.97      0.97      1197\n",
            "           9       0.96      0.97      0.96      1203\n",
            "\n",
            "    accuracy                           0.90     12000\n",
            "   macro avg       0.90      0.90      0.90     12000\n",
            "weighted avg       0.90      0.90      0.90     12000\n",
            "\n"
          ]
        }
      ]
    },
    {
      "cell_type": "code",
      "source": [
        "y_test_rf = xgboostStable.predict(X_test_rf)\n",
        "xgboost_test_proba = xgboostStable.predict_proba(X_test_rf)\n",
        "\n",
        "# fig, ax = plt.subplots(figsize=(10, 5))\n",
        "# ConfusionMatrixDisplay.from_predictions(testdata['label'], y_predTest, ax=ax)\n",
        "# ax.xaxis.set_ticklabels(labels_info.values(), rotation = 90)\n",
        "# ax.yaxis.set_ticklabels(labels_info.values())\n",
        "# _ = ax.set_title(\n",
        "#     f\"Confusion Matrix for Random Forest Classifier Test Set\"\n",
        "# )\n",
        "\n",
        "print(classification_report(y_test, y_test_rf))"
      ],
      "metadata": {
        "colab": {
          "base_uri": "https://localhost:8080/"
        },
        "id": "MpEFW8CxAxqy",
        "outputId": "5aa1acc2-f324-4815-eebf-857a5ee98e94"
      },
      "execution_count": 24,
      "outputs": [
        {
          "output_type": "stream",
          "name": "stdout",
          "text": [
            "              precision    recall  f1-score   support\n",
            "\n",
            "           0       0.83      0.87      0.85      1000\n",
            "           1       1.00      0.97      0.98      1000\n",
            "           2       0.79      0.84      0.81      1000\n",
            "           3       0.89      0.92      0.90      1000\n",
            "           4       0.80      0.82      0.81      1000\n",
            "           5       0.98      0.97      0.98      1000\n",
            "           6       0.74      0.63      0.68      1000\n",
            "           7       0.95      0.97      0.96      1000\n",
            "           8       0.97      0.97      0.97      1000\n",
            "           9       0.96      0.96      0.96      1000\n",
            "\n",
            "    accuracy                           0.89     10000\n",
            "   macro avg       0.89      0.89      0.89     10000\n",
            "weighted avg       0.89      0.89      0.89     10000\n",
            "\n"
          ]
        }
      ]
    },
    {
      "cell_type": "code",
      "source": [
        "def getconflicts(classifier1_labels, classifier2_labels):\n",
        "\n",
        "  label_conflicts = np.where(np.not_equal(classifier1_labels, classifier2_labels))\n",
        "  conflicts = []\n",
        "  for i in label_conflicts[0]:\n",
        "    conflicts.append(i)\n",
        "\n",
        "  return conflicts, label_conflicts\n",
        "\n",
        "\n",
        "def maxprobasFromCLF(classifer1probas, classifier2probas):\n",
        "\n",
        "  maxprobas_classifier1 = []\n",
        "  for i in range(len(classifer1probas)):\n",
        "    maxprobas_classifier1.append(np.max(classifer1probas[i]))\n",
        "\n",
        "  maxprobas_classifier2 = []\n",
        "  for j in range(len(classifier2probas)):\n",
        "    maxprobas_classifier2.append(np.max(classifier2probas[j]))\n",
        "\n",
        "  return maxprobas_classifier1, maxprobas_classifier2\n",
        "\n",
        "\n",
        "def getconflictlabels(conflictsArray, classifier1_labels, classifier2_labels):\n",
        "\n",
        "  classifier1_coflict_labels = []\n",
        "  for i in conflicts:\n",
        "    classifier1_coflict_labels.append(classifier1_labels[i])\n",
        "\n",
        "  classifier2_coflict_labels = []\n",
        "  for i in conflicts:\n",
        "    classifier2_coflict_labels.append(classifier2_labels[i])\n",
        "\n",
        "  return classifier1_coflict_labels, classifier2_coflict_labels\n",
        "\n",
        "\n",
        "def getconflictprobas(conflictsArray, classifier1_probas, classifier2_probas):\n",
        "\n",
        "  classifier1_coflict_probas = []\n",
        "  for i in conflicts:\n",
        "    classifier1_coflict_probas.append(classifier1_probas[i])\n",
        "\n",
        "  classifier2_coflict_probas = []\n",
        "  for i in conflicts:\n",
        "    classifier2_coflict_probas.append(classifier2_probas[i])\n",
        "\n",
        "  return classifier1_coflict_probas, classifier2_coflict_probas\n",
        "\n",
        "\n",
        "def finalLabelsGeneric(conflictsArray, classifier1_conflictProbas, classifier2_conflictProbas, classifier1_labels, classifier2_labels):\n",
        "\n",
        "  xg = []\n",
        "  xc = []\n",
        "  xg_conflictprobas = []\n",
        "  xc_conflictprobas = []\n",
        "\n",
        "  for i in range(len(classifier1_conflictProbas)):\n",
        "    if classifier1_conflictProbas[i] > classifier2_conflictProbas[i]:\n",
        "      xg.append(conflictsArray[i])\n",
        "      xg_conflictprobas.append(classifier1_conflictProbas[i])\n",
        "    else:\n",
        "      xc.append(conflictsArray[i])\n",
        "      xc_conflictprobas.append(classifier2_conflictProbas[i])\n",
        "\n",
        "  final_labels = classifier2_labels\n",
        "\n",
        "  for i in xg:\n",
        "    xg_label = classifier1_labels[i]\n",
        "    final_labels[i] = xg_label\n",
        "\n",
        "  return final_labels, xg_conflictprobas, xc_conflictprobas"
      ],
      "metadata": {
        "id": "g4E-oXEVl5_u"
      },
      "execution_count": 25,
      "outputs": []
    },
    {
      "cell_type": "code",
      "source": [
        "conflicts, _ = getconflicts(y_test_rf, xception_test_labels)\n",
        "xgboost_probas, xception_probas = maxprobasFromCLF(xgboost_test_proba, xception_test_proba)\n",
        "xgboost_coflict_labels, xception_coflict_labels = getconflictlabels(conflicts, y_test_rf, xception_test_labels)\n",
        "xgboost_coflict_probas, xception_coflict_probas = getconflictprobas(conflicts, xgboost_probas, xception_probas)"
      ],
      "metadata": {
        "id": "cAiMiXwdmu4I"
      },
      "execution_count": 26,
      "outputs": []
    },
    {
      "cell_type": "code",
      "source": [
        "finalLabels_generic, xg_conflictprobas, xc_conflictprobas = finalLabelsGeneric(conflicts, xgboost_coflict_probas, xception_coflict_probas, y_test_rf, xception_test_labels)"
      ],
      "metadata": {
        "id": "OSMWqH6qFpxH"
      },
      "execution_count": 27,
      "outputs": []
    },
    {
      "cell_type": "code",
      "source": [
        "print(classification_report(y_test, finalLabels_generic))"
      ],
      "metadata": {
        "colab": {
          "base_uri": "https://localhost:8080/"
        },
        "id": "wfEJ2Lkmjr-f",
        "outputId": "a08d1f52-b81d-47ea-8c6d-d6fce0f09417"
      },
      "execution_count": 28,
      "outputs": [
        {
          "output_type": "stream",
          "name": "stdout",
          "text": [
            "              precision    recall  f1-score   support\n",
            "\n",
            "           0       0.86      0.88      0.87      1000\n",
            "           1       1.00      0.98      0.99      1000\n",
            "           2       0.86      0.87      0.86      1000\n",
            "           3       0.91      0.93      0.92      1000\n",
            "           4       0.83      0.87      0.85      1000\n",
            "           5       0.98      0.99      0.99      1000\n",
            "           6       0.79      0.71      0.75      1000\n",
            "           7       0.96      0.97      0.97      1000\n",
            "           8       0.97      0.98      0.97      1000\n",
            "           9       0.97      0.97      0.97      1000\n",
            "\n",
            "    accuracy                           0.91     10000\n",
            "   macro avg       0.91      0.91      0.91     10000\n",
            "weighted avg       0.91      0.91      0.91     10000\n",
            "\n"
          ]
        }
      ]
    },
    {
      "cell_type": "code",
      "source": [
        "xg_conflictprobas"
      ],
      "metadata": {
        "id": "eg5dGfi83hSW"
      },
      "execution_count": null,
      "outputs": []
    },
    {
      "cell_type": "code",
      "source": [
        "confusingLabels = []\n",
        "confusingSample = {}\n",
        "for i in range(len(xception_test_labels)):\n",
        "\n",
        "  if xception_test_labels[i] == 2 or xception_test_labels[i] == 6:\n",
        "    confusingSample.update({i: x_test[i]})"
      ],
      "metadata": {
        "id": "J6JP9JAIcHMF"
      },
      "execution_count": 32,
      "outputs": []
    },
    {
      "cell_type": "code",
      "source": [
        "keys = list(confusingSample.keys())\n",
        "print(np.unique(keys))\n",
        "print(len(keys))"
      ],
      "metadata": {
        "id": "1RBDZXuaoExl",
        "colab": {
          "base_uri": "https://localhost:8080/"
        },
        "outputId": "ccea3ceb-f91f-4e7f-8fb0-0f389b315f47"
      },
      "execution_count": 31,
      "outputs": [
        {
          "output_type": "stream",
          "name": "stdout",
          "text": [
            "[   1    4    7 ... 9970 9971 9985]\n",
            "1911\n"
          ]
        }
      ]
    },
    {
      "cell_type": "code",
      "source": [
        "keys[0:10]"
      ],
      "metadata": {
        "colab": {
          "base_uri": "https://localhost:8080/"
        },
        "id": "fMvdDl0Qoaif",
        "outputId": "707e5f54-fa0c-4243-c8cf-fe9f72783222"
      },
      "execution_count": 33,
      "outputs": [
        {
          "output_type": "execute_result",
          "data": {
            "text/plain": [
              "[1, 4, 7, 16, 17, 20, 25, 26, 44, 46]"
            ]
          },
          "metadata": {},
          "execution_count": 33
        }
      ]
    },
    {
      "cell_type": "code",
      "source": [
        "exp_samples = list(confusingSample.values())"
      ],
      "metadata": {
        "id": "9Wt0MpK8mpb9"
      },
      "execution_count": 34,
      "outputs": []
    },
    {
      "cell_type": "code",
      "source": [
        "exp_samples = np.array(exp_samples)"
      ],
      "metadata": {
        "id": "cnyVWgmgqaFd"
      },
      "execution_count": 35,
      "outputs": []
    },
    {
      "cell_type": "code",
      "source": [
        "exp_samples.shape"
      ],
      "metadata": {
        "colab": {
          "base_uri": "https://localhost:8080/"
        },
        "id": "elKyPmTVqsxE",
        "outputId": "505cf59c-d345-4fd0-d3cb-564248e00230"
      },
      "execution_count": 36,
      "outputs": [
        {
          "output_type": "execute_result",
          "data": {
            "text/plain": [
              "(1911, 28, 28)"
            ]
          },
          "metadata": {},
          "execution_count": 36
        }
      ]
    },
    {
      "cell_type": "code",
      "source": [
        "xception_specialized26_test_proba = xception_specialized26.predict(exp_samples)\n",
        "xception_specialized26_test_labels = []\n",
        "for i in range(len(xception_specialized26_test_proba)):\n",
        "  xception_specialized26_test_label = np.argmax(xception_specialized26_test_proba[i])\n",
        "  xception_specialized26_test_labels.append(xception_specialized26_test_label)"
      ],
      "metadata": {
        "colab": {
          "base_uri": "https://localhost:8080/"
        },
        "id": "Sq6Fq5JznTjx",
        "outputId": "94d320d2-6e6a-440c-ad0a-1c1a1b6c0cff"
      },
      "execution_count": 39,
      "outputs": [
        {
          "output_type": "stream",
          "name": "stdout",
          "text": [
            "60/60 [==============================] - 0s 7ms/step\n"
          ]
        }
      ]
    },
    {
      "cell_type": "code",
      "source": [
        "xception_specialized26_test_labels[0:10]"
      ],
      "metadata": {
        "colab": {
          "base_uri": "https://localhost:8080/"
        },
        "id": "ZIJJdDSZuyUO",
        "outputId": "a476c7c9-c56d-4826-b212-e91d1a3e038f"
      },
      "execution_count": 40,
      "outputs": [
        {
          "output_type": "execute_result",
          "data": {
            "text/plain": [
              "[2, 6, 6, 2, 2, 2, 2, 6, 6, 6]"
            ]
          },
          "metadata": {},
          "execution_count": 40
        }
      ]
    },
    {
      "cell_type": "code",
      "source": [
        "count = 0\n",
        "labels_finalI = xception_test_labels\n",
        "for k in keys:\n",
        "  if xception_specialized26_test_labels[count] == 6:\n",
        "    labels_finalI[k] = xception_specialized26_test_labels[count]\n",
        "  count += 1"
      ],
      "metadata": {
        "id": "iLxRhqxgq84v"
      },
      "execution_count": 41,
      "outputs": []
    },
    {
      "cell_type": "code",
      "source": [
        "print(classification_report(y_test, labels_finalI))"
      ],
      "metadata": {
        "colab": {
          "base_uri": "https://localhost:8080/"
        },
        "id": "jBhQ02ztq8b5",
        "outputId": "e55d1385-2088-4da2-b3b3-beb80848daa8"
      },
      "execution_count": 42,
      "outputs": [
        {
          "output_type": "stream",
          "name": "stdout",
          "text": [
            "              precision    recall  f1-score   support\n",
            "\n",
            "           0       0.86      0.88      0.87      1000\n",
            "           1       1.00      0.98      0.99      1000\n",
            "           2       0.89      0.84      0.86      1000\n",
            "           3       0.91      0.93      0.92      1000\n",
            "           4       0.83      0.87      0.85      1000\n",
            "           5       0.98      0.99      0.99      1000\n",
            "           6       0.76      0.74      0.75      1000\n",
            "           7       0.96      0.97      0.97      1000\n",
            "           8       0.97      0.98      0.97      1000\n",
            "           9       0.97      0.97      0.97      1000\n",
            "\n",
            "    accuracy                           0.91     10000\n",
            "   macro avg       0.91      0.91      0.91     10000\n",
            "weighted avg       0.91      0.91      0.91     10000\n",
            "\n"
          ]
        }
      ]
    }
  ]
}