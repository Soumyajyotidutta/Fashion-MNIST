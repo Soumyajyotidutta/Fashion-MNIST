{
  "nbformat": 4,
  "nbformat_minor": 0,
  "metadata": {
    "colab": {
      "provenance": [],
      "gpuType": "T4"
    },
    "kernelspec": {
      "name": "python3",
      "display_name": "Python 3"
    },
    "language_info": {
      "name": "python"
    },
    "accelerator": "GPU"
  },
  "cells": [
    {
      "cell_type": "code",
      "execution_count": 15,
      "metadata": {
        "id": "pLkSeTofBV0A"
      },
      "outputs": [],
      "source": [
        "import pickle\n",
        "import numpy as np\n",
        "import tensorflow as tf\n",
        "from xgboost import XGBClassifier\n",
        "from keras.datasets import fashion_mnist\n",
        "from sklearn.metrics import ConfusionMatrixDisplay, classification_report\n",
        "from keras.callbacks import ModelCheckpoint, EarlyStopping, LearningRateScheduler, ReduceLROnPlateau"
      ]
    },
    {
      "cell_type": "code",
      "source": [
        "from google.colab import drive\n",
        "drive.mount('/content/drive')"
      ],
      "metadata": {
        "colab": {
          "base_uri": "https://localhost:8080/"
        },
        "id": "Z5Bp-ba1LfXG",
        "outputId": "2283a4eb-98b9-47cd-9e06-11d1b10512de"
      },
      "execution_count": 2,
      "outputs": [
        {
          "output_type": "stream",
          "name": "stdout",
          "text": [
            "Drive already mounted at /content/drive; to attempt to forcibly remount, call drive.mount(\"/content/drive\", force_remount=True).\n"
          ]
        }
      ]
    },
    {
      "cell_type": "code",
      "source": [
        "(x_train, y_train), (x_test, y_test) = fashion_mnist.load_data()\n",
        "assert x_train.shape == (60000, 28, 28)\n",
        "assert x_test.shape == (10000, 28, 28)\n",
        "assert y_train.shape == (60000,)\n",
        "assert y_test.shape == (10000,)"
      ],
      "metadata": {
        "id": "LLEJbPqCCU7h"
      },
      "execution_count": 3,
      "outputs": []
    },
    {
      "cell_type": "code",
      "source": [
        "x_train = x_train.astype('float32') / 255\n",
        "x_test = x_test.astype('float32') / 255"
      ],
      "metadata": {
        "id": "qMZy1lOgQ6GU"
      },
      "execution_count": 4,
      "outputs": []
    },
    {
      "cell_type": "code",
      "source": [
        "from sklearn.model_selection import train_test_split\n",
        "X_train_clf, X_val_clf, y_train_clf, y_val_clf = train_test_split(x_train, y_train, test_size=0.2, random_state=42)"
      ],
      "metadata": {
        "id": "6RN38dX_DWoW"
      },
      "execution_count": 5,
      "outputs": []
    },
    {
      "cell_type": "code",
      "source": [
        "y_train_clf_encoded = tf.one_hot(y_train_clf, depth = 10)\n",
        "y_val_clf_encoded = tf.one_hot(y_val_clf, depth = 10)\n",
        "y_test_clf_encoded = tf.one_hot(y_test, depth = 10)"
      ],
      "metadata": {
        "id": "4F6mx64kDj3K"
      },
      "execution_count": 6,
      "outputs": []
    },
    {
      "cell_type": "code",
      "source": [
        "X_train_rf = X_train_clf.reshape(len(X_train_clf), 784)\n",
        "X_val_rf = X_val_clf.reshape(len(X_val_clf), 784)\n",
        "X_test_rf = x_test.reshape(len(x_test), 784)"
      ],
      "metadata": {
        "id": "ZkTWPjRm4yfw"
      },
      "execution_count": 7,
      "outputs": []
    },
    {
      "cell_type": "code",
      "source": [
        "tf.config.list_physical_devices('GPU')"
      ],
      "metadata": {
        "colab": {
          "base_uri": "https://localhost:8080/"
        },
        "id": "i6yg2Q5XCnI4",
        "outputId": "0200fa8e-1b82-43d6-d8ca-9184b900cbc3"
      },
      "execution_count": 8,
      "outputs": [
        {
          "output_type": "execute_result",
          "data": {
            "text/plain": [
              "[PhysicalDevice(name='/physical_device:GPU:0', device_type='GPU')]"
            ]
          },
          "metadata": {},
          "execution_count": 8
        }
      ]
    },
    {
      "cell_type": "code",
      "source": [
        "# data_augmentation = tf.keras.Sequential(\n",
        "#     [\n",
        "#         tf.keras.layers.RandomFlip(\"vertical\"),\n",
        "#         tf.keras.layers.RandomRotation(0.1),\n",
        "#         tf.keras.layers.RandomZoom(0.1),\n",
        "#     ]\n",
        "# )"
      ],
      "metadata": {
        "id": "AfjsAFLPKA1K"
      },
      "execution_count": 8,
      "outputs": []
    },
    {
      "cell_type": "code",
      "source": [
        "inputs = tf.keras.Input(shape=(28, 28, 1))\n",
        "# x = data_augmentation(inputs)\n",
        "x = inputs\n",
        "\n",
        "x = tf.keras.layers.Conv2D(filters=32, kernel_size=5, use_bias=False)(x)\n",
        "\n",
        "for size in [16, 32, 64, 128, 256, 512, 1024, 2048]:\n",
        "    residual = x\n",
        "\n",
        "    x = tf.keras.layers.BatchNormalization()(x)\n",
        "    x = tf.keras.layers.Activation(\"tanh\")(x)\n",
        "    x = tf.keras.layers.SeparableConv2D(size, 3, padding=\"same\", use_bias=False)(x)\n",
        "\n",
        "    x = tf.keras.layers.BatchNormalization()(x)\n",
        "    x = tf.keras.layers.Activation(\"tanh\")(x)\n",
        "    x = tf.keras.layers.SeparableConv2D(size, 3, padding=\"same\", use_bias=False)(x)\n",
        "\n",
        "    x = tf.keras.layers.MaxPooling2D(3, strides=2, padding=\"same\")(x)\n",
        "\n",
        "    x = tf.keras.layers.BatchNormalization()(x)\n",
        "    x = tf.keras.layers.Activation(\"tanh\")(x)\n",
        "    x = tf.keras.layers.SeparableConv2D(size, 3, padding=\"same\", use_bias=False)(x)\n",
        "\n",
        "    x = tf.keras.layers.BatchNormalization()(x)\n",
        "    x = tf.keras.layers.Activation(\"tanh\")(x)\n",
        "    x = tf.keras.layers.SeparableConv2D(size, 3, padding=\"same\", use_bias=False)(x)\n",
        "\n",
        "\n",
        "    residual = tf.keras.layers.Conv2D(\n",
        "        size, 1, strides=2, padding=\"same\", use_bias=False)(residual)\n",
        "    x = tf.keras.layers.add([x, residual])\n",
        "\n",
        "x = tf.keras.layers.GlobalAveragePooling2D()(x)\n",
        "x = tf.keras.layers.Dropout(0.5)(x)\n",
        "outputs = tf.keras.layers.Dense(10, activation=\"softmax\")(x)\n",
        "clf1 = tf.keras.Model(inputs=inputs, outputs=outputs)"
      ],
      "metadata": {
        "id": "H9S836JNC-mk"
      },
      "execution_count": 9,
      "outputs": []
    },
    {
      "cell_type": "code",
      "source": [
        "# clf1.summary()"
      ],
      "metadata": {
        "id": "bu3NvOmUDNps"
      },
      "execution_count": 10,
      "outputs": []
    },
    {
      "cell_type": "code",
      "source": [
        "callbacks_list = [\n",
        "    EarlyStopping(\n",
        "        monitor=\"val_accuracy\",\n",
        "        patience=5,\n",
        "    ),\n",
        "    ReduceLROnPlateau(monitor='val_loss', factor=0.2,\n",
        "                              patience=5, min_lr=0.0001),\n",
        "    ModelCheckpoint(\n",
        "        filepath=\"/content/drive/Shareddrives/ECEN_758_Project/xception_batchData_100_reduceLearnPlateau.h5\",\n",
        "        monitor=\"val_accuracy\",\n",
        "        save_best_only=True,\n",
        "    )\n",
        "]"
      ],
      "metadata": {
        "id": "5yo0NGSuDTSa"
      },
      "execution_count": 11,
      "outputs": []
    },
    {
      "cell_type": "code",
      "source": [
        "optimizer = tf.keras.optimizers.Adam(\n",
        "    learning_rate=0.001,\n",
        "    beta_1=0.9,\n",
        "    beta_2=0.999,\n",
        "    epsilon=1e-07,\n",
        "    amsgrad=False,\n",
        "    weight_decay=None\n",
        ")"
      ],
      "metadata": {
        "id": "JnwNPr-iEZRm"
      },
      "execution_count": 12,
      "outputs": []
    },
    {
      "cell_type": "code",
      "source": [
        "clf1.compile(loss=\"CategoricalCrossentropy\",\n",
        "              optimizer=optimizer,\n",
        "              metrics=[\"accuracy\", \"Precision\", \"Recall\"])\n",
        "history_clf1 = clf1.fit(\n",
        "    X_train_clf,\n",
        "    y_train_clf_encoded,\n",
        "    epochs=50,\n",
        "    batch_size=64,\n",
        "    callbacks=callbacks_list,\n",
        "    validation_data=(X_val_clf, y_val_clf_encoded)\n",
        ")"
      ],
      "metadata": {
        "colab": {
          "base_uri": "https://localhost:8080/"
        },
        "id": "3l_14FwnDrfI",
        "outputId": "cdfebfa3-a41e-40e6-9d82-f5543451a31e"
      },
      "execution_count": 13,
      "outputs": [
        {
          "output_type": "stream",
          "name": "stdout",
          "text": [
            "Epoch 1/50\n",
            "480/480 [==============================] - ETA: 0s - loss: 0.5352 - accuracy: 0.8104 - precision: 0.8542 - recall: 0.7724"
          ]
        },
        {
          "output_type": "stream",
          "name": "stderr",
          "text": [
            "/usr/local/lib/python3.10/dist-packages/keras/src/engine/training.py:3079: UserWarning: You are saving your model as an HDF5 file via `model.save()`. This file format is considered legacy. We recommend using instead the native Keras format, e.g. `model.save('my_model.keras')`.\n",
            "  saving_api.save_model(\n"
          ]
        },
        {
          "output_type": "stream",
          "name": "stdout",
          "text": [
            "\b\b\b\b\b\b\b\b\b\b\b\b\b\b\b\b\b\b\b\b\b\b\b\b\b\b\b\b\b\b\b\b\b\b\b\b\b\b\b\b\b\b\b\b\b\b\b\b\b\b\b\b\b\b\b\b\b\b\b\b\b\b\b\b\b\b\b\b\b\b\b\b\b\b\b\b\b\b\b\b\b\b\b\b\b\b\b\b\b\b\b\b\b\b\b\b\b\b\b\b\b\b\b\b\b\b\b\b\b\b\b\b\b\b\b\b\b\b\b\b\b\r480/480 [==============================] - 67s 69ms/step - loss: 0.5352 - accuracy: 0.8104 - precision: 0.8542 - recall: 0.7724 - val_loss: 0.5707 - val_accuracy: 0.8276 - val_precision: 0.9000 - val_recall: 0.7204 - lr: 0.0010\n",
            "Epoch 2/50\n",
            "480/480 [==============================] - 37s 77ms/step - loss: 0.3879 - accuracy: 0.8632 - precision: 0.8881 - recall: 0.8409 - val_loss: 0.3925 - val_accuracy: 0.8586 - val_precision: 0.8850 - val_recall: 0.8405 - lr: 0.0010\n",
            "Epoch 3/50\n",
            "480/480 [==============================] - 37s 76ms/step - loss: 0.3361 - accuracy: 0.8829 - precision: 0.9033 - recall: 0.8652 - val_loss: 0.3499 - val_accuracy: 0.8767 - val_precision: 0.8976 - val_recall: 0.8580 - lr: 0.0010\n",
            "Epoch 4/50\n",
            "480/480 [==============================] - 31s 64ms/step - loss: 0.3103 - accuracy: 0.8919 - precision: 0.9096 - recall: 0.8766 - val_loss: 0.3696 - val_accuracy: 0.8702 - val_precision: 0.8916 - val_recall: 0.8543 - lr: 0.0010\n",
            "Epoch 5/50\n",
            "480/480 [==============================] - 35s 73ms/step - loss: 0.2827 - accuracy: 0.9025 - precision: 0.9174 - recall: 0.8878 - val_loss: 0.3447 - val_accuracy: 0.8788 - val_precision: 0.8942 - val_recall: 0.8673 - lr: 0.0010\n",
            "Epoch 6/50\n",
            "480/480 [==============================] - 35s 73ms/step - loss: 0.2639 - accuracy: 0.9070 - precision: 0.9208 - recall: 0.8942 - val_loss: 0.3298 - val_accuracy: 0.8910 - val_precision: 0.9033 - val_recall: 0.8826 - lr: 0.0010\n",
            "Epoch 7/50\n",
            "480/480 [==============================] - 31s 64ms/step - loss: 0.2526 - accuracy: 0.9121 - precision: 0.9250 - recall: 0.9006 - val_loss: 0.3649 - val_accuracy: 0.8767 - val_precision: 0.8926 - val_recall: 0.8629 - lr: 0.0010\n",
            "Epoch 8/50\n",
            "480/480 [==============================] - 36s 75ms/step - loss: 0.2334 - accuracy: 0.9171 - precision: 0.9290 - recall: 0.9068 - val_loss: 0.3091 - val_accuracy: 0.8975 - val_precision: 0.9099 - val_recall: 0.8882 - lr: 0.0010\n",
            "Epoch 9/50\n",
            "480/480 [==============================] - 31s 64ms/step - loss: 0.2316 - accuracy: 0.9181 - precision: 0.9295 - recall: 0.9088 - val_loss: 0.3214 - val_accuracy: 0.8897 - val_precision: 0.9032 - val_recall: 0.8798 - lr: 0.0010\n",
            "Epoch 10/50\n",
            "480/480 [==============================] - 37s 78ms/step - loss: 0.2199 - accuracy: 0.9228 - precision: 0.9327 - recall: 0.9128 - val_loss: 0.2987 - val_accuracy: 0.8992 - val_precision: 0.9133 - val_recall: 0.8899 - lr: 0.0010\n",
            "Epoch 11/50\n",
            "480/480 [==============================] - 30s 63ms/step - loss: 0.2143 - accuracy: 0.9240 - precision: 0.9342 - recall: 0.9154 - val_loss: 0.3604 - val_accuracy: 0.8853 - val_precision: 0.8996 - val_recall: 0.8756 - lr: 0.0010\n",
            "Epoch 12/50\n",
            "480/480 [==============================] - 36s 75ms/step - loss: 0.2018 - accuracy: 0.9291 - precision: 0.9381 - recall: 0.9209 - val_loss: 0.2954 - val_accuracy: 0.9025 - val_precision: 0.9145 - val_recall: 0.8942 - lr: 0.0010\n",
            "Epoch 13/50\n",
            "480/480 [==============================] - 31s 65ms/step - loss: 0.1867 - accuracy: 0.9344 - precision: 0.9420 - recall: 0.9276 - val_loss: 0.3516 - val_accuracy: 0.8917 - val_precision: 0.9010 - val_recall: 0.8844 - lr: 0.0010\n",
            "Epoch 14/50\n",
            "480/480 [==============================] - 30s 63ms/step - loss: 0.1796 - accuracy: 0.9371 - precision: 0.9443 - recall: 0.9305 - val_loss: 0.3520 - val_accuracy: 0.8971 - val_precision: 0.9045 - val_recall: 0.8904 - lr: 0.0010\n",
            "Epoch 15/50\n",
            "480/480 [==============================] - 30s 63ms/step - loss: 0.1720 - accuracy: 0.9391 - precision: 0.9459 - recall: 0.9337 - val_loss: 0.3356 - val_accuracy: 0.8930 - val_precision: 0.9023 - val_recall: 0.8877 - lr: 0.0010\n",
            "Epoch 16/50\n",
            "480/480 [==============================] - 30s 63ms/step - loss: 0.1703 - accuracy: 0.9403 - precision: 0.9469 - recall: 0.9346 - val_loss: 0.3076 - val_accuracy: 0.9003 - val_precision: 0.9121 - val_recall: 0.8900 - lr: 0.0010\n",
            "Epoch 17/50\n",
            "480/480 [==============================] - 30s 63ms/step - loss: 0.1601 - accuracy: 0.9437 - precision: 0.9489 - recall: 0.9381 - val_loss: 0.3284 - val_accuracy: 0.8999 - val_precision: 0.9071 - val_recall: 0.8939 - lr: 0.0010\n"
          ]
        }
      ]
    },
    {
      "cell_type": "code",
      "source": [
        "import matplotlib.pyplot as plt\n",
        "\n",
        "history_clf_dict = history_clf1.history\n",
        "loss_values = history_clf_dict[\"loss\"]\n",
        "val_loss_values = history_clf_dict[\"val_loss\"]\n",
        "epochs = range(1, len(loss_values) + 1)\n",
        "plt.figure(figsize=(5,2))\n",
        "plt.plot(epochs, loss_values, \"bo\", label=\"Training loss\")\n",
        "plt.plot(epochs, val_loss_values, \"b\", label=\"Validation loss\")\n",
        "plt.title(\"Training and validation loss\")\n",
        "plt.xlabel(\"Epochs\")\n",
        "plt.ylabel(\"Loss\")\n",
        "plt.legend()\n",
        "plt.show()"
      ],
      "metadata": {
        "colab": {
          "base_uri": "https://localhost:8080/",
          "height": 256
        },
        "id": "LHhZuStX_zo2",
        "outputId": "6db7fa0b-fbd1-484c-e5c1-c9ccb42da417"
      },
      "execution_count": 14,
      "outputs": [
        {
          "output_type": "display_data",
          "data": {
            "text/plain": [
              "<Figure size 500x200 with 1 Axes>"
            ],
            "image/png": "[encoded data removed]"
          },
          "metadata": {}
        }
      ]
    },
    {
      "cell_type": "code",
      "source": [
        "acc = history_clf_dict[\"accuracy\"]\n",
        "val_acc = history_clf_dict[\"val_accuracy\"]\n",
        "plt.figure(figsize=(5,2))\n",
        "plt.plot(epochs, acc, \"bo\", label=\"Training acc\")\n",
        "plt.plot(epochs, val_acc, \"b\", label=\"Validation acc\")\n",
        "plt.title(\"Training and validation accuracy\")\n",
        "plt.xlabel(\"Epochs\")\n",
        "plt.ylabel(\"Accuracy\")\n",
        "plt.legend()\n",
        "plt.show()"
      ],
      "metadata": {
        "colab": {
          "base_uri": "https://localhost:8080/",
          "height": 256
        },
        "id": "V3EfU4TyAASs",
        "outputId": "5f12324a-dc54-409f-947b-a952af6b99f6"
      },
      "execution_count": 15,
      "outputs": [
        {
          "output_type": "display_data",
          "data": {
            "text/plain": [
              "<Figure size 500x200 with 1 Axes>"
            ],
            "image/png": "[encoded data removed]"
          },
          "metadata": {}
        }
      ]
    },
    {
      "cell_type": "code",
      "source": [
        "xception = tf.keras.saving.load_model('/content/drive/Shareddrives/ECEN_758_Project/xception_batchData_64.h5')"
      ],
      "metadata": {
        "id": "vIHZIJNLz8hA"
      },
      "execution_count": 9,
      "outputs": []
    },
    {
      "cell_type": "code",
      "source": [
        "test_loss, test_acc, test_precision, test_recall = xception.evaluate(x_test, y_test_clf_encoded)\n",
        "\n",
        "accuracy_score = round(test_acc*1000) / 10\n",
        "precision_score = round(test_precision*1000) / 10\n",
        "recall_score = round(test_recall*1000) / 10\n",
        "\n",
        "print(f\"accuracy score: {accuracy_score}\")\n",
        "print(f\"precison score: {precision_score}\")\n",
        "print(f\"recall score: {recall_score}\")"
      ],
      "metadata": {
        "colab": {
          "base_uri": "https://localhost:8080/"
        },
        "id": "xiID3bdz0OPU",
        "outputId": "c035afcd-62cb-466f-b4de-17c60068a5de"
      },
      "execution_count": 12,
      "outputs": [
        {
          "output_type": "stream",
          "name": "stdout",
          "text": [
            "313/313 [==============================] - 5s 14ms/step - loss: 0.3579 - accuracy: 0.9043 - precision: 0.9106 - recall: 0.8987\n",
            "accuracy score: 90.4\n",
            "precison score: 91.1\n",
            "recall score: 89.9\n"
          ]
        }
      ]
    },
    {
      "cell_type": "code",
      "source": [
        "xception_test_proba = xception.predict(x_test)\n",
        "xception_test_labels = []\n",
        "for i in range(len(xception_test_proba)):\n",
        "  xception_test_label = np.argmax(xception_test_proba[i])\n",
        "  xception_test_labels.append(xception_test_label)\n",
        "# fig, ax = plt.subplots(figsize=(10, 5))\n",
        "# ConfusionMatrixDisplay.from_predictions(testdata['label'], y_predTest, ax=ax)\n",
        "# ax.xaxis.set_ticklabels(labels_info.values(), rotation = 90)\n",
        "# ax.yaxis.set_ticklabels(labels_info.values())\n",
        "# _ = ax.set_title(\n",
        "#     f\"Confusion Matrix for Random Forest Classifier Test Set\"\n",
        "# )\n",
        "\n",
        "# print(classification_report(y_test, xception_test_labels))"
      ],
      "metadata": {
        "colab": {
          "base_uri": "https://localhost:8080/"
        },
        "id": "OuGOcbLcDpkF",
        "outputId": "f2ac1657-a74a-4a90-ba6d-f1a594b7c61e"
      },
      "execution_count": 20,
      "outputs": [
        {
          "output_type": "stream",
          "name": "stdout",
          "text": [
            "313/313 [==============================] - 3s 7ms/step\n"
          ]
        }
      ]
    },
    {
      "cell_type": "code",
      "source": [
        "print(classification_report(y_test, xception_test_labels))"
      ],
      "metadata": {
        "colab": {
          "base_uri": "https://localhost:8080/"
        },
        "id": "7Ifu5gRSElgR",
        "outputId": "44682842-e1a8-498a-8f07-8653a4c1f023"
      },
      "execution_count": 15,
      "outputs": [
        {
          "output_type": "stream",
          "name": "stdout",
          "text": [
            "              precision    recall  f1-score   support\n",
            "\n",
            "           0       0.84      0.87      0.86      1000\n",
            "           1       0.99      0.98      0.98      1000\n",
            "           2       0.89      0.85      0.87      1000\n",
            "           3       0.91      0.89      0.90      1000\n",
            "           4       0.82      0.88      0.85      1000\n",
            "           5       0.98      0.98      0.98      1000\n",
            "           6       0.74      0.71      0.72      1000\n",
            "           7       0.96      0.95      0.95      1000\n",
            "           8       0.97      0.97      0.97      1000\n",
            "           9       0.96      0.96      0.96      1000\n",
            "\n",
            "    accuracy                           0.90     10000\n",
            "   macro avg       0.90      0.90      0.90     10000\n",
            "weighted avg       0.90      0.90      0.90     10000\n",
            "\n"
          ]
        }
      ]
    },
    {
      "cell_type": "code",
      "source": [
        "xgboost = XGBClassifier(n_estimators=35, max_depth=15, learning_rate=1, device=\"cuda\")"
      ],
      "metadata": {
        "id": "V8wmr99v1dbD"
      },
      "execution_count": null,
      "outputs": []
    },
    {
      "cell_type": "code",
      "source": [
        "xgboost.fit(X_train_rf, y_train_clf)"
      ],
      "metadata": {
        "colab": {
          "base_uri": "https://localhost:8080/",
          "height": 320
        },
        "id": "oTyf1rKa1xG5",
        "outputId": "3c0d4a28-d6ce-4307-9d25-ebf6f3c87776"
      },
      "execution_count": null,
      "outputs": [
        {
          "output_type": "stream",
          "name": "stderr",
          "text": [
            "/usr/local/lib/python3.10/dist-packages/xgboost/core.py:160: UserWarning: [01:53:30] WARNING: /workspace/src/learner.cc:742: \n",
            "Parameters: { \"criterion\" } are not used.\n",
            "\n",
            "  warnings.warn(smsg, UserWarning)\n"
          ]
        },
        {
          "output_type": "execute_result",
          "data": {
            "text/plain": [
              "XGBClassifier(base_score=None, booster=None, callbacks=None,\n",
              "              colsample_bylevel=None, colsample_bynode=None,\n",
              "              colsample_bytree=None, criterion='gini', device=None,\n",
              "              early_stopping_rounds=None, enable_categorical=False,\n",
              "              eval_metric=None, feature_types=None, gamma=None,\n",
              "              grow_policy=None, importance_type=None,\n",
              "              interaction_constraints=None, learning_rate=None, max_bin=None,\n",
              "              max_cat_threshold=None, max_cat_to_onehot=None,\n",
              "              max_delta_step=None, max_depth=35, max_leaves=None,\n",
              "              min_child_weight=None, missing=nan, monotone_constraints=None,\n",
              "              multi_strategy=None, n_estimators=100, n_jobs=None,\n",
              "              num_parallel_tree=None, ...)"
            ],
            "text/html": [
              "<style>#sk-container-id-1 {color: black;background-color: white;}#sk-container-id-1 pre{padding: 0;}#sk-container-id-1 div.sk-toggleable {background-color: white;}#sk-container-id-1 label.sk-toggleable__label {cursor: pointer;display: block;width: 100%;margin-bottom: 0;padding: 0.3em;box-sizing: border-box;text-align: center;}#sk-container-id-1 label.sk-toggleable__label-arrow:before {content: \"▸\";float: left;margin-right: 0.25em;color: #696969;}#sk-container-id-1 label.sk-toggleable__label-arrow:hover:before {color: black;}#sk-container-id-1 div.sk-estimator:hover label.sk-toggleable__label-arrow:before {color: black;}#sk-container-id-1 div.sk-toggleable__content {max-height: 0;max-width: 0;overflow: hidden;text-align: left;background-color: #f0f8ff;}#sk-container-id-1 div.sk-toggleable__content pre {margin: 0.2em;color: black;border-radius: 0.25em;background-color: #f0f8ff;}#sk-container-id-1 input.sk-toggleable__control:checked~div.sk-toggleable__content {max-height: 200px;max-width: 100%;overflow: auto;}#sk-container-id-1 input.sk-toggleable__control:checked~label.sk-toggleable__label-arrow:before {content: \"▾\";}#sk-container-id-1 div.sk-estimator input.sk-toggleable__control:checked~label.sk-toggleable__label {background-color: #d4ebff;}#sk-container-id-1 div.sk-label input.sk-toggleable__control:checked~label.sk-toggleable__label {background-color: #d4ebff;}#sk-container-id-1 input.sk-hidden--visually {border: 0;clip: rect(1px 1px 1px 1px);clip: rect(1px, 1px, 1px, 1px);height: 1px;margin: -1px;overflow: hidden;padding: 0;position: absolute;width: 1px;}#sk-container-id-1 div.sk-estimator {font-family: monospace;background-color: #f0f8ff;border: 1px dotted black;border-radius: 0.25em;box-sizing: border-box;margin-bottom: 0.5em;}#sk-container-id-1 div.sk-estimator:hover {background-color: #d4ebff;}#sk-container-id-1 div.sk-parallel-item::after {content: \"\";width: 100%;border-bottom: 1px solid gray;flex-grow: 1;}#sk-container-id-1 div.sk-label:hover label.sk-toggleable__label {background-color: #d4ebff;}#sk-container-id-1 div.sk-serial::before {content: \"\";position: absolute;border-left: 1px solid gray;box-sizing: border-box;top: 0;bottom: 0;left: 50%;z-index: 0;}#sk-container-id-1 div.sk-serial {display: flex;flex-direction: column;align-items: center;background-color: white;padding-right: 0.2em;padding-left: 0.2em;position: relative;}#sk-container-id-1 div.sk-item {position: relative;z-index: 1;}#sk-container-id-1 div.sk-parallel {display: flex;align-items: stretch;justify-content: center;background-color: white;position: relative;}#sk-container-id-1 div.sk-item::before, #sk-container-id-1 div.sk-parallel-item::before {content: \"\";position: absolute;border-left: 1px solid gray;box-sizing: border-box;top: 0;bottom: 0;left: 50%;z-index: -1;}#sk-container-id-1 div.sk-parallel-item {display: flex;flex-direction: column;z-index: 1;position: relative;background-color: white;}#sk-container-id-1 div.sk-parallel-item:first-child::after {align-self: flex-end;width: 50%;}#sk-container-id-1 div.sk-parallel-item:last-child::after {align-self: flex-start;width: 50%;}#sk-container-id-1 div.sk-parallel-item:only-child::after {width: 0;}#sk-container-id-1 div.sk-dashed-wrapped {border: 1px dashed gray;margin: 0 0.4em 0.5em 0.4em;box-sizing: border-box;padding-bottom: 0.4em;background-color: white;}#sk-container-id-1 div.sk-label label {font-family: monospace;font-weight: bold;display: inline-block;line-height: 1.2em;}#sk-container-id-1 div.sk-label-container {text-align: center;}#sk-container-id-1 div.sk-container {/* jupyter's `normalize.less` sets `[hidden] { display: none; }` but bootstrap.min.css set `[hidden] { display: none !important; }` so we also need the `!important` here to be able to override the default hidden behavior on the sphinx rendered scikit-learn.org. See: https://github.com/scikit-learn/scikit-learn/issues/21755 */display: inline-block !important;position: relative;}#sk-container-id-1 div.sk-text-repr-fallback {display: none;}</style><div id=\"sk-container-id-1\" class=\"sk-top-container\"><div class=\"sk-text-repr-fallback\"><pre>XGBClassifier(base_score=None, booster=None, callbacks=None,\n",
              "              colsample_bylevel=None, colsample_bynode=None,\n",
              "              colsample_bytree=None, criterion=&#x27;gini&#x27;, device=None,\n",
              "              early_stopping_rounds=None, enable_categorical=False,\n",
              "              eval_metric=None, feature_types=None, gamma=None,\n",
              "              grow_policy=None, importance_type=None,\n",
              "              interaction_constraints=None, learning_rate=None, max_bin=None,\n",
              "              max_cat_threshold=None, max_cat_to_onehot=None,\n",
              "              max_delta_step=None, max_depth=35, max_leaves=None,\n",
              "              min_child_weight=None, missing=nan, monotone_constraints=None,\n",
              "              multi_strategy=None, n_estimators=100, n_jobs=None,\n",
              "              num_parallel_tree=None, ...)</pre><b>In a Jupyter environment, please rerun this cell to show the HTML representation or trust the notebook. <br />On GitHub, the HTML representation is unable to render, please try loading this page with nbviewer.org.</b></div><div class=\"sk-container\" hidden><div class=\"sk-item\"><div class=\"sk-estimator sk-toggleable\"><input class=\"sk-toggleable__control sk-hidden--visually\" id=\"sk-estimator-id-1\" type=\"checkbox\" checked><label for=\"sk-estimator-id-1\" class=\"sk-toggleable__label sk-toggleable__label-arrow\">XGBClassifier</label><div class=\"sk-toggleable__content\"><pre>XGBClassifier(base_score=None, booster=None, callbacks=None,\n",
              "              colsample_bylevel=None, colsample_bynode=None,\n",
              "              colsample_bytree=None, criterion=&#x27;gini&#x27;, device=None,\n",
              "              early_stopping_rounds=None, enable_categorical=False,\n",
              "              eval_metric=None, feature_types=None, gamma=None,\n",
              "              grow_policy=None, importance_type=None,\n",
              "              interaction_constraints=None, learning_rate=None, max_bin=None,\n",
              "              max_cat_threshold=None, max_cat_to_onehot=None,\n",
              "              max_delta_step=None, max_depth=35, max_leaves=None,\n",
              "              min_child_weight=None, missing=nan, monotone_constraints=None,\n",
              "              multi_strategy=None, n_estimators=100, n_jobs=None,\n",
              "              num_parallel_tree=None, ...)</pre></div></div></div></div></div>"
            ]
          },
          "metadata": {},
          "execution_count": 7
        }
      ]
    },
    {
      "cell_type": "code",
      "source": [
        "filename = 'xgboost.pkl'\n",
        "pickle.dump(xgboost,  open(filename, 'wb'))"
      ],
      "metadata": {
        "id": "4TQVYgT2_yLY"
      },
      "execution_count": null,
      "outputs": []
    },
    {
      "cell_type": "code",
      "source": [
        "xgboostStable = pickle.load(open('/content/drive/Shareddrives/ECEN_758_Project/xgboost.pkl', 'rb'))"
      ],
      "metadata": {
        "id": "S8107q2AbndJ"
      },
      "execution_count": 13,
      "outputs": []
    },
    {
      "cell_type": "code",
      "source": [
        "y_val_rf = xgboostStable.predict(X_val_rf)\n",
        "xgboost_val_proba = xgboostStable.predict_proba(X_test_rf)\n",
        "\n",
        "# fig, ax = plt.subplots(figsize=(10, 5))\n",
        "# ConfusionMatrixDisplay.from_predictions(testdata['label'], y_predTest, ax=ax)\n",
        "# ax.xaxis.set_ticklabels(labels_info.values(), rotation = 90)\n",
        "# ax.yaxis.set_ticklabels(labels_info.values())\n",
        "# _ = ax.set_title(\n",
        "#     f\"Confusion Matrix for Random Forest Classifier Test Set\"\n",
        "# )\n",
        "\n",
        "print(classification_report(y_val_clf, y_val_rf))"
      ],
      "metadata": {
        "colab": {
          "base_uri": "https://localhost:8080/"
        },
        "id": "g-3b8lD2_7Ie",
        "outputId": "07334dfe-1b89-4b99-ea7a-85edb43cb249"
      },
      "execution_count": 16,
      "outputs": [
        {
          "output_type": "stream",
          "name": "stdout",
          "text": [
            "              precision    recall  f1-score   support\n",
            "\n",
            "           0       0.83      0.88      0.85      1202\n",
            "           1       0.99      0.98      0.99      1219\n",
            "           2       0.82      0.85      0.84      1205\n",
            "           3       0.88      0.93      0.90      1184\n",
            "           4       0.82      0.85      0.84      1202\n",
            "           5       0.98      0.97      0.97      1211\n",
            "           6       0.77      0.65      0.70      1218\n",
            "           7       0.95      0.96      0.96      1159\n",
            "           8       0.97      0.97      0.97      1197\n",
            "           9       0.96      0.97      0.96      1203\n",
            "\n",
            "    accuracy                           0.90     12000\n",
            "   macro avg       0.90      0.90      0.90     12000\n",
            "weighted avg       0.90      0.90      0.90     12000\n",
            "\n"
          ]
        }
      ]
    },
    {
      "cell_type": "code",
      "source": [
        "y_test_rf = xgboostStable.predict(X_test_rf)\n",
        "xgboost_test_proba = xgboostStable.predict_proba(X_test_rf)\n",
        "\n",
        "# fig, ax = plt.subplots(figsize=(10, 5))\n",
        "# ConfusionMatrixDisplay.from_predictions(testdata['label'], y_predTest, ax=ax)\n",
        "# ax.xaxis.set_ticklabels(labels_info.values(), rotation = 90)\n",
        "# ax.yaxis.set_ticklabels(labels_info.values())\n",
        "# _ = ax.set_title(\n",
        "#     f\"Confusion Matrix for Random Forest Classifier Test Set\"\n",
        "# )\n",
        "\n",
        "print(classification_report(y_test, y_test_rf))"
      ],
      "metadata": {
        "colab": {
          "base_uri": "https://localhost:8080/"
        },
        "id": "MpEFW8CxAxqy",
        "outputId": "a614411f-060d-4767-a7f2-492ec080de4f"
      },
      "execution_count": 17,
      "outputs": [
        {
          "output_type": "stream",
          "name": "stdout",
          "text": [
            "              precision    recall  f1-score   support\n",
            "\n",
            "           0       0.83      0.87      0.85      1000\n",
            "           1       1.00      0.97      0.98      1000\n",
            "           2       0.79      0.84      0.81      1000\n",
            "           3       0.89      0.92      0.90      1000\n",
            "           4       0.80      0.82      0.81      1000\n",
            "           5       0.98      0.97      0.98      1000\n",
            "           6       0.74      0.63      0.68      1000\n",
            "           7       0.95      0.97      0.96      1000\n",
            "           8       0.97      0.97      0.97      1000\n",
            "           9       0.96      0.96      0.96      1000\n",
            "\n",
            "    accuracy                           0.89     10000\n",
            "   macro avg       0.89      0.89      0.89     10000\n",
            "weighted avg       0.89      0.89      0.89     10000\n",
            "\n"
          ]
        }
      ]
    },
    {
      "cell_type": "code",
      "source": [
        "def getconflicts(classifier1_labels, classifier2_labels):\n",
        "\n",
        "  label_conflicts = np.where(np.not_equal(classifier1_labels, classifier2_labels))\n",
        "  conflicts = []\n",
        "  for i in label_conflicts[0]:\n",
        "    conflicts.append(i)\n",
        "\n",
        "  return conflicts, label_conflicts"
      ],
      "metadata": {
        "id": "g4E-oXEVl5_u"
      },
      "execution_count": 22,
      "outputs": []
    },
    {
      "cell_type": "code",
      "source": [
        "conflicts, _ = getconflicts(xception_test_labels, y_test_rf)"
      ],
      "metadata": {
        "id": "cAiMiXwdmu4I"
      },
      "execution_count": 23,
      "outputs": []
    },
    {
      "cell_type": "code",
      "source": [
        "xgboost_probas = []\n",
        "for i in range(len(xgboost_test_proba)):\n",
        "  xgboost_probas.append(np.max(xgboost_test_proba[i]))"
      ],
      "metadata": {
        "id": "JTlDaX7Ley-Q"
      },
      "execution_count": 66,
      "outputs": []
    },
    {
      "cell_type": "code",
      "source": [
        "xgboost_probas"
      ],
      "metadata": {
        "id": "1fmdysj1e-2Y"
      },
      "execution_count": null,
      "outputs": []
    },
    {
      "cell_type": "code",
      "source": [
        "xception_probas = []\n",
        "for i in range(len(xception_test_proba)):\n",
        "  xception_probas.append(np.max(xception_test_proba[i]))"
      ],
      "metadata": {
        "id": "_Hj-F013dQhZ"
      },
      "execution_count": 39,
      "outputs": []
    },
    {
      "cell_type": "code",
      "source": [
        "len(xception_probas)"
      ],
      "metadata": {
        "id": "ZVTOrJPCeBNU"
      },
      "execution_count": null,
      "outputs": []
    },
    {
      "cell_type": "code",
      "source": [
        "labelconflicts = np.where(np.not_equal(xception_test_labels, y_test_rf))"
      ],
      "metadata": {
        "id": "4h2nRXVscN_q"
      },
      "execution_count": 79,
      "outputs": []
    },
    {
      "cell_type": "code",
      "source": [
        "labelconflicts"
      ],
      "metadata": {
        "colab": {
          "base_uri": "https://localhost:8080/"
        },
        "id": "0h8YNGL3nXIv",
        "outputId": "9d921b74-ef29-489f-a2fa-d819ca9a038f"
      },
      "execution_count": 80,
      "outputs": [
        {
          "output_type": "execute_result",
          "data": {
            "text/plain": [
              "(array([], dtype=int64),)"
            ]
          },
          "metadata": {},
          "execution_count": 80
        }
      ]
    },
    {
      "cell_type": "code",
      "source": [
        "conflicts = []\n",
        "for i in labelconflicts[0]:\n",
        "  conflicts.append(i)"
      ],
      "metadata": {
        "id": "BiIpPusZcg7I"
      },
      "execution_count": 30,
      "outputs": []
    },
    {
      "cell_type": "code",
      "source": [
        "conflicts"
      ],
      "metadata": {
        "id": "JixFmLDziMlJ"
      },
      "execution_count": null,
      "outputs": []
    },
    {
      "cell_type": "code",
      "source": [
        "xgboost_coflict_labels = []\n",
        "for i in conflicts:\n",
        "  xgboost_coflict_labels.append(y_test_rf[i])"
      ],
      "metadata": {
        "id": "KC0q1K9ZfXBl"
      },
      "execution_count": 42,
      "outputs": []
    },
    {
      "cell_type": "code",
      "source": [
        "len(xgboost_coflict_labels)"
      ],
      "metadata": {
        "id": "xJdv9_IEfvqI"
      },
      "execution_count": null,
      "outputs": []
    },
    {
      "cell_type": "code",
      "source": [
        "xception_coflict_labels = []\n",
        "for i in conflicts:\n",
        "  xception_coflict_labels.append(xception_test_labels[i])"
      ],
      "metadata": {
        "id": "stFhi-JWf2kX"
      },
      "execution_count": 45,
      "outputs": []
    },
    {
      "cell_type": "code",
      "source": [
        "len(xception_coflict_labels)"
      ],
      "metadata": {
        "id": "okD31Pgqf_me"
      },
      "execution_count": null,
      "outputs": []
    },
    {
      "cell_type": "code",
      "source": [
        "xgboost_coflict_probas = []\n",
        "for i in conflicts:\n",
        "  xgboost_coflict_probas.append(xgboost_probas[i])"
      ],
      "metadata": {
        "id": "QuGaNn0JhSj3"
      },
      "execution_count": 50,
      "outputs": []
    },
    {
      "cell_type": "code",
      "source": [
        "len(xgboost_coflict_probas)"
      ],
      "metadata": {
        "id": "So-IwlLchYJ9"
      },
      "execution_count": null,
      "outputs": []
    },
    {
      "cell_type": "code",
      "source": [
        "xception_coflict_probas = []\n",
        "for i in conflicts:\n",
        "  xception_coflict_probas.append(xception_probas[i])"
      ],
      "metadata": {
        "id": "xFKVUuh4gRX7"
      },
      "execution_count": 48,
      "outputs": []
    },
    {
      "cell_type": "code",
      "source": [
        "len(xception_coflict_probas)"
      ],
      "metadata": {
        "id": "gtA53uXEhPcq"
      },
      "execution_count": null,
      "outputs": []
    },
    {
      "cell_type": "code",
      "source": [
        "xg = []\n",
        "xc = []\n",
        "\n",
        "for i in range(len(xgboost_coflict_probas)):\n",
        "  if xgboost_coflict_probas[i] > xception_coflict_probas[i]:\n",
        "    xg.append(conflicts[i])\n",
        "  else:\n",
        "    xc.append(conflicts[i])"
      ],
      "metadata": {
        "id": "95jgEm3AhfcH"
      },
      "execution_count": 53,
      "outputs": []
    },
    {
      "cell_type": "code",
      "source": [
        "final_labels = y_test_rf\n",
        "\n",
        "for i in xc:\n",
        "  xc_label = xception_test_labels[i]\n",
        "  final_labels[i] = xc_label"
      ],
      "metadata": {
        "id": "BsFHj_a9idj4"
      },
      "execution_count": 62,
      "outputs": []
    },
    {
      "cell_type": "code",
      "source": [
        "len(final_labels)"
      ],
      "metadata": {
        "colab": {
          "base_uri": "https://localhost:8080/"
        },
        "id": "jf2mHju7jku6",
        "outputId": "28b366ff-75f5-4db5-b4e1-77d3d3c6b423"
      },
      "execution_count": 63,
      "outputs": [
        {
          "output_type": "execute_result",
          "data": {
            "text/plain": [
              "10000"
            ]
          },
          "metadata": {},
          "execution_count": 63
        }
      ]
    },
    {
      "cell_type": "code",
      "source": [
        "print(classification_report(y_test, final_labels))"
      ],
      "metadata": {
        "colab": {
          "base_uri": "https://localhost:8080/"
        },
        "id": "wfEJ2Lkmjr-f",
        "outputId": "921bbb0c-5e03-4fdc-a973-3c647ca9381a"
      },
      "execution_count": 64,
      "outputs": [
        {
          "output_type": "stream",
          "name": "stdout",
          "text": [
            "              precision    recall  f1-score   support\n",
            "\n",
            "           0       0.85      0.89      0.87      1000\n",
            "           1       0.99      0.98      0.99      1000\n",
            "           2       0.87      0.87      0.87      1000\n",
            "           3       0.90      0.91      0.91      1000\n",
            "           4       0.84      0.88      0.86      1000\n",
            "           5       0.98      0.98      0.98      1000\n",
            "           6       0.78      0.71      0.74      1000\n",
            "           7       0.96      0.97      0.96      1000\n",
            "           8       0.97      0.97      0.97      1000\n",
            "           9       0.97      0.96      0.97      1000\n",
            "\n",
            "    accuracy                           0.91     10000\n",
            "   macro avg       0.91      0.91      0.91     10000\n",
            "weighted avg       0.91      0.91      0.91     10000\n",
            "\n"
          ]
        }
      ]
    }
  ]
}